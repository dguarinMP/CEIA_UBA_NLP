{
  "cells": [
    {
      "cell_type": "markdown",
      "metadata": {
        "id": "AYAiV1G1QAYv"
      },
      "source": [
        "<img src=\"https://github.com/hernancontigiani/ceia_memorias_especializacion/raw/master/Figures/logoFIUBA.jpg\" width=\"500\" align=\"center\">\n",
        "\n",
        "\n",
        "# **Procesamiento de Lenguaje Natural**\n",
        "# **Desafío 5: Análisis de sentimiento con BERT**\n",
        "\n",
        "> **Carrera de Especialización en Inteligencia Artificial, Facultad de Ingeniería**\n",
        ">\n",
        "> **Universidad de Buenos Aires, Agosto de 2024**\n",
        ">\n",
        "> Edgar David Guarin Castro (davidg@marketpsychdata.com)\n",
        "\n",
        "En el presente trabajo se lleva a cabo el entrenamiento de un modelo de clasificación de análisis de sentimiento para un dataset de recomendaciones de apps utilizando BERT como encoder.\n",
        "\n",
        "## **0. Importando librerías**"
      ]
    },
    {
      "cell_type": "code",
      "execution_count": 1,
      "metadata": {
        "id": "4dwIEMn0QAYx"
      },
      "outputs": [],
      "source": [
        "import matplotlib.pyplot as plt\n",
        "import numpy as np\n",
        "import os\n",
        "import pandas as pd\n",
        "import random\n",
        "import seaborn as sns\n",
        "import tensorflow\n",
        "\n",
        "from tensorflow.keras.optimizers import Adam\n",
        "from tensorflow.keras.losses import SparseCategoricalCrossentropy\n",
        "from tensorflow.keras.utils import to_categorical\n",
        "from tensorflow.keras.optimizers.schedules import ExponentialDecay\n",
        "from tensorflow.keras.callbacks import ReduceLROnPlateau\n",
        "from transformers import TFBertModel\n",
        "from transformers import InputExample, InputFeatures\n",
        "from transformers import BertTokenizer\n",
        "from sklearn.model_selection import train_test_split"
      ]
    },
    {
      "cell_type": "markdown",
      "metadata": {
        "id": "TqmEbYF5QAYx"
      },
      "source": [
        "## **1. Definiendo el modelo**\n",
        "\n",
        "Inicialmente, se carga un modelo BERT preentrenado. Luego, se imprime un resumen de la arquitectura del modelo, con el fin de verificar las capas y parámetros antes de entrenarlo:\n"
      ]
    },
    {
      "cell_type": "code",
      "execution_count": 2,
      "metadata": {
        "colab": {
          "base_uri": "https://localhost:8080/"
        },
        "id": "ZnIuGeToQAYy",
        "outputId": "b4c49faf-5453-468d-89f4-1fde025e871c"
      },
      "outputs": [
        {
          "output_type": "stream",
          "name": "stderr",
          "text": [
            "/usr/local/lib/python3.10/dist-packages/huggingface_hub/utils/_token.py:89: UserWarning: \n",
            "The secret `HF_TOKEN` does not exist in your Colab secrets.\n",
            "To authenticate with the Hugging Face Hub, create a token in your settings tab (https://huggingface.co/settings/tokens), set it as secret in your Google Colab and restart your session.\n",
            "You will be able to reuse this secret in all of your notebooks.\n",
            "Please note that authentication is recommended but still optional to access public models or datasets.\n",
            "  warnings.warn(\n",
            "Some weights of the PyTorch model were not used when initializing the TF 2.0 model TFBertModel: ['cls.predictions.transform.LayerNorm.weight', 'cls.predictions.transform.dense.bias', 'cls.seq_relationship.weight', 'cls.seq_relationship.bias', 'cls.predictions.transform.dense.weight', 'cls.predictions.bias', 'cls.predictions.transform.LayerNorm.bias']\n",
            "- This IS expected if you are initializing TFBertModel from a PyTorch model trained on another task or with another architecture (e.g. initializing a TFBertForSequenceClassification model from a BertForPreTraining model).\n",
            "- This IS NOT expected if you are initializing TFBertModel from a PyTorch model that you expect to be exactly identical (e.g. initializing a TFBertForSequenceClassification model from a BertForSequenceClassification model).\n",
            "All the weights of TFBertModel were initialized from the PyTorch model.\n",
            "If your task is similar to the task the model of the checkpoint was trained on, you can already use TFBertModel for predictions without further training.\n"
          ]
        },
        {
          "output_type": "stream",
          "name": "stdout",
          "text": [
            "Model: \"tf_bert_model\"\n",
            "_________________________________________________________________\n",
            " Layer (type)                Output Shape              Param #   \n",
            "=================================================================\n",
            " bert (TFBertMainLayer)      multiple                  109482240 \n",
            "                                                                 \n",
            "=================================================================\n",
            "Total params: 109482240 (417.64 MB)\n",
            "Trainable params: 109482240 (417.64 MB)\n",
            "Non-trainable params: 0 (0.00 Byte)\n",
            "_________________________________________________________________\n"
          ]
        }
      ],
      "source": [
        "bert_model = TFBertModel.from_pretrained(\"bert-base-uncased\")\n",
        "bert_model.summary()"
      ]
    },
    {
      "cell_type": "markdown",
      "source": [
        "Usando el modelo BERT cargado anteriormente, se construye ahora un modelo de clasificación de sentimientos utilizando BERT como extractor de características y agregando capas densas para hacer la clasificación con base en esas características.\n",
        "\n",
        "En este caso, se encontró una incompatibilidad de tipos entre las entradas de Keras y lo que espera el modelo BERT en la implementación de transformers, por lo que fue necesario envolver la llamada al modelo BERT dentro de una capa personalizada (`tensorflow.keras.layers.Lambda`) para garantizar que las entradas se procesen correctamente."
      ],
      "metadata": {
        "id": "w8Q6xY_0ij_N"
      }
    },
    {
      "cell_type": "code",
      "source": [
        "#-----------------\n",
        "# Longitud máxima de las secuencias de entrada en tokens\n",
        "#-----------------\n",
        "max_length = 140\n",
        "\n",
        "#-----------------\n",
        "# Número de clases en el problema de clasificación\n",
        "#-----------------\n",
        "output_shape = 3\n",
        "\n",
        "#-----------------\n",
        "# Congelando las capas de BERT para no actualizar sus pesos en el entrenamiento\n",
        "#-----------------\n",
        "bert_model.bert.trainable = False\n",
        "\n",
        "#-----------------\n",
        "# Secuencia de tokens que representan las palabras del texto\n",
        "#-----------------\n",
        "input_ids = tensorflow.keras.layers.Input(shape=(max_length,), dtype=tensorflow.int32, name='input_ids')\n",
        "\n",
        "#-----------------\n",
        "# Mascara para indicar tokens válidos (generalmente 1) y de relleno (generalmente 0)\n",
        "#-----------------\n",
        "attention_mask = tensorflow.keras.layers.Input(shape=(max_length,), dtype=tensorflow.int32, name='attention_mask')\n",
        "\n",
        "#-----------------\n",
        "# Usando Lambda layer para aplicar el modelo BERT\n",
        "#-----------------\n",
        "def apply_bert(inputs):\n",
        "    input_ids, attention_mask = inputs\n",
        "    return bert_model(input_ids=input_ids, attention_mask=attention_mask)[0]\n",
        "\n",
        "#-----------------\n",
        "# Pasando las entradas al modelo BERT\n",
        "#-----------------\n",
        "bert_output = tensorflow.keras.layers.Lambda(apply_bert, output_shape=(max_length, 768))([input_ids, attention_mask])\n",
        "\n",
        "#-----------------\n",
        "# Extrayendo la representación de la secuencia\n",
        "#-----------------\n",
        "pooled_output = tensorflow.keras.layers.GlobalAveragePooling1D()(bert_output)\n",
        "\n",
        "#-----------------\n",
        "# Capa de Dropout con una tasa del 20%\n",
        "#-----------------\n",
        "x = tensorflow.keras.layers.Dropout(0.2)(pooled_output)\n",
        "\n",
        "#-----------------\n",
        "# Capa de salida: Dense(output_shape) indica que tendrá tantas neuronas como clases hay en el problema (3)\n",
        "#-----------------\n",
        "output = tensorflow.keras.layers.Dense(output_shape, activation='softmax')(x)\n",
        "\n",
        "#-----------------\n",
        "# Creando el modelo final con las entradas y salidas\n",
        "#-----------------\n",
        "model = tensorflow.keras.Model(inputs=[input_ids, attention_mask], outputs=output)\n",
        "\n",
        "#-----------------\n",
        "# Compilando el modelo\n",
        "#-----------------\n",
        "model.compile(optimizer='adam', loss='categorical_crossentropy', metrics=['accuracy',tensorflow.keras.metrics.F1Score(average='macro')])\n",
        "\n",
        "#-----------------\n",
        "# Imprimiendo un resumen del modelo\n",
        "#-----------------\n",
        "print(pooled_output,\"\\n\")\n",
        "\n",
        "model.summary()"
      ],
      "metadata": {
        "colab": {
          "base_uri": "https://localhost:8080/",
          "height": 416
        },
        "id": "xRjGkw-haP_N",
        "outputId": "42269cb1-b946-42f5-ac73-a0fc3e431456"
      },
      "execution_count": 3,
      "outputs": [
        {
          "output_type": "stream",
          "name": "stdout",
          "text": [
            "<KerasTensor shape=(None, 768), dtype=float32, sparse=False, name=keras_tensor_1> \n",
            "\n"
          ]
        },
        {
          "output_type": "display_data",
          "data": {
            "text/plain": [
              "\u001b[1mModel: \"functional\"\u001b[0m\n"
            ],
            "text/html": [
              "<pre style=\"white-space:pre;overflow-x:auto;line-height:normal;font-family:Menlo,'DejaVu Sans Mono',consolas,'Courier New',monospace\"><span style=\"font-weight: bold\">Model: \"functional\"</span>\n",
              "</pre>\n"
            ]
          },
          "metadata": {}
        },
        {
          "output_type": "display_data",
          "data": {
            "text/plain": [
              "┏━━━━━━━━━━━━━━━━━━━━━━━━━━━┳━━━━━━━━━━━━━━━━━━━━━━━━┳━━━━━━━━━━━━━━━━┳━━━━━━━━━━━━━━━━━━━━━━━━┓\n",
              "┃\u001b[1m \u001b[0m\u001b[1mLayer (type)             \u001b[0m\u001b[1m \u001b[0m┃\u001b[1m \u001b[0m\u001b[1mOutput Shape          \u001b[0m\u001b[1m \u001b[0m┃\u001b[1m \u001b[0m\u001b[1m       Param #\u001b[0m\u001b[1m \u001b[0m┃\u001b[1m \u001b[0m\u001b[1mConnected to          \u001b[0m\u001b[1m \u001b[0m┃\n",
              "┡━━━━━━━━━━━━━━━━━━━━━━━━━━━╇━━━━━━━━━━━━━━━━━━━━━━━━╇━━━━━━━━━━━━━━━━╇━━━━━━━━━━━━━━━━━━━━━━━━┩\n",
              "│ input_ids (\u001b[38;5;33mInputLayer\u001b[0m)    │ (\u001b[38;5;45mNone\u001b[0m, \u001b[38;5;34m140\u001b[0m)            │              \u001b[38;5;34m0\u001b[0m │ -                      │\n",
              "├───────────────────────────┼────────────────────────┼────────────────┼────────────────────────┤\n",
              "│ attention_mask            │ (\u001b[38;5;45mNone\u001b[0m, \u001b[38;5;34m140\u001b[0m)            │              \u001b[38;5;34m0\u001b[0m │ -                      │\n",
              "│ (\u001b[38;5;33mInputLayer\u001b[0m)              │                        │                │                        │\n",
              "├───────────────────────────┼────────────────────────┼────────────────┼────────────────────────┤\n",
              "│ lambda (\u001b[38;5;33mLambda\u001b[0m)           │ (\u001b[38;5;45mNone\u001b[0m, \u001b[38;5;34m140\u001b[0m, \u001b[38;5;34m768\u001b[0m)       │              \u001b[38;5;34m0\u001b[0m │ input_ids[\u001b[38;5;34m0\u001b[0m][\u001b[38;5;34m0\u001b[0m],       │\n",
              "│                           │                        │                │ attention_mask[\u001b[38;5;34m0\u001b[0m][\u001b[38;5;34m0\u001b[0m]   │\n",
              "├───────────────────────────┼────────────────────────┼────────────────┼────────────────────────┤\n",
              "│ global_average_pooling1d  │ (\u001b[38;5;45mNone\u001b[0m, \u001b[38;5;34m768\u001b[0m)            │              \u001b[38;5;34m0\u001b[0m │ lambda[\u001b[38;5;34m0\u001b[0m][\u001b[38;5;34m0\u001b[0m]           │\n",
              "│ (\u001b[38;5;33mGlobalAveragePooling1D\u001b[0m)  │                        │                │                        │\n",
              "├───────────────────────────┼────────────────────────┼────────────────┼────────────────────────┤\n",
              "│ dropout (\u001b[38;5;33mDropout\u001b[0m)         │ (\u001b[38;5;45mNone\u001b[0m, \u001b[38;5;34m768\u001b[0m)            │              \u001b[38;5;34m0\u001b[0m │ global_average_poolin… │\n",
              "├───────────────────────────┼────────────────────────┼────────────────┼────────────────────────┤\n",
              "│ dense (\u001b[38;5;33mDense\u001b[0m)             │ (\u001b[38;5;45mNone\u001b[0m, \u001b[38;5;34m3\u001b[0m)              │          \u001b[38;5;34m2,307\u001b[0m │ dropout[\u001b[38;5;34m0\u001b[0m][\u001b[38;5;34m0\u001b[0m]          │\n",
              "└───────────────────────────┴────────────────────────┴────────────────┴────────────────────────┘\n"
            ],
            "text/html": [
              "<pre style=\"white-space:pre;overflow-x:auto;line-height:normal;font-family:Menlo,'DejaVu Sans Mono',consolas,'Courier New',monospace\">┏━━━━━━━━━━━━━━━━━━━━━━━━━━━┳━━━━━━━━━━━━━━━━━━━━━━━━┳━━━━━━━━━━━━━━━━┳━━━━━━━━━━━━━━━━━━━━━━━━┓\n",
              "┃<span style=\"font-weight: bold\"> Layer (type)              </span>┃<span style=\"font-weight: bold\"> Output Shape           </span>┃<span style=\"font-weight: bold\">        Param # </span>┃<span style=\"font-weight: bold\"> Connected to           </span>┃\n",
              "┡━━━━━━━━━━━━━━━━━━━━━━━━━━━╇━━━━━━━━━━━━━━━━━━━━━━━━╇━━━━━━━━━━━━━━━━╇━━━━━━━━━━━━━━━━━━━━━━━━┩\n",
              "│ input_ids (<span style=\"color: #0087ff; text-decoration-color: #0087ff\">InputLayer</span>)    │ (<span style=\"color: #00d7ff; text-decoration-color: #00d7ff\">None</span>, <span style=\"color: #00af00; text-decoration-color: #00af00\">140</span>)            │              <span style=\"color: #00af00; text-decoration-color: #00af00\">0</span> │ -                      │\n",
              "├───────────────────────────┼────────────────────────┼────────────────┼────────────────────────┤\n",
              "│ attention_mask            │ (<span style=\"color: #00d7ff; text-decoration-color: #00d7ff\">None</span>, <span style=\"color: #00af00; text-decoration-color: #00af00\">140</span>)            │              <span style=\"color: #00af00; text-decoration-color: #00af00\">0</span> │ -                      │\n",
              "│ (<span style=\"color: #0087ff; text-decoration-color: #0087ff\">InputLayer</span>)              │                        │                │                        │\n",
              "├───────────────────────────┼────────────────────────┼────────────────┼────────────────────────┤\n",
              "│ lambda (<span style=\"color: #0087ff; text-decoration-color: #0087ff\">Lambda</span>)           │ (<span style=\"color: #00d7ff; text-decoration-color: #00d7ff\">None</span>, <span style=\"color: #00af00; text-decoration-color: #00af00\">140</span>, <span style=\"color: #00af00; text-decoration-color: #00af00\">768</span>)       │              <span style=\"color: #00af00; text-decoration-color: #00af00\">0</span> │ input_ids[<span style=\"color: #00af00; text-decoration-color: #00af00\">0</span>][<span style=\"color: #00af00; text-decoration-color: #00af00\">0</span>],       │\n",
              "│                           │                        │                │ attention_mask[<span style=\"color: #00af00; text-decoration-color: #00af00\">0</span>][<span style=\"color: #00af00; text-decoration-color: #00af00\">0</span>]   │\n",
              "├───────────────────────────┼────────────────────────┼────────────────┼────────────────────────┤\n",
              "│ global_average_pooling1d  │ (<span style=\"color: #00d7ff; text-decoration-color: #00d7ff\">None</span>, <span style=\"color: #00af00; text-decoration-color: #00af00\">768</span>)            │              <span style=\"color: #00af00; text-decoration-color: #00af00\">0</span> │ lambda[<span style=\"color: #00af00; text-decoration-color: #00af00\">0</span>][<span style=\"color: #00af00; text-decoration-color: #00af00\">0</span>]           │\n",
              "│ (<span style=\"color: #0087ff; text-decoration-color: #0087ff\">GlobalAveragePooling1D</span>)  │                        │                │                        │\n",
              "├───────────────────────────┼────────────────────────┼────────────────┼────────────────────────┤\n",
              "│ dropout (<span style=\"color: #0087ff; text-decoration-color: #0087ff\">Dropout</span>)         │ (<span style=\"color: #00d7ff; text-decoration-color: #00d7ff\">None</span>, <span style=\"color: #00af00; text-decoration-color: #00af00\">768</span>)            │              <span style=\"color: #00af00; text-decoration-color: #00af00\">0</span> │ global_average_poolin… │\n",
              "├───────────────────────────┼────────────────────────┼────────────────┼────────────────────────┤\n",
              "│ dense (<span style=\"color: #0087ff; text-decoration-color: #0087ff\">Dense</span>)             │ (<span style=\"color: #00d7ff; text-decoration-color: #00d7ff\">None</span>, <span style=\"color: #00af00; text-decoration-color: #00af00\">3</span>)              │          <span style=\"color: #00af00; text-decoration-color: #00af00\">2,307</span> │ dropout[<span style=\"color: #00af00; text-decoration-color: #00af00\">0</span>][<span style=\"color: #00af00; text-decoration-color: #00af00\">0</span>]          │\n",
              "└───────────────────────────┴────────────────────────┴────────────────┴────────────────────────┘\n",
              "</pre>\n"
            ]
          },
          "metadata": {}
        },
        {
          "output_type": "display_data",
          "data": {
            "text/plain": [
              "\u001b[1m Total params: \u001b[0m\u001b[38;5;34m2,307\u001b[0m (9.01 KB)\n"
            ],
            "text/html": [
              "<pre style=\"white-space:pre;overflow-x:auto;line-height:normal;font-family:Menlo,'DejaVu Sans Mono',consolas,'Courier New',monospace\"><span style=\"font-weight: bold\"> Total params: </span><span style=\"color: #00af00; text-decoration-color: #00af00\">2,307</span> (9.01 KB)\n",
              "</pre>\n"
            ]
          },
          "metadata": {}
        },
        {
          "output_type": "display_data",
          "data": {
            "text/plain": [
              "\u001b[1m Trainable params: \u001b[0m\u001b[38;5;34m2,307\u001b[0m (9.01 KB)\n"
            ],
            "text/html": [
              "<pre style=\"white-space:pre;overflow-x:auto;line-height:normal;font-family:Menlo,'DejaVu Sans Mono',consolas,'Courier New',monospace\"><span style=\"font-weight: bold\"> Trainable params: </span><span style=\"color: #00af00; text-decoration-color: #00af00\">2,307</span> (9.01 KB)\n",
              "</pre>\n"
            ]
          },
          "metadata": {}
        },
        {
          "output_type": "display_data",
          "data": {
            "text/plain": [
              "\u001b[1m Non-trainable params: \u001b[0m\u001b[38;5;34m0\u001b[0m (0.00 B)\n"
            ],
            "text/html": [
              "<pre style=\"white-space:pre;overflow-x:auto;line-height:normal;font-family:Menlo,'DejaVu Sans Mono',consolas,'Courier New',monospace\"><span style=\"font-weight: bold\"> Non-trainable params: </span><span style=\"color: #00af00; text-decoration-color: #00af00\">0</span> (0.00 B)\n",
              "</pre>\n"
            ]
          },
          "metadata": {}
        }
      ]
    },
    {
      "cell_type": "markdown",
      "source": [
        "Para visualizar las métricas de rendimiento del modelo durante el entrenamiento, se definen las siguientes funciones. Estas funciones crean gráficos que muestran cómo cambian la precisión (accuracy) y el puntaje F1 (f1_score) a lo largo de las épocas de entrenamiento.\n",
        "\n",
        "Las funciones toman como argumento el objeto `history` que es el resultado de entrenar un modelo en Keras (el objeto retornado por model.fit). Contiene un diccionario (history.history) con los valores de las métricas de rendimiento (como accuracy, f1_score, val_accuracy, val_f1_score, etc.)."
      ],
      "metadata": {
        "id": "b8VLwT7Xer8D"
      }
    },
    {
      "cell_type": "code",
      "source": [
        "#-----------------\n",
        "# Función para visualizar la precisión\n",
        "#-----------------\n",
        "def plot_accuracy(history):\n",
        "    epoch_count = range(1, len(history.history['accuracy']) + 1)\n",
        "    sns.lineplot(x=epoch_count,  y=history.history['accuracy'], label='train')\n",
        "    sns.lineplot(x=epoch_count,  y=history.history['val_accuracy'], label='valid')\n",
        "    plt.xlabel('Epocas')\n",
        "    plt.ylabel('Precisión')\n",
        "    plt.show()\n",
        "\n",
        "#-----------------\n",
        "# Función para visualizar el puntaje F1\n",
        "#-----------------\n",
        "def plot_f1_score(history):\n",
        "    epoch_count = range(1, len(history.history['f1_score']) + 1)\n",
        "    sns.lineplot(x=epoch_count,  y=history.history['f1_score'], label='train')\n",
        "    sns.lineplot(x=epoch_count,  y=history.history['val_f1_score'], label='valid')\n",
        "    plt.xlabel('Epocas')\n",
        "    plt.ylabel('F1 Score')\n",
        "    plt.show()"
      ],
      "metadata": {
        "id": "BRMAocqNafAW"
      },
      "execution_count": 4,
      "outputs": []
    },
    {
      "cell_type": "markdown",
      "source": [
        "## **2. Cargando los datos**\n",
        "\n",
        "Se usará el dataset de críticas de Google Apps disponible en formato csv:"
      ],
      "metadata": {
        "id": "zVve9JuUaoeF"
      }
    },
    {
      "cell_type": "code",
      "source": [
        "#-----------------\n",
        "# Descargando la carpeta de dataset\n",
        "#-----------------\n",
        "!curl -L -o 'apps.csv' 'https://drive.google.com/u/0/uc?id=1S6qMioqPJjyBLpLVz4gmRTnJHnjitnuV&export=download&confirm=t'\n",
        "!curl -L -o 'reviews.csv' 'https://drive.google.com/u/0/uc?id=1zdmewp7ayS4js4VtrJEHzAheSW-5NBZv&export=download&confirm=t'"
      ],
      "metadata": {
        "colab": {
          "base_uri": "https://localhost:8080/"
        },
        "id": "2XXuT8sEatEw",
        "outputId": "cd0edfc9-c4f9-4ef4-d55a-91e3702aa541"
      },
      "execution_count": 5,
      "outputs": [
        {
          "output_type": "stream",
          "name": "stdout",
          "text": [
            "  % Total    % Received % Xferd  Average Speed   Time    Time     Time  Current\n",
            "                                 Dload  Upload   Total   Spent    Left  Speed\n",
            "  0     0    0     0    0     0      0      0 --:--:-- --:--:-- --:--:--     0\n",
            "  0     0    0     0    0     0      0      0 --:--:-- --:--:-- --:--:--     0\n",
            "100  131k  100  131k    0     0  42356      0  0:00:03  0:00:03 --:--:-- 98412\n",
            "  % Total    % Received % Xferd  Average Speed   Time    Time     Time  Current\n",
            "                                 Dload  Upload   Total   Spent    Left  Speed\n",
            "  0     0    0     0    0     0      0      0 --:--:-- --:--:-- --:--:--     0\n",
            "  0     0    0     0    0     0      0      0 --:--:-- --:--:-- --:--:--     0\n",
            "100 7002k  100 7002k    0     0   378k      0  0:00:18  0:00:18 --:--:-- 1871k\n"
          ]
        }
      ]
    },
    {
      "cell_type": "markdown",
      "source": [
        "Del dataset se usa el archivo `reviews.csv` para cargarlo en un DataFrame de pandas, ya que este archivo contiene los datos de las reseñas de las aplicaciones, incluyendo las puntuaciones (ratings):"
      ],
      "metadata": {
        "id": "mrxJULmFg44W"
      }
    },
    {
      "cell_type": "code",
      "source": [
        "#-----------------\n",
        "# Cargando el dataset de reviews\n",
        "#-----------------\n",
        "df = pd.read_csv('reviews.csv')\n",
        "df"
      ],
      "metadata": {
        "colab": {
          "base_uri": "https://localhost:8080/",
          "height": 1000
        },
        "id": "VAkZfgMTa0HE",
        "outputId": "44f5b075-0a28-4aed-b6d2-24c026578ff1"
      },
      "execution_count": 6,
      "outputs": [
        {
          "output_type": "execute_result",
          "data": {
            "text/plain": [
              "                userName                                          userImage  \\\n",
              "0          Andrew Thomas  https://lh3.googleusercontent.com/a-/AOh14GiHd...   \n",
              "1           Craig Haines  https://lh3.googleusercontent.com/-hoe0kwSJgPQ...   \n",
              "2          steven adkins  https://lh3.googleusercontent.com/a-/AOh14GiXw...   \n",
              "3       Lars Panzerbjørn  https://lh3.googleusercontent.com/a-/AOh14Gg-h...   \n",
              "4          Scott Prewitt  https://lh3.googleusercontent.com/-K-X1-YsVd6U...   \n",
              "...                  ...                                                ...   \n",
              "15741          Tammy Kay  https://lh3.googleusercontent.com/a-/AOh14GhYP...   \n",
              "15742          Ysm Johan  https://lh3.googleusercontent.com/a-/AOh14Ggmd...   \n",
              "15743      casey dearden  https://lh3.googleusercontent.com/a-/AOh14Gg2U...   \n",
              "15744     Jerry G Tamate  https://lh3.googleusercontent.com/a-/AOh14GiTP...   \n",
              "15745  Ahmed elsalamouni  https://lh3.googleusercontent.com/-9QSxVUhCoDI...   \n",
              "\n",
              "                                                 content  score  \\\n",
              "0      Update: After getting a response from the deve...      1   \n",
              "1      Used it for a fair amount of time without any ...      1   \n",
              "2      Your app sucks now!!!!! Used to be good but no...      1   \n",
              "3      It seems OK, but very basic. Recurring tasks n...      1   \n",
              "4      Absolutely worthless. This app runs a prohibit...      1   \n",
              "...                                                  ...    ...   \n",
              "15741  I believe that this is by far the best app wit...      5   \n",
              "15742                       It sometimes crashes a lot!!      5   \n",
              "15743                         Works well for what I need      5   \n",
              "15744                                           Love it.      5   \n",
              "15745  Really amazing and helped me sooo much just i ...      5   \n",
              "\n",
              "       thumbsUpCount reviewCreatedVersion                   at  \\\n",
              "0                 21             4.17.0.3  2020-04-05 22:25:57   \n",
              "1                 11             4.17.0.3  2020-04-04 13:40:01   \n",
              "2                 17             4.17.0.3  2020-04-01 16:18:13   \n",
              "3                192             4.17.0.2  2020-03-12 08:17:34   \n",
              "4                 42             4.17.0.2  2020-03-14 17:41:01   \n",
              "...              ...                  ...                  ...   \n",
              "15741              0                  NaN  2018-02-17 06:09:03   \n",
              "15742              0                4.3.7  2018-02-15 10:45:22   \n",
              "15743              0                4.3.7  2018-02-09 18:40:37   \n",
              "15744              0                  NaN  2018-02-06 12:36:17   \n",
              "15745              6                4.3.7  2018-02-04 22:57:09   \n",
              "\n",
              "                                            replyContent            repliedAt  \\\n",
              "0      According to our TOS, and the term you have ag...  2020-04-05 15:10:24   \n",
              "1      It sounds like you logged in with a different ...  2020-04-05 15:11:35   \n",
              "2      This sounds odd! We are not aware of any issue...  2020-04-02 16:05:56   \n",
              "3      We do offer this option as part of the Advance...  2020-03-15 06:20:13   \n",
              "4      We're sorry you feel this way! 90% of the app ...  2020-03-15 23:45:51   \n",
              "...                                                  ...                  ...   \n",
              "15741                                                NaN                  NaN   \n",
              "15742                                                NaN                  NaN   \n",
              "15743                                                NaN                  NaN   \n",
              "15744                                                NaN                  NaN   \n",
              "15745                                                NaN                  NaN   \n",
              "\n",
              "           sortOrder              appId  \n",
              "0      most_relevant          com.anydo  \n",
              "1      most_relevant          com.anydo  \n",
              "2      most_relevant          com.anydo  \n",
              "3      most_relevant          com.anydo  \n",
              "4      most_relevant          com.anydo  \n",
              "...              ...                ...  \n",
              "15741         newest  com.appxy.planner  \n",
              "15742         newest  com.appxy.planner  \n",
              "15743         newest  com.appxy.planner  \n",
              "15744         newest  com.appxy.planner  \n",
              "15745         newest  com.appxy.planner  \n",
              "\n",
              "[15746 rows x 11 columns]"
            ],
            "text/html": [
              "\n",
              "  <div id=\"df-99277461-4767-4c95-8af3-3999d758a6df\" class=\"colab-df-container\">\n",
              "    <div>\n",
              "<style scoped>\n",
              "    .dataframe tbody tr th:only-of-type {\n",
              "        vertical-align: middle;\n",
              "    }\n",
              "\n",
              "    .dataframe tbody tr th {\n",
              "        vertical-align: top;\n",
              "    }\n",
              "\n",
              "    .dataframe thead th {\n",
              "        text-align: right;\n",
              "    }\n",
              "</style>\n",
              "<table border=\"1\" class=\"dataframe\">\n",
              "  <thead>\n",
              "    <tr style=\"text-align: right;\">\n",
              "      <th></th>\n",
              "      <th>userName</th>\n",
              "      <th>userImage</th>\n",
              "      <th>content</th>\n",
              "      <th>score</th>\n",
              "      <th>thumbsUpCount</th>\n",
              "      <th>reviewCreatedVersion</th>\n",
              "      <th>at</th>\n",
              "      <th>replyContent</th>\n",
              "      <th>repliedAt</th>\n",
              "      <th>sortOrder</th>\n",
              "      <th>appId</th>\n",
              "    </tr>\n",
              "  </thead>\n",
              "  <tbody>\n",
              "    <tr>\n",
              "      <th>0</th>\n",
              "      <td>Andrew Thomas</td>\n",
              "      <td>https://lh3.googleusercontent.com/a-/AOh14GiHd...</td>\n",
              "      <td>Update: After getting a response from the deve...</td>\n",
              "      <td>1</td>\n",
              "      <td>21</td>\n",
              "      <td>4.17.0.3</td>\n",
              "      <td>2020-04-05 22:25:57</td>\n",
              "      <td>According to our TOS, and the term you have ag...</td>\n",
              "      <td>2020-04-05 15:10:24</td>\n",
              "      <td>most_relevant</td>\n",
              "      <td>com.anydo</td>\n",
              "    </tr>\n",
              "    <tr>\n",
              "      <th>1</th>\n",
              "      <td>Craig Haines</td>\n",
              "      <td>https://lh3.googleusercontent.com/-hoe0kwSJgPQ...</td>\n",
              "      <td>Used it for a fair amount of time without any ...</td>\n",
              "      <td>1</td>\n",
              "      <td>11</td>\n",
              "      <td>4.17.0.3</td>\n",
              "      <td>2020-04-04 13:40:01</td>\n",
              "      <td>It sounds like you logged in with a different ...</td>\n",
              "      <td>2020-04-05 15:11:35</td>\n",
              "      <td>most_relevant</td>\n",
              "      <td>com.anydo</td>\n",
              "    </tr>\n",
              "    <tr>\n",
              "      <th>2</th>\n",
              "      <td>steven adkins</td>\n",
              "      <td>https://lh3.googleusercontent.com/a-/AOh14GiXw...</td>\n",
              "      <td>Your app sucks now!!!!! Used to be good but no...</td>\n",
              "      <td>1</td>\n",
              "      <td>17</td>\n",
              "      <td>4.17.0.3</td>\n",
              "      <td>2020-04-01 16:18:13</td>\n",
              "      <td>This sounds odd! We are not aware of any issue...</td>\n",
              "      <td>2020-04-02 16:05:56</td>\n",
              "      <td>most_relevant</td>\n",
              "      <td>com.anydo</td>\n",
              "    </tr>\n",
              "    <tr>\n",
              "      <th>3</th>\n",
              "      <td>Lars Panzerbjørn</td>\n",
              "      <td>https://lh3.googleusercontent.com/a-/AOh14Gg-h...</td>\n",
              "      <td>It seems OK, but very basic. Recurring tasks n...</td>\n",
              "      <td>1</td>\n",
              "      <td>192</td>\n",
              "      <td>4.17.0.2</td>\n",
              "      <td>2020-03-12 08:17:34</td>\n",
              "      <td>We do offer this option as part of the Advance...</td>\n",
              "      <td>2020-03-15 06:20:13</td>\n",
              "      <td>most_relevant</td>\n",
              "      <td>com.anydo</td>\n",
              "    </tr>\n",
              "    <tr>\n",
              "      <th>4</th>\n",
              "      <td>Scott Prewitt</td>\n",
              "      <td>https://lh3.googleusercontent.com/-K-X1-YsVd6U...</td>\n",
              "      <td>Absolutely worthless. This app runs a prohibit...</td>\n",
              "      <td>1</td>\n",
              "      <td>42</td>\n",
              "      <td>4.17.0.2</td>\n",
              "      <td>2020-03-14 17:41:01</td>\n",
              "      <td>We're sorry you feel this way! 90% of the app ...</td>\n",
              "      <td>2020-03-15 23:45:51</td>\n",
              "      <td>most_relevant</td>\n",
              "      <td>com.anydo</td>\n",
              "    </tr>\n",
              "    <tr>\n",
              "      <th>...</th>\n",
              "      <td>...</td>\n",
              "      <td>...</td>\n",
              "      <td>...</td>\n",
              "      <td>...</td>\n",
              "      <td>...</td>\n",
              "      <td>...</td>\n",
              "      <td>...</td>\n",
              "      <td>...</td>\n",
              "      <td>...</td>\n",
              "      <td>...</td>\n",
              "      <td>...</td>\n",
              "    </tr>\n",
              "    <tr>\n",
              "      <th>15741</th>\n",
              "      <td>Tammy Kay</td>\n",
              "      <td>https://lh3.googleusercontent.com/a-/AOh14GhYP...</td>\n",
              "      <td>I believe that this is by far the best app wit...</td>\n",
              "      <td>5</td>\n",
              "      <td>0</td>\n",
              "      <td>NaN</td>\n",
              "      <td>2018-02-17 06:09:03</td>\n",
              "      <td>NaN</td>\n",
              "      <td>NaN</td>\n",
              "      <td>newest</td>\n",
              "      <td>com.appxy.planner</td>\n",
              "    </tr>\n",
              "    <tr>\n",
              "      <th>15742</th>\n",
              "      <td>Ysm Johan</td>\n",
              "      <td>https://lh3.googleusercontent.com/a-/AOh14Ggmd...</td>\n",
              "      <td>It sometimes crashes a lot!!</td>\n",
              "      <td>5</td>\n",
              "      <td>0</td>\n",
              "      <td>4.3.7</td>\n",
              "      <td>2018-02-15 10:45:22</td>\n",
              "      <td>NaN</td>\n",
              "      <td>NaN</td>\n",
              "      <td>newest</td>\n",
              "      <td>com.appxy.planner</td>\n",
              "    </tr>\n",
              "    <tr>\n",
              "      <th>15743</th>\n",
              "      <td>casey dearden</td>\n",
              "      <td>https://lh3.googleusercontent.com/a-/AOh14Gg2U...</td>\n",
              "      <td>Works well for what I need</td>\n",
              "      <td>5</td>\n",
              "      <td>0</td>\n",
              "      <td>4.3.7</td>\n",
              "      <td>2018-02-09 18:40:37</td>\n",
              "      <td>NaN</td>\n",
              "      <td>NaN</td>\n",
              "      <td>newest</td>\n",
              "      <td>com.appxy.planner</td>\n",
              "    </tr>\n",
              "    <tr>\n",
              "      <th>15744</th>\n",
              "      <td>Jerry G Tamate</td>\n",
              "      <td>https://lh3.googleusercontent.com/a-/AOh14GiTP...</td>\n",
              "      <td>Love it.</td>\n",
              "      <td>5</td>\n",
              "      <td>0</td>\n",
              "      <td>NaN</td>\n",
              "      <td>2018-02-06 12:36:17</td>\n",
              "      <td>NaN</td>\n",
              "      <td>NaN</td>\n",
              "      <td>newest</td>\n",
              "      <td>com.appxy.planner</td>\n",
              "    </tr>\n",
              "    <tr>\n",
              "      <th>15745</th>\n",
              "      <td>Ahmed elsalamouni</td>\n",
              "      <td>https://lh3.googleusercontent.com/-9QSxVUhCoDI...</td>\n",
              "      <td>Really amazing and helped me sooo much just i ...</td>\n",
              "      <td>5</td>\n",
              "      <td>6</td>\n",
              "      <td>4.3.7</td>\n",
              "      <td>2018-02-04 22:57:09</td>\n",
              "      <td>NaN</td>\n",
              "      <td>NaN</td>\n",
              "      <td>newest</td>\n",
              "      <td>com.appxy.planner</td>\n",
              "    </tr>\n",
              "  </tbody>\n",
              "</table>\n",
              "<p>15746 rows × 11 columns</p>\n",
              "</div>\n",
              "    <div class=\"colab-df-buttons\">\n",
              "\n",
              "  <div class=\"colab-df-container\">\n",
              "    <button class=\"colab-df-convert\" onclick=\"convertToInteractive('df-99277461-4767-4c95-8af3-3999d758a6df')\"\n",
              "            title=\"Convert this dataframe to an interactive table.\"\n",
              "            style=\"display:none;\">\n",
              "\n",
              "  <svg xmlns=\"http://www.w3.org/2000/svg\" height=\"24px\" viewBox=\"0 -960 960 960\">\n",
              "    <path d=\"M120-120v-720h720v720H120Zm60-500h600v-160H180v160Zm220 220h160v-160H400v160Zm0 220h160v-160H400v160ZM180-400h160v-160H180v160Zm440 0h160v-160H620v160ZM180-180h160v-160H180v160Zm440 0h160v-160H620v160Z\"/>\n",
              "  </svg>\n",
              "    </button>\n",
              "\n",
              "  <style>\n",
              "    .colab-df-container {\n",
              "      display:flex;\n",
              "      gap: 12px;\n",
              "    }\n",
              "\n",
              "    .colab-df-convert {\n",
              "      background-color: #E8F0FE;\n",
              "      border: none;\n",
              "      border-radius: 50%;\n",
              "      cursor: pointer;\n",
              "      display: none;\n",
              "      fill: #1967D2;\n",
              "      height: 32px;\n",
              "      padding: 0 0 0 0;\n",
              "      width: 32px;\n",
              "    }\n",
              "\n",
              "    .colab-df-convert:hover {\n",
              "      background-color: #E2EBFA;\n",
              "      box-shadow: 0px 1px 2px rgba(60, 64, 67, 0.3), 0px 1px 3px 1px rgba(60, 64, 67, 0.15);\n",
              "      fill: #174EA6;\n",
              "    }\n",
              "\n",
              "    .colab-df-buttons div {\n",
              "      margin-bottom: 4px;\n",
              "    }\n",
              "\n",
              "    [theme=dark] .colab-df-convert {\n",
              "      background-color: #3B4455;\n",
              "      fill: #D2E3FC;\n",
              "    }\n",
              "\n",
              "    [theme=dark] .colab-df-convert:hover {\n",
              "      background-color: #434B5C;\n",
              "      box-shadow: 0px 1px 3px 1px rgba(0, 0, 0, 0.15);\n",
              "      filter: drop-shadow(0px 1px 2px rgba(0, 0, 0, 0.3));\n",
              "      fill: #FFFFFF;\n",
              "    }\n",
              "  </style>\n",
              "\n",
              "    <script>\n",
              "      const buttonEl =\n",
              "        document.querySelector('#df-99277461-4767-4c95-8af3-3999d758a6df button.colab-df-convert');\n",
              "      buttonEl.style.display =\n",
              "        google.colab.kernel.accessAllowed ? 'block' : 'none';\n",
              "\n",
              "      async function convertToInteractive(key) {\n",
              "        const element = document.querySelector('#df-99277461-4767-4c95-8af3-3999d758a6df');\n",
              "        const dataTable =\n",
              "          await google.colab.kernel.invokeFunction('convertToInteractive',\n",
              "                                                    [key], {});\n",
              "        if (!dataTable) return;\n",
              "\n",
              "        const docLinkHtml = 'Like what you see? Visit the ' +\n",
              "          '<a target=\"_blank\" href=https://colab.research.google.com/notebooks/data_table.ipynb>data table notebook</a>'\n",
              "          + ' to learn more about interactive tables.';\n",
              "        element.innerHTML = '';\n",
              "        dataTable['output_type'] = 'display_data';\n",
              "        await google.colab.output.renderOutput(dataTable, element);\n",
              "        const docLink = document.createElement('div');\n",
              "        docLink.innerHTML = docLinkHtml;\n",
              "        element.appendChild(docLink);\n",
              "      }\n",
              "    </script>\n",
              "  </div>\n",
              "\n",
              "\n",
              "<div id=\"df-92c939d4-5f78-4e15-ae4b-0e424cd909b2\">\n",
              "  <button class=\"colab-df-quickchart\" onclick=\"quickchart('df-92c939d4-5f78-4e15-ae4b-0e424cd909b2')\"\n",
              "            title=\"Suggest charts\"\n",
              "            style=\"display:none;\">\n",
              "\n",
              "<svg xmlns=\"http://www.w3.org/2000/svg\" height=\"24px\"viewBox=\"0 0 24 24\"\n",
              "     width=\"24px\">\n",
              "    <g>\n",
              "        <path d=\"M19 3H5c-1.1 0-2 .9-2 2v14c0 1.1.9 2 2 2h14c1.1 0 2-.9 2-2V5c0-1.1-.9-2-2-2zM9 17H7v-7h2v7zm4 0h-2V7h2v10zm4 0h-2v-4h2v4z\"/>\n",
              "    </g>\n",
              "</svg>\n",
              "  </button>\n",
              "\n",
              "<style>\n",
              "  .colab-df-quickchart {\n",
              "      --bg-color: #E8F0FE;\n",
              "      --fill-color: #1967D2;\n",
              "      --hover-bg-color: #E2EBFA;\n",
              "      --hover-fill-color: #174EA6;\n",
              "      --disabled-fill-color: #AAA;\n",
              "      --disabled-bg-color: #DDD;\n",
              "  }\n",
              "\n",
              "  [theme=dark] .colab-df-quickchart {\n",
              "      --bg-color: #3B4455;\n",
              "      --fill-color: #D2E3FC;\n",
              "      --hover-bg-color: #434B5C;\n",
              "      --hover-fill-color: #FFFFFF;\n",
              "      --disabled-bg-color: #3B4455;\n",
              "      --disabled-fill-color: #666;\n",
              "  }\n",
              "\n",
              "  .colab-df-quickchart {\n",
              "    background-color: var(--bg-color);\n",
              "    border: none;\n",
              "    border-radius: 50%;\n",
              "    cursor: pointer;\n",
              "    display: none;\n",
              "    fill: var(--fill-color);\n",
              "    height: 32px;\n",
              "    padding: 0;\n",
              "    width: 32px;\n",
              "  }\n",
              "\n",
              "  .colab-df-quickchart:hover {\n",
              "    background-color: var(--hover-bg-color);\n",
              "    box-shadow: 0 1px 2px rgba(60, 64, 67, 0.3), 0 1px 3px 1px rgba(60, 64, 67, 0.15);\n",
              "    fill: var(--button-hover-fill-color);\n",
              "  }\n",
              "\n",
              "  .colab-df-quickchart-complete:disabled,\n",
              "  .colab-df-quickchart-complete:disabled:hover {\n",
              "    background-color: var(--disabled-bg-color);\n",
              "    fill: var(--disabled-fill-color);\n",
              "    box-shadow: none;\n",
              "  }\n",
              "\n",
              "  .colab-df-spinner {\n",
              "    border: 2px solid var(--fill-color);\n",
              "    border-color: transparent;\n",
              "    border-bottom-color: var(--fill-color);\n",
              "    animation:\n",
              "      spin 1s steps(1) infinite;\n",
              "  }\n",
              "\n",
              "  @keyframes spin {\n",
              "    0% {\n",
              "      border-color: transparent;\n",
              "      border-bottom-color: var(--fill-color);\n",
              "      border-left-color: var(--fill-color);\n",
              "    }\n",
              "    20% {\n",
              "      border-color: transparent;\n",
              "      border-left-color: var(--fill-color);\n",
              "      border-top-color: var(--fill-color);\n",
              "    }\n",
              "    30% {\n",
              "      border-color: transparent;\n",
              "      border-left-color: var(--fill-color);\n",
              "      border-top-color: var(--fill-color);\n",
              "      border-right-color: var(--fill-color);\n",
              "    }\n",
              "    40% {\n",
              "      border-color: transparent;\n",
              "      border-right-color: var(--fill-color);\n",
              "      border-top-color: var(--fill-color);\n",
              "    }\n",
              "    60% {\n",
              "      border-color: transparent;\n",
              "      border-right-color: var(--fill-color);\n",
              "    }\n",
              "    80% {\n",
              "      border-color: transparent;\n",
              "      border-right-color: var(--fill-color);\n",
              "      border-bottom-color: var(--fill-color);\n",
              "    }\n",
              "    90% {\n",
              "      border-color: transparent;\n",
              "      border-bottom-color: var(--fill-color);\n",
              "    }\n",
              "  }\n",
              "</style>\n",
              "\n",
              "  <script>\n",
              "    async function quickchart(key) {\n",
              "      const quickchartButtonEl =\n",
              "        document.querySelector('#' + key + ' button');\n",
              "      quickchartButtonEl.disabled = true;  // To prevent multiple clicks.\n",
              "      quickchartButtonEl.classList.add('colab-df-spinner');\n",
              "      try {\n",
              "        const charts = await google.colab.kernel.invokeFunction(\n",
              "            'suggestCharts', [key], {});\n",
              "      } catch (error) {\n",
              "        console.error('Error during call to suggestCharts:', error);\n",
              "      }\n",
              "      quickchartButtonEl.classList.remove('colab-df-spinner');\n",
              "      quickchartButtonEl.classList.add('colab-df-quickchart-complete');\n",
              "    }\n",
              "    (() => {\n",
              "      let quickchartButtonEl =\n",
              "        document.querySelector('#df-92c939d4-5f78-4e15-ae4b-0e424cd909b2 button');\n",
              "      quickchartButtonEl.style.display =\n",
              "        google.colab.kernel.accessAllowed ? 'block' : 'none';\n",
              "    })();\n",
              "  </script>\n",
              "</div>\n",
              "\n",
              "  <div id=\"id_5bf779c8-9a21-47d8-ba86-eaa348650b66\">\n",
              "    <style>\n",
              "      .colab-df-generate {\n",
              "        background-color: #E8F0FE;\n",
              "        border: none;\n",
              "        border-radius: 50%;\n",
              "        cursor: pointer;\n",
              "        display: none;\n",
              "        fill: #1967D2;\n",
              "        height: 32px;\n",
              "        padding: 0 0 0 0;\n",
              "        width: 32px;\n",
              "      }\n",
              "\n",
              "      .colab-df-generate:hover {\n",
              "        background-color: #E2EBFA;\n",
              "        box-shadow: 0px 1px 2px rgba(60, 64, 67, 0.3), 0px 1px 3px 1px rgba(60, 64, 67, 0.15);\n",
              "        fill: #174EA6;\n",
              "      }\n",
              "\n",
              "      [theme=dark] .colab-df-generate {\n",
              "        background-color: #3B4455;\n",
              "        fill: #D2E3FC;\n",
              "      }\n",
              "\n",
              "      [theme=dark] .colab-df-generate:hover {\n",
              "        background-color: #434B5C;\n",
              "        box-shadow: 0px 1px 3px 1px rgba(0, 0, 0, 0.15);\n",
              "        filter: drop-shadow(0px 1px 2px rgba(0, 0, 0, 0.3));\n",
              "        fill: #FFFFFF;\n",
              "      }\n",
              "    </style>\n",
              "    <button class=\"colab-df-generate\" onclick=\"generateWithVariable('df')\"\n",
              "            title=\"Generate code using this dataframe.\"\n",
              "            style=\"display:none;\">\n",
              "\n",
              "  <svg xmlns=\"http://www.w3.org/2000/svg\" height=\"24px\"viewBox=\"0 0 24 24\"\n",
              "       width=\"24px\">\n",
              "    <path d=\"M7,19H8.4L18.45,9,17,7.55,7,17.6ZM5,21V16.75L18.45,3.32a2,2,0,0,1,2.83,0l1.4,1.43a1.91,1.91,0,0,1,.58,1.4,1.91,1.91,0,0,1-.58,1.4L9.25,21ZM18.45,9,17,7.55Zm-12,3A5.31,5.31,0,0,0,4.9,8.1,5.31,5.31,0,0,0,1,6.5,5.31,5.31,0,0,0,4.9,4.9,5.31,5.31,0,0,0,6.5,1,5.31,5.31,0,0,0,8.1,4.9,5.31,5.31,0,0,0,12,6.5,5.46,5.46,0,0,0,6.5,12Z\"/>\n",
              "  </svg>\n",
              "    </button>\n",
              "    <script>\n",
              "      (() => {\n",
              "      const buttonEl =\n",
              "        document.querySelector('#id_5bf779c8-9a21-47d8-ba86-eaa348650b66 button.colab-df-generate');\n",
              "      buttonEl.style.display =\n",
              "        google.colab.kernel.accessAllowed ? 'block' : 'none';\n",
              "\n",
              "      buttonEl.onclick = () => {\n",
              "        google.colab.notebook.generateWithVariable('df');\n",
              "      }\n",
              "      })();\n",
              "    </script>\n",
              "  </div>\n",
              "\n",
              "    </div>\n",
              "  </div>\n"
            ],
            "application/vnd.google.colaboratory.intrinsic+json": {
              "type": "dataframe",
              "variable_name": "df",
              "summary": "{\n  \"name\": \"df\",\n  \"rows\": 15746,\n  \"fields\": [\n    {\n      \"column\": \"userName\",\n      \"properties\": {\n        \"dtype\": \"string\",\n        \"num_unique_values\": 9948,\n        \"samples\": [\n          \"Sally Simpson\",\n          \"TG4 Life\",\n          \"Jaiprakash Sewram\"\n        ],\n        \"semantic_type\": \"\",\n        \"description\": \"\"\n      }\n    },\n    {\n      \"column\": \"userImage\",\n      \"properties\": {\n        \"dtype\": \"string\",\n        \"num_unique_values\": 9988,\n        \"samples\": [\n          \"https://lh3.googleusercontent.com/-uufSaOkqD9k/AAAAAAAAAAI/AAAAAAAAAAA/AAKWJJNC55krY6x0eaEWBt5r2Ofr-foXRw/photo.jpg\",\n          \"https://lh3.googleusercontent.com/-hq1-CDV27p8/AAAAAAAAAAI/AAAAAAAAAAA/AAKWJJPXmkq0B9qRjjroWDy341BKcHN1Hw/photo.jpg\",\n          \"https://lh3.googleusercontent.com/-E-FbMKufng4/AAAAAAAAAAI/AAAAAAAAyOg/AAKWJJMqsESU6kEKukV4vXYXbisyRI-dIQ/photo.jpg\"\n        ],\n        \"semantic_type\": \"\",\n        \"description\": \"\"\n      }\n    },\n    {\n      \"column\": \"content\",\n      \"properties\": {\n        \"dtype\": \"string\",\n        \"num_unique_values\": 10130,\n        \"samples\": [\n          \"Its a good app but it stopped working on my phone and i have already paid the amount what to do ?\",\n          \"Too many crashes over the past few months, especially in the widget\",\n          \"Update on Oct 29: The new update with sections and the new UX design is a real drop of usability in my case. My day to day work force me to constantly change priority, project and other properties and with the new version, the natural language as been removed when editing a task. I will strongly consider not renewing my subscription because todoist was my workhorse because of that natural language. Original review : It's my day to day to do application to drive all my tasks.\"\n        ],\n        \"semantic_type\": \"\",\n        \"description\": \"\"\n      }\n    },\n    {\n      \"column\": \"score\",\n      \"properties\": {\n        \"dtype\": \"number\",\n        \"std\": 1,\n        \"min\": 1,\n        \"max\": 5,\n        \"num_unique_values\": 5,\n        \"samples\": [\n          2,\n          5,\n          3\n        ],\n        \"semantic_type\": \"\",\n        \"description\": \"\"\n      }\n    },\n    {\n      \"column\": \"thumbsUpCount\",\n      \"properties\": {\n        \"dtype\": \"number\",\n        \"std\": 17,\n        \"min\": 0,\n        \"max\": 448,\n        \"num_unique_values\": 147,\n        \"samples\": [\n          48,\n          41,\n          242\n        ],\n        \"semantic_type\": \"\",\n        \"description\": \"\"\n      }\n    },\n    {\n      \"column\": \"reviewCreatedVersion\",\n      \"properties\": {\n        \"dtype\": \"category\",\n        \"num_unique_values\": 431,\n        \"samples\": [\n          \"3.2.2\",\n          \"14.2.3\",\n          \"4.5\"\n        ],\n        \"semantic_type\": \"\",\n        \"description\": \"\"\n      }\n    },\n    {\n      \"column\": \"at\",\n      \"properties\": {\n        \"dtype\": \"object\",\n        \"num_unique_values\": 10497,\n        \"samples\": [\n          \"2019-01-20 13:57:44\",\n          \"2020-03-29 13:21:53\",\n          \"2019-11-27 14:24:28\"\n        ],\n        \"semantic_type\": \"\",\n        \"description\": \"\"\n      }\n    },\n    {\n      \"column\": \"replyContent\",\n      \"properties\": {\n        \"dtype\": \"category\",\n        \"num_unique_values\": 3926,\n        \"samples\": [\n          \"Hi Jose, really glad you're finding my app useful. Tasks is a hobby project of mine with all features and support offered for free without advertising. It has taken hundred of hours to write, improve and support and simply relies on donations and my spare time to move forward. What would help make my app a 5 star app for you? Thanks, Steve\",\n          \"Hello, this is the new sub-tasks behavior with the Foundations release, sub-tasks will now be removed from the view instead of staying there like before. Apologies for any inconvenience. We would recommend using recurring sub-tasks for your use case. Please feel free to contact us with your feedback/comments at support@todoist.com Thank you!\",\n          \"Hi, the function is not supported yet, but we are working on it.\"\n        ],\n        \"semantic_type\": \"\",\n        \"description\": \"\"\n      }\n    },\n    {\n      \"column\": \"repliedAt\",\n      \"properties\": {\n        \"dtype\": \"object\",\n        \"num_unique_values\": 4581,\n        \"samples\": [\n          \"2018-12-30 16:27:54\",\n          \"2019-10-31 14:40:11\",\n          \"2020-03-19 11:16:01\"\n        ],\n        \"semantic_type\": \"\",\n        \"description\": \"\"\n      }\n    },\n    {\n      \"column\": \"sortOrder\",\n      \"properties\": {\n        \"dtype\": \"category\",\n        \"num_unique_values\": 2,\n        \"samples\": [\n          \"newest\",\n          \"most_relevant\"\n        ],\n        \"semantic_type\": \"\",\n        \"description\": \"\"\n      }\n    },\n    {\n      \"column\": \"appId\",\n      \"properties\": {\n        \"dtype\": \"category\",\n        \"num_unique_values\": 15,\n        \"samples\": [\n          \"prox.lab.calclock\",\n          \"com.artfulagenda.app\"\n        ],\n        \"semantic_type\": \"\",\n        \"description\": \"\"\n      }\n    }\n  ]\n}"
            }
          },
          "metadata": {},
          "execution_count": 6
        }
      ]
    },
    {
      "cell_type": "markdown",
      "source": [
        "Para explorar los datos se muestran los valores únicos de la columna `score` del DataFrame, que contiene las puntuaciones de las críticas. También se imprime la cantidad de críticas correspondientes al número de filas del DataFrame.\n",
        "\n",
        "Al final se presenta un gráfico de barras que muestra la frecuencia de cada valor en la columna score. En el se observa cómo las puntuaciones en las reseñas se concentran principalmente en 3. También se observa que las reseñas de 4 y 5 son mayores que las de 1 y 2:"
      ],
      "metadata": {
        "id": "ECJBDL53iBsX"
      }
    },
    {
      "cell_type": "code",
      "source": [
        "#-----------------\n",
        "# Revisando el datasaet\n",
        "#-----------------\n",
        "print(\"Tipos de puntuaciones:\", df.score.unique())\n",
        "print(\"Cantidad de críticas:\", len(df))\n",
        "sns.countplot(x=df.score)"
      ],
      "metadata": {
        "colab": {
          "base_uri": "https://localhost:8080/",
          "height": 503
        },
        "id": "YSR8CxAlbDCC",
        "outputId": "1cb8466d-7813-4233-9c16-fcaf50223fd9"
      },
      "execution_count": 7,
      "outputs": [
        {
          "output_type": "stream",
          "name": "stdout",
          "text": [
            "Tipos de puntuaciones: [1 2 3 4 5]\n",
            "Cantidad de críticas: 15746\n"
          ]
        },
        {
          "output_type": "execute_result",
          "data": {
            "text/plain": [
              "<Axes: xlabel='score', ylabel='count'>"
            ]
          },
          "metadata": {},
          "execution_count": 7
        },
        {
          "output_type": "display_data",
          "data": {
            "text/plain": [
              "<Figure size 640x480 with 1 Axes>"
            ],
            "image/png": "[encoded data removed]"
          },
          "metadata": {}
        }
      ]
    },
    {
      "cell_type": "markdown",
      "source": [
        "##**3. Pre-procesamiento de datos**\n",
        "\n",
        "Debido a que el modelo será entrenado usando un sistema de 3 scores (negativo, neutro, positivo), es necesario transformar la escala de puntuaciones a una escala de sentimiento como se hace a continuación.\n",
        "\n",
        "Después de la transformación, se revisan las etiquetas y sus distribuciones con un histograma, en el que se aprecia cómo la mayoría de reseñas son positivas como se esperaba, de acuerdo al histograma anterior."
      ],
      "metadata": {
        "id": "Lu5YQSvzbb4G"
      }
    },
    {
      "cell_type": "code",
      "source": [
        "#-----------------\n",
        "# Transformando las puntuaciones en índices de sentimiento\n",
        "#-----------------\n",
        "df['sentiment'] = df.score.apply(lambda x: 0 if x <=2 else 1 if x == 3 else 2)\n",
        "class_names = ['negative', 'neutral', 'positive']\n",
        "\n",
        "#-----------------\n",
        "# Revisando el nuevo datasaet\n",
        "#-----------------\n",
        "print(\"Valores únicos de sentimiento:\", df.sentiment.unique())\n",
        "print(\"Nombres de las clases:\", class_names)\n",
        "ax = sns.countplot(x = df.sentiment)\n",
        "plt.xlabel('Sentimiento de las Apps')\n",
        "ax.set_xticklabels(class_names);"
      ],
      "metadata": {
        "colab": {
          "base_uri": "https://localhost:8080/",
          "height": 520
        },
        "id": "3bXHOZdpbeuA",
        "outputId": "bea03768-6ea2-4b09-c4ca-fe9c8a774100"
      },
      "execution_count": 8,
      "outputs": [
        {
          "output_type": "stream",
          "name": "stdout",
          "text": [
            "Valores únicos de sentimiento: [0 1 2]\n",
            "Nombres de las clases: ['negative', 'neutral', 'positive']\n"
          ]
        },
        {
          "output_type": "stream",
          "name": "stderr",
          "text": [
            "<ipython-input-8-a11a553205e5>:14: UserWarning: FixedFormatter should only be used together with FixedLocator\n",
            "  ax.set_xticklabels(class_names);\n"
          ]
        },
        {
          "output_type": "display_data",
          "data": {
            "text/plain": [
              "<Figure size 640x480 with 1 Axes>"
            ],
            "image/png": "[encoded data removed]"
          },
          "metadata": {}
        }
      ]
    },
    {
      "cell_type": "markdown",
      "source": [
        "Las oraciones del dataset son revisada en la siguiente celda:"
      ],
      "metadata": {
        "id": "oA4MSECpqQcp"
      }
    },
    {
      "cell_type": "code",
      "source": [
        "#-----------------\n",
        "# Revisando las oraciones\n",
        "#-----------------\n",
        "sentences = df['content'].values\n",
        "print(\"Forma del conjunto de oraciones:\", sentences.shape)\n",
        "sentences[:3]"
      ],
      "metadata": {
        "colab": {
          "base_uri": "https://localhost:8080/"
        },
        "id": "TG2kyj9bYOV1",
        "outputId": "2c2e58b2-0805-4fc9-a41e-426e4d32c094"
      },
      "execution_count": 9,
      "outputs": [
        {
          "output_type": "stream",
          "name": "stdout",
          "text": [
            "Forma del conjunto de oraciones: (15746,)\n"
          ]
        },
        {
          "output_type": "execute_result",
          "data": {
            "text/plain": [
              "array([\"Update: After getting a response from the developer I would change my rating to 0 stars if possible. These guys hide behind confusing and opaque terms and refuse to budge at all. I'm so annoyed that my money has been lost to them! Really terrible customer experience. Original: Be very careful when signing up for a free trial of this app. If you happen to go over they automatically charge you for a full years subscription and refuse to refund. Terrible customer experience and the app is just OK.\",\n",
              "       'Used it for a fair amount of time without any problems. Suddenly then asked me to create an account or log using Google or FB. I used my Google one only to discover everything was gone!',\n",
              "       \"Your app sucks now!!!!! Used to be good but now doesn't update until I physically open it up and then close it then scroll and then it finally shows what I want to put on the list!!!!!! And I FRIGGEN paid for this garbage!!!!!!!\"],\n",
              "      dtype=object)"
            ]
          },
          "metadata": {},
          "execution_count": 9
        }
      ]
    },
    {
      "cell_type": "markdown",
      "source": [
        "Para entender las características de los datos textuales antes de procesarlos, se lleva a cabo:\n",
        "- una extracción de oraciones.\n",
        "- el cálculo de longitudes (en caracteres) de cada reseña. Esto se almacena en una lista.\n",
        "- el cálculo de la mediana de las longitudes de las reseñas para tener una idea de la longitud típica.\n",
        "- una visualización de la distribución de estas longitudes para obtener una visión más clara de cómo varían las longitudes de las reseñas en el conjunto de datos."
      ],
      "metadata": {
        "id": "3LTd8OwCtcs3"
      }
    },
    {
      "cell_type": "code",
      "source": [
        "#-----------------\n",
        "# Extrayendo la longitud de las oraciones\n",
        "#-----------------\n",
        "sentence_lens = []\n",
        "for sentence in sentences:\n",
        "  sentence_lens.append(len(sentence))\n",
        "\n",
        "#-----------------\n",
        "# Calculando la longitud media de las oraciones\n",
        "#-----------------\n",
        "print(\"Longitud media de las oraciones:\", np.median(sentence_lens))\n",
        "\n",
        "#-----------------\n",
        "# Visualizando la distribución de las longitudes de las oraciones\n",
        "#-----------------\n",
        "sns.displot(sentence_lens)"
      ],
      "metadata": {
        "colab": {
          "base_uri": "https://localhost:8080/",
          "height": 542
        },
        "id": "D1pgbvzWYSnZ",
        "outputId": "b6a849e4-e74e-4f3c-d40a-4bf2667793d5"
      },
      "execution_count": 10,
      "outputs": [
        {
          "output_type": "stream",
          "name": "stdout",
          "text": [
            "Longitud media de las oraciones: 139.0\n"
          ]
        },
        {
          "output_type": "execute_result",
          "data": {
            "text/plain": [
              "<seaborn.axisgrid.FacetGrid at 0x7c9d3600a7a0>"
            ]
          },
          "metadata": {},
          "execution_count": 10
        },
        {
          "output_type": "display_data",
          "data": {
            "text/plain": [
              "<Figure size 500x500 with 1 Axes>"
            ],
            "image/png": "[encoded data removed]"
          },
          "metadata": {}
        }
      ]
    },
    {
      "cell_type": "markdown",
      "source": [
        "El histograma muestra que las oraciones cortas con algunas palabras son las más comunes, siendo la longitud média de unos 139 tokens.\n",
        "\n",
        "Ahora las etiquetas de clasificación (sentiment) se preparan para su uso en el modelo, convirtiéndolas en un formato adecuado para la clasificación multiclase y determinando la forma de la salida del modelo. De esta forma, se realiza:\n",
        "\n",
        "- una extracción de etiquetas de sentimiento de las reseñas.\n",
        "- una conversión a formato categórico (one-hot), necesario para la clasificación multiclase en redes neuronales.\n",
        "- un cálculo del número de clases en el conjunto de datos, que se usará para definir la capa de salida del modelo.\n",
        "- una verificación de la forma de las etiquetas y una muestra de las mismas para ver que la conversión se realizó correctamente."
      ],
      "metadata": {
        "id": "OSMeooDxvNll"
      }
    },
    {
      "cell_type": "code",
      "source": [
        "#-----------------\n",
        "# Extrayendo las etiquetas de sentimiento\n",
        "#-----------------\n",
        "y = df['sentiment'].values\n",
        "\n",
        "#-----------------\n",
        "# Convirtiendo las etiquetas a formato categórico\n",
        "#-----------------\n",
        "y = to_categorical(y)\n",
        "\n",
        "#-----------------\n",
        "# Calculando el número de clases\n",
        "#-----------------\n",
        "output_shape = y.shape[1]\n",
        "\n",
        "#-----------------\n",
        "# Revisando las etiquetas\n",
        "#-----------------\n",
        "print(\"Forma de y:\", y.shape)\n",
        "print(y[:3])\n",
        "print(\"Forma del output:\", output_shape)"
      ],
      "metadata": {
        "colab": {
          "base_uri": "https://localhost:8080/"
        },
        "id": "jxtStdPuYgU_",
        "outputId": "7a19fae7-8174-4afe-c085-02ce269d33ea"
      },
      "execution_count": 11,
      "outputs": [
        {
          "output_type": "stream",
          "name": "stdout",
          "text": [
            "Forma de y: (15746, 3)\n",
            "[[1. 0. 0.]\n",
            " [1. 0. 0.]\n",
            " [1. 0. 0.]]\n",
            "Forma del output: 3\n"
          ]
        }
      ]
    },
    {
      "cell_type": "markdown",
      "source": [
        "## **4. Preparando los datos de entrenamiento y validación**\n",
        "\n",
        "Los datos se separan en conjuntos de entrenamiento, validación y prueba, para usar el modelo base de BERT con su correspondiente tokenizer que es más liviano.\n",
        "\n",
        "En el modelo `bert-base-uncased`, `uncased` significa que el modelo no distingue entre mayúsculas y minúsculas, es decir, trata \"apple\" y \"Apple\" como la misma palabra."
      ],
      "metadata": {
        "id": "OCtGk7CAZagr"
      }
    },
    {
      "cell_type": "code",
      "source": [
        "#-----------------\n",
        "# Descargando el modelo base de BERT\n",
        "#-----------------\n",
        "bert_tokenizer = BertTokenizer.from_pretrained(\"bert-base-uncased\")\n",
        "\n",
        "#-----------------\n",
        "# Longitud máxima de las secuencias\n",
        "#-----------------\n",
        "max_length = 140\n",
        "\n",
        "#-----------------\n",
        "# Creando índices para separar el conjunto de datos\n",
        "#-----------------\n",
        "indices = np.arange(len(sentences))\n",
        "\n",
        "#-----------------\n",
        "# Separando los datos en entrenamiento y prueba\n",
        "#-----------------\n",
        "idx_train_val, idx_test = train_test_split(indices, test_size=0.2, random_state=42)\n",
        "idx_train, idx_val = train_test_split(idx_train_val, test_size=0.2, random_state=42)\n",
        "\n",
        "#-----------------\n",
        "# Revisando los datos\n",
        "#-----------------\n",
        "print(\"Primera oración:\\n\", sentences[0])\n",
        "print(\"\\nEtiqueta one-hot encoder de la primera oración:\",y[0])\n",
        "print(\"\\nNúmero de muestras de entrenamiento:\", idx_train.shape[0], \"validación:\", idx_val.shape[0], \"y prueba:\", idx_test.shape[0])"
      ],
      "metadata": {
        "colab": {
          "base_uri": "https://localhost:8080/",
          "height": 240,
          "referenced_widgets": [
            "cc30d58dd4d043358e9d680a1d6f9576",
            "261385c32032496688745cd4ccdc0d41",
            "3718699eaa0746a5ad6822b95f46772a",
            "8f70f8a76e1d41499495aa9424ab862c",
            "33341d9ec2e542a39448b55fede7db67",
            "4ea1004a7fee4e4f9a83356be87ee6a6",
            "ae78d206d01e402aa9d27964c551b391",
            "88e599ddd42241faa099fef7261b3eed",
            "f5e089a9dce94f48a3706b3a07e50b9b",
            "2ac027f4ef8a469e9f2f25fe46438fa0",
            "90898f3fb431457a8acba503f97ff2d5",
            "29f5ac74b6274d9fa690d61ff9f40c13",
            "256ce8c6dad64d45839039b6e934d320",
            "03984409ff7943d0985600e9dc0c7cbf",
            "322a8737239043798f07d3b5e4fb635d",
            "9a00daed98b14dc8a66083fefe7de313",
            "98a70d7adbee41c2b915d573e566e1a9",
            "c0e6a0bdc7134cb5aafe0f855fa309e9",
            "474871f1054147e59873e56dad9b095c",
            "5629fa728e904e1a9b2c0ca4472f1036",
            "4876b45d56fd4ffa8bbe5d078b11672f",
            "65f3829da2eb40769d43a151fc96a1c7",
            "6f8331ba8e944604bf91e2f0f9a229e7",
            "f1a5c7fc5cb947918ac421c054e3cea8",
            "9826b8a3bfdf45e7b4153cacbbfc61ad",
            "292688976a9d4f91aa7b117ed8fdfe88",
            "8f2e1f4d73444cf8b2f2ff461479d04a",
            "7f72db85c94f467e9225530e5f7f63de",
            "0944305dba474aaea44792a43c717202",
            "91f93c6bd8f548d19a3be3188ac3aec7",
            "56ca17d381364a9ab0bb6126043a3815",
            "5dcc7b9e6ac14beb8681cf1afcf4a40c",
            "5d78a0a00ec84ea8986805a5982d5287"
          ]
        },
        "id": "FwS0-2QCZdkG",
        "outputId": "ea8339c2-5759-4f06-e3dc-9ea1457950ce"
      },
      "execution_count": 12,
      "outputs": [
        {
          "output_type": "display_data",
          "data": {
            "text/plain": [
              "tokenizer_config.json:   0%|          | 0.00/48.0 [00:00<?, ?B/s]"
            ],
            "application/vnd.jupyter.widget-view+json": {
              "version_major": 2,
              "version_minor": 0,
              "model_id": "cc30d58dd4d043358e9d680a1d6f9576"
            }
          },
          "metadata": {}
        },
        {
          "output_type": "display_data",
          "data": {
            "text/plain": [
              "vocab.txt:   0%|          | 0.00/232k [00:00<?, ?B/s]"
            ],
            "application/vnd.jupyter.widget-view+json": {
              "version_major": 2,
              "version_minor": 0,
              "model_id": "29f5ac74b6274d9fa690d61ff9f40c13"
            }
          },
          "metadata": {}
        },
        {
          "output_type": "display_data",
          "data": {
            "text/plain": [
              "tokenizer.json:   0%|          | 0.00/466k [00:00<?, ?B/s]"
            ],
            "application/vnd.jupyter.widget-view+json": {
              "version_major": 2,
              "version_minor": 0,
              "model_id": "6f8331ba8e944604bf91e2f0f9a229e7"
            }
          },
          "metadata": {}
        },
        {
          "output_type": "stream",
          "name": "stdout",
          "text": [
            "Primera oración:\n",
            " Update: After getting a response from the developer I would change my rating to 0 stars if possible. These guys hide behind confusing and opaque terms and refuse to budge at all. I'm so annoyed that my money has been lost to them! Really terrible customer experience. Original: Be very careful when signing up for a free trial of this app. If you happen to go over they automatically charge you for a full years subscription and refuse to refund. Terrible customer experience and the app is just OK.\n",
            "\n",
            "Etiqueta one-hot encoder de la primera oración: [1. 0. 0.]\n",
            "\n",
            "Número de muestras de entrenamiento: 10076 validación: 2520 y prueba: 3150\n"
          ]
        }
      ]
    },
    {
      "cell_type": "markdown",
      "source": [
        "Se definen ahora dos funciones para convertir los datos textuales en un formato adecuado para ser procesados por el modelo BERT en TensorFlow. Estas funciones ayudan a transformar los textos y sus etiquetas en ejemplos que pueden ser utilizados para entrenar y validar el modelo.\n",
        "\n",
        "La función `convert_data_to_examples` toma el texto y las etiquetas y los convierte en una lista de objetos InputExample, que son usados por BERT para manejar las entradas de texto y las etiquetas correspondientes.\n",
        "\n",
        "La función `convert_examples_to_tf_dataset` convierte los ejemplos de entrada (InputExample) en un formato que puede ser utilizado como un `tf.data.Dataset`, que es la estructura de datos utilizada por TensorFlow para manejar grandes cantidades de datos de manera eficiente durante el entrenamiento."
      ],
      "metadata": {
        "id": "Tc40B-ozg4SI"
      }
    },
    {
      "cell_type": "code",
      "source": [
        "def convert_data_to_examples(text, labels, idx_train, idx_val):\n",
        "    #-----------------\n",
        "    # Lista de objetos InputExample para los datos de entrenamiento\n",
        "    #-----------------\n",
        "    train_InputExamples = [InputExample(guid=None,text_a = text[i],text_b = None,label = labels[i]) for i in idx_train]\n",
        "\n",
        "    #-----------------\n",
        "    # Lista de objetos InputExample para los datos de validación\n",
        "    #-----------------\n",
        "    validation_InputExamples = [InputExample(guid=None,text_a = text[i],text_b = None,label = labels[i]) for i in idx_val]\n",
        "\n",
        "    return train_InputExamples, validation_InputExamples\n",
        "\n",
        "\n",
        "def convert_examples_to_tf_dataset(examples, bert_tokenizer, max_length=512):\n",
        "    #-----------------\n",
        "    # Lista para almacenar los features (tokens y máscaras de atención)\n",
        "    #-----------------\n",
        "    features = []\n",
        "\n",
        "    for e in examples:\n",
        "        #-----------------\n",
        "        # Tokenización del texto\n",
        "        #-----------------\n",
        "        input_dict = bert_tokenizer.encode_plus(\n",
        "            e.text_a,\n",
        "            add_special_tokens=True,\n",
        "            max_length=max_length,\n",
        "            return_token_type_ids=False,\n",
        "            return_attention_mask=True,\n",
        "            padding='max_length', # paddea a la derecha por default\n",
        "            truncation=True\n",
        "        )\n",
        "\n",
        "        #-----------------\n",
        "        # Extracción de tokens y máscaras de atención\n",
        "        #-----------------\n",
        "        input_ids, attention_mask = (input_dict[\"input_ids\"], input_dict['attention_mask'])\n",
        "\n",
        "        #-----------------\n",
        "        # Creando los features\n",
        "        #-----------------\n",
        "        features.append(\n",
        "            InputFeatures(\n",
        "                input_ids=input_ids, attention_mask=attention_mask, label=e.label\n",
        "            )\n",
        "        )\n",
        "\n",
        "    #-----------------\n",
        "    # Función generadora para no levantar todos los datos en un instante\n",
        "    #-----------------\n",
        "    def gen():\n",
        "        for f in features:\n",
        "            #-----------------\n",
        "            # Generando un diccionario con los tokens y máscaras de atención\n",
        "            #-----------------\n",
        "            yield (\n",
        "                {\n",
        "                    \"input_ids\": f.input_ids,\n",
        "                    \"attention_mask\": f.attention_mask,\n",
        "                },\n",
        "                f.label,\n",
        "            )\n",
        "\n",
        "    #-----------------\n",
        "    # Creando el dataset de TensorFlow\n",
        "    #-----------------\n",
        "    return tensorflow.data.Dataset.from_generator(\n",
        "        gen,\n",
        "        ({\"input_ids\": tensorflow.int32, \"attention_mask\": tensorflow.int32}, tensorflow.float32),\n",
        "        (\n",
        "            {\n",
        "                \"input_ids\": tensorflow.TensorShape([None]),\n",
        "                \"attention_mask\": tensorflow.TensorShape([None]),\n",
        "            },\n",
        "            tensorflow.TensorShape([output_shape]),\n",
        "        ),\n",
        "    )"
      ],
      "metadata": {
        "id": "mFvXkz94Z93y"
      },
      "execution_count": 7,
      "outputs": []
    },
    {
      "cell_type": "markdown",
      "source": [
        "El procesamiento final de los datos antes de entrenar el modelo consiste en convertir los datos de texto en ejemplos de entrada para BERT, crear los conjuntos de datos de TensorFlow (`tf.data.Dataset`) para entrenamiento y validación, y preparar los datos para realizar predicciones en un conjunto de prueba."
      ],
      "metadata": {
        "id": "mmt6kk0ljxz8"
      }
    },
    {
      "cell_type": "code",
      "source": [
        "#-----------------\n",
        "# Convirtiendo los datos de texto y etiquetas en ejemplos de entrada\n",
        "#-----------------\n",
        "train_InputExamples, validation_InputExamples = convert_data_to_examples(sentences, y, idx_train, idx_val)\n",
        "\n",
        "#-----------------\n",
        "# Revisando los datos\n",
        "#-----------------\n",
        "print(train_InputExamples[0], validation_InputExamples[0])\n",
        "\n",
        "#-----------------\n",
        "# Convirtiendo los ejemplos de entrada en conjuntos de datos de TensorFlow\n",
        "#-----------------\n",
        "train_data = convert_examples_to_tf_dataset(list(train_InputExamples), bert_tokenizer, max_length=max_length)\n",
        "\n",
        "#-----------------\n",
        "# Mezclando los datos de entrenamiento y batcheando\n",
        "#-----------------\n",
        "train_data = train_data.shuffle(100).batch(32)\n",
        "\n",
        "#-----------------\n",
        "# Creando el conjunto de validación\n",
        "#-----------------\n",
        "validation_data = convert_examples_to_tf_dataset(list(validation_InputExamples), bert_tokenizer, max_length=max_length)\n",
        "\n",
        "#-----------------\n",
        "# Batcheando los datos de validación\n",
        "#-----------------\n",
        "validation_data = validation_data.batch(32)\n",
        "\n",
        "#-----------------\n",
        "# Lista de oraciones usadas para hacer predicciones\n",
        "#-----------------\n",
        "pred_sentences = [sentences[i] for i in idx_test]\n",
        "\n",
        "#-----------------\n",
        "# Tokenizando las oraciones de prueba\n",
        "#-----------------\n",
        "tf_batch = bert_tokenizer(pred_sentences, max_length=max_length, padding=True, truncation=True, return_tensors='tf')"
      ],
      "metadata": {
        "colab": {
          "base_uri": "https://localhost:8080/"
        },
        "id": "HP-ZaXu4aEG1",
        "outputId": "e8d05115-ed3d-4de5-860b-86c10d75ce65"
      },
      "execution_count": 14,
      "outputs": [
        {
          "output_type": "stream",
          "name": "stdout",
          "text": [
            "InputExample(guid=None, text_a=\"Excellent overall, very flexible with many useful features. Only suggestion I'd make for improvement is a feature that as the user if they really intend to complete a task that has been snoozed multiple times.\", text_b=None, label=array([0., 0., 1.])) InputExample(guid=None, text_a=\"Delete imformation I had typed in. Didn't understand why it kept taking me to my google calendar\", text_b=None, label=array([0., 0., 1.]))\n"
          ]
        }
      ]
    },
    {
      "cell_type": "markdown",
      "source": [
        "Los datos de prueba son preparados usando los identificadores de los tokens que representan las palabras de las oraciones de prueba y la máscara de atención que indica cuáles tokens en la secuencia son realmente parte del texto y cuáles son tokens de padding (relleno). Cada `input_id` corresponde así a un token en el vocabulario de BERT.\n"
      ],
      "metadata": {
        "id": "pZlpu0_BoU51"
      }
    },
    {
      "cell_type": "code",
      "source": [
        "X_test = [tf_batch['input_ids'], tf_batch['attention_mask']]\n",
        "X_test"
      ],
      "metadata": {
        "colab": {
          "base_uri": "https://localhost:8080/"
        },
        "id": "MVB_q__Raf4b",
        "outputId": "88ea92ca-c6e9-4d5d-af6c-3d421a6e821b"
      },
      "execution_count": 15,
      "outputs": [
        {
          "output_type": "execute_result",
          "data": {
            "text/plain": [
              "[<tf.Tensor: shape=(3150, 140), dtype=int32, numpy=\n",
              " array([[  101,  2129,  2000, ...,     0,     0,     0],\n",
              "        [  101, 10166,  1012, ...,     0,     0,     0],\n",
              "        [  101,  1045,  2288, ...,     0,     0,     0],\n",
              "        ...,\n",
              "        [  101,  1045,  2066, ...,     0,     0,     0],\n",
              "        [  101,  5587,  2129, ...,     0,     0,     0],\n",
              "        [  101,  2204, 10439, ...,     0,     0,     0]], dtype=int32)>,\n",
              " <tf.Tensor: shape=(3150, 140), dtype=int32, numpy=\n",
              " array([[1, 1, 1, ..., 0, 0, 0],\n",
              "        [1, 1, 1, ..., 0, 0, 0],\n",
              "        [1, 1, 1, ..., 0, 0, 0],\n",
              "        ...,\n",
              "        [1, 1, 1, ..., 0, 0, 0],\n",
              "        [1, 1, 1, ..., 0, 0, 0],\n",
              "        [1, 1, 1, ..., 0, 0, 0]], dtype=int32)>]"
            ]
          },
          "metadata": {},
          "execution_count": 15
        }
      ]
    },
    {
      "cell_type": "markdown",
      "source": [
        "Finalmente, se seleccionan las etiquetas de prueba (`y_test`) correspondientes a las oraciones de prueba (`sentences[idx_test]`) que fueron preparadas previamente, donde `y` es el array que contiene las etiquetas de las reseñas, en formato one-hot encoded. Cada etiqueta en `y` corresponde a una de las oraciones en el conjunto de datos."
      ],
      "metadata": {
        "id": "5koQpdHepr8d"
      }
    },
    {
      "cell_type": "code",
      "source": [
        "y_test = y[idx_test]\n",
        "y_test"
      ],
      "metadata": {
        "colab": {
          "base_uri": "https://localhost:8080/"
        },
        "id": "TJ6IzRtSaiPz",
        "outputId": "d51dffd0-ce40-4396-fcb2-315411a2d25b"
      },
      "execution_count": 16,
      "outputs": [
        {
          "output_type": "execute_result",
          "data": {
            "text/plain": [
              "array([[1., 0., 0.],\n",
              "       [1., 0., 0.],\n",
              "       [1., 0., 0.],\n",
              "       ...,\n",
              "       [0., 1., 0.],\n",
              "       [0., 0., 1.],\n",
              "       [0., 0., 1.]])"
            ]
          },
          "metadata": {},
          "execution_count": 16
        }
      ]
    },
    {
      "cell_type": "markdown",
      "source": [
        "## **5. Entrenamiento del modelo BERT Multiclass Classification**\n",
        "\n",
        "Se inicia el entrenamiento y se grafica la precisión y el F1 score para evaluar la calidad del entrenamiento:"
      ],
      "metadata": {
        "id": "vQHuTYJaamNM"
      }
    },
    {
      "cell_type": "code",
      "source": [
        "epochs = 10\n",
        "\n",
        "#-----------------\n",
        "# Implementando el scheduler\n",
        "#-----------------\n",
        "reduce_lr = ReduceLROnPlateau(monitor='val_loss',  # Monitorea la pérdida de validación\n",
        "                              factor=0.5,          # Factor por el cual se reduce la tasa de aprendizaje\n",
        "                              patience=2,          # Número de épocas con estancamiento para reducir el learning rate\n",
        "                              min_lr=0.00001)      # Límite inferior para la tasa de aprendizaje\n",
        "\n",
        "#-----------------\n",
        "# Entrenando el modelo\n",
        "#-----------------\n",
        "his = model.fit(train_data, epochs=epochs, validation_data=validation_data, callbacks=[reduce_lr])\n",
        "\n",
        "#-----------------\n",
        "# Graficando la precisión\n",
        "#-----------------\n",
        "plot_accuracy(his)\n",
        "\n",
        "#-----------------\n",
        "# Graficando el F1 score\n",
        "#-----------------\n",
        "plot_f1_score(his)"
      ],
      "metadata": {
        "colab": {
          "base_uri": "https://localhost:8080/",
          "height": 1000
        },
        "id": "FiuCTnKSatIT",
        "outputId": "147e50b7-5bb5-4476-b656-1c55c4945ffd"
      },
      "execution_count": 23,
      "outputs": [
        {
          "output_type": "stream",
          "name": "stdout",
          "text": [
            "Epoch 1/10\n",
            "    315/Unknown \u001b[1m113s\u001b[0m 303ms/step - accuracy: 0.3335 - f1_score: 0.3299 - loss: 1.1784"
          ]
        },
        {
          "output_type": "stream",
          "name": "stderr",
          "text": [
            "/usr/lib/python3.10/contextlib.py:153: UserWarning: Your input ran out of data; interrupting training. Make sure that your dataset or generator can generate at least `steps_per_epoch * epochs` batches. You may need to use the `.repeat()` function when building your dataset.\n",
            "  self.gen.throw(typ, value, traceback)\n"
          ]
        },
        {
          "output_type": "stream",
          "name": "stdout",
          "text": [
            "\b\b\b\b\b\b\b\b\b\b\b\b\b\b\b\b\b\b\b\b\b\b\b\b\b\b\b\b\b\b\b\b\b\b\b\b\b\b\b\b\b\b\b\b\b\b\b\b\b\b\b\b\b\b\b\b\b\b\b\b\b\b\b\b\b\b\b\b\b\b\b\b\b\b\b\b\b\b\b\b\b\b\b\b\r\u001b[1m315/315\u001b[0m \u001b[32m━━━━━━━━━━━━━━━━━━━━\u001b[0m\u001b[37m\u001b[0m \u001b[1m149s\u001b[0m 417ms/step - accuracy: 0.3335 - f1_score: 0.3299 - loss: 1.1784 - val_accuracy: 0.3758 - val_f1_score: 0.2982 - val_loss: 1.1177 - learning_rate: 0.0010\n",
            "Epoch 2/10\n",
            "\u001b[1m315/315\u001b[0m \u001b[32m━━━━━━━━━━━━━━━━━━━━\u001b[0m\u001b[37m\u001b[0m \u001b[1m117s\u001b[0m 357ms/step - accuracy: 0.3481 - f1_score: 0.3438 - loss: 1.1442 - val_accuracy: 0.3583 - val_f1_score: 0.2623 - val_loss: 1.1020 - learning_rate: 0.0010\n",
            "Epoch 3/10\n",
            "\u001b[1m315/315\u001b[0m \u001b[32m━━━━━━━━━━━━━━━━━━━━\u001b[0m\u001b[37m\u001b[0m \u001b[1m130s\u001b[0m 414ms/step - accuracy: 0.3281 - f1_score: 0.3233 - loss: 1.1470 - val_accuracy: 0.3587 - val_f1_score: 0.2413 - val_loss: 1.1090 - learning_rate: 0.0010\n",
            "Epoch 4/10\n",
            "\u001b[1m315/315\u001b[0m \u001b[32m━━━━━━━━━━━━━━━━━━━━\u001b[0m\u001b[37m\u001b[0m \u001b[1m124s\u001b[0m 357ms/step - accuracy: 0.3411 - f1_score: 0.3335 - loss: 1.1338 - val_accuracy: 0.3659 - val_f1_score: 0.2914 - val_loss: 1.1007 - learning_rate: 0.0010\n",
            "Epoch 5/10\n",
            "\u001b[1m315/315\u001b[0m \u001b[32m━━━━━━━━━━━━━━━━━━━━\u001b[0m\u001b[37m\u001b[0m \u001b[1m112s\u001b[0m 354ms/step - accuracy: 0.3437 - f1_score: 0.3399 - loss: 1.1325 - val_accuracy: 0.3540 - val_f1_score: 0.2460 - val_loss: 1.1098 - learning_rate: 0.0010\n",
            "Epoch 6/10\n",
            "\u001b[1m315/315\u001b[0m \u001b[32m━━━━━━━━━━━━━━━━━━━━\u001b[0m\u001b[37m\u001b[0m \u001b[1m143s\u001b[0m 356ms/step - accuracy: 0.3508 - f1_score: 0.3429 - loss: 1.1271 - val_accuracy: 0.3575 - val_f1_score: 0.3489 - val_loss: 1.0949 - learning_rate: 0.0010\n",
            "Epoch 7/10\n",
            "\u001b[1m315/315\u001b[0m \u001b[32m━━━━━━━━━━━━━━━━━━━━\u001b[0m\u001b[37m\u001b[0m \u001b[1m142s\u001b[0m 357ms/step - accuracy: 0.3458 - f1_score: 0.3395 - loss: 1.1228 - val_accuracy: 0.3806 - val_f1_score: 0.3009 - val_loss: 1.1046 - learning_rate: 0.0010\n",
            "Epoch 8/10\n",
            "\u001b[1m315/315\u001b[0m \u001b[32m━━━━━━━━━━━━━━━━━━━━\u001b[0m\u001b[37m\u001b[0m \u001b[1m112s\u001b[0m 355ms/step - accuracy: 0.3515 - f1_score: 0.3447 - loss: 1.1217 - val_accuracy: 0.3560 - val_f1_score: 0.3346 - val_loss: 1.0942 - learning_rate: 0.0010\n",
            "Epoch 9/10\n",
            "\u001b[1m315/315\u001b[0m \u001b[32m━━━━━━━━━━━━━━━━━━━━\u001b[0m\u001b[37m\u001b[0m \u001b[1m143s\u001b[0m 356ms/step - accuracy: 0.3459 - f1_score: 0.3388 - loss: 1.1212 - val_accuracy: 0.3508 - val_f1_score: 0.2849 - val_loss: 1.0990 - learning_rate: 0.0010\n",
            "Epoch 10/10\n",
            "\u001b[1m315/315\u001b[0m \u001b[32m━━━━━━━━━━━━━━━━━━━━\u001b[0m\u001b[37m\u001b[0m \u001b[1m130s\u001b[0m 414ms/step - accuracy: 0.3538 - f1_score: 0.3468 - loss: 1.1135 - val_accuracy: 0.3690 - val_f1_score: 0.2636 - val_loss: 1.1223 - learning_rate: 0.0010\n"
          ]
        },
        {
          "output_type": "display_data",
          "data": {
            "text/plain": [
              "<Figure size 640x480 with 1 Axes>"
            ],
            "image/png": "[encoded data removed]"
          },
          "metadata": {}
        },
        {
          "output_type": "display_data",
          "data": {
            "text/plain": [
              "<Figure size 640x480 with 1 Axes>"
            ],
            "image/png": "[encoded data removed]"
          },
          "metadata": {}
        }
      ]
    },
    {
      "cell_type": "markdown",
      "source": [
        "Los gráficos muestran que, aunque durante el entrenamiento la precisión y el F1 score tienden a aumentar, sus valores son bajos. Además, tanto la precisión como el F1 score tienen comportamientos erráticos durante la validación, indicando un posible sobreajuste.\n",
        "\n",
        "Con base en los resultados del entrenamiento, se hacen predicciones sobre el conjunto de prueba, primero obteniendo probabilidades y luego convirtiéndolas en clases predichas.\n",
        "\n",
        "Después se evalúa el modelo en el conjunto de prueba para obtener una métrica de rendimiento, como la precisión o el F1 score."
      ],
      "metadata": {
        "id": "cgCwI0tOsdqk"
      }
    },
    {
      "cell_type": "code",
      "source": [
        "#-----------------\n",
        "# Realizando predicciones\n",
        "#-----------------\n",
        "y_hat_prob = model.predict(X_test)\n",
        "print(y_hat_prob[:3])\n",
        "\n",
        "#-----------------\n",
        "# Convirtiendo las probabilidades en clases\n",
        "#-----------------\n",
        "y_hat = np.argmax(y_hat_prob, axis=1)\n",
        "print(y_hat)\n",
        "\n",
        "#-----------------\n",
        "# Evaluando el modelo\n",
        "#-----------------\n",
        "scores = model.evaluate(X_test, y_test)\n",
        "scores[1]"
      ],
      "metadata": {
        "colab": {
          "base_uri": "https://localhost:8080/"
        },
        "id": "1pr5kb8La0W-",
        "outputId": "33ef2602-2b67-4dbc-d224-3eb3881c6675"
      },
      "execution_count": 24,
      "outputs": [
        {
          "output_type": "stream",
          "name": "stdout",
          "text": [
            "\u001b[1m99/99\u001b[0m \u001b[32m━━━━━━━━━━━━━━━━━━━━\u001b[0m\u001b[37m\u001b[0m \u001b[1m44s\u001b[0m 383ms/step\n",
            "[[0.40211114 0.31050435 0.28738457]\n",
            " [0.33019334 0.30081305 0.36899358]\n",
            " [0.30490333 0.3715484  0.32354826]]\n",
            "[0 2 1 ... 0 1 2]\n",
            "\u001b[1m99/99\u001b[0m \u001b[32m━━━━━━━━━━━━━━━━━━━━\u001b[0m\u001b[37m\u001b[0m \u001b[1m41s\u001b[0m 339ms/step - accuracy: 0.3216 - f1_score: 0.3137 - loss: 1.1088\n"
          ]
        },
        {
          "output_type": "execute_result",
          "data": {
            "text/plain": [
              "0.3149206340312958"
            ]
          },
          "metadata": {},
          "execution_count": 24
        }
      ]
    },
    {
      "cell_type": "markdown",
      "source": [
        "El F1 score final del modelo, aproximadamente 31.49%, coincide con el F1 score mostrado en la evaluación del modelo y refuerza la conclusión de que el modelo no está realizando predicciones de alta calidad en el conjunto de prueba.\n",
        "\n",
        "## **6. Pruebas con el modelo entrenado**\n",
        "\n",
        "El modelo se prueba ahora realizando una predicción de clasificación de sentimiento sobre un texto nuevo (en este caso, \"I love this app!\"):"
      ],
      "metadata": {
        "id": "GfYvjoUGbK3-"
      }
    },
    {
      "cell_type": "code",
      "source": [
        "text = \"I love this app!\"\n",
        "\n",
        "#-----------------\n",
        "# Tokenizando el texto\n",
        "#-----------------\n",
        "tf_batch = bert_tokenizer.encode_plus(\n",
        "    text,\n",
        "    add_special_tokens=True,\n",
        "    max_length=max_length,\n",
        "    return_token_type_ids=False,\n",
        "    return_attention_mask=True,\n",
        "    pad_to_max_length=True,\n",
        "    truncation=True,\n",
        "    return_tensors='tf'\n",
        ")\n",
        "\n",
        "#-----------------\n",
        "# Imprimiendo los identificadores de los tokens y la máscara de atención\n",
        "#-----------------\n",
        "print(\"Ids de los inputs:\", tf_batch['input_ids'])\n",
        "print(\"Máscara de atención:\", tf_batch['attention_mask'])\n",
        "\n",
        "#-----------------\n",
        "# Lista de input_ids y attention_mask utilizados como entrada\n",
        "#-----------------\n",
        "X_ensayo = [tf_batch['input_ids'], tf_batch['attention_mask']]\n",
        "\n",
        "#-----------------\n",
        "# Predicción utilizando X_ensayo como entrada\n",
        "#-----------------\n",
        "y_prob_ensayo = model.predict(X_ensayo)\n",
        "\n",
        "#-----------------\n",
        "# Convirtiendo las probabilidades en clases\n",
        "#-----------------\n",
        "y_prob = np.argmax(y_prob_ensayo, axis=1)\n",
        "\n",
        "#-----------------\n",
        "# Imprimiendo la clase predicha\n",
        "#-----------------\n",
        "print(\"Clasificación:\", class_names[int(y_prob[0])])"
      ],
      "metadata": {
        "colab": {
          "base_uri": "https://localhost:8080/"
        },
        "id": "WqN2YOl0bH39",
        "outputId": "d47a28f6-f99f-4590-d10b-a12e4541e96f"
      },
      "execution_count": 25,
      "outputs": [
        {
          "output_type": "stream",
          "name": "stderr",
          "text": [
            "/usr/local/lib/python3.10/dist-packages/transformers/tokenization_utils_base.py:2760: FutureWarning: The `pad_to_max_length` argument is deprecated and will be removed in a future version, use `padding=True` or `padding='longest'` to pad to the longest sequence in the batch, or use `padding='max_length'` to pad to a max length. In this case, you can give a specific length with `max_length` (e.g. `max_length=45`) or leave max_length to None to pad to the maximal input size of the model (e.g. 512 for Bert).\n",
            "  warnings.warn(\n"
          ]
        },
        {
          "output_type": "stream",
          "name": "stdout",
          "text": [
            "Ids de los inputs: tf.Tensor(\n",
            "[[  101  1045  2293  2023 10439   999   102     0     0     0     0     0\n",
            "      0     0     0     0     0     0     0     0     0     0     0     0\n",
            "      0     0     0     0     0     0     0     0     0     0     0     0\n",
            "      0     0     0     0     0     0     0     0     0     0     0     0\n",
            "      0     0     0     0     0     0     0     0     0     0     0     0\n",
            "      0     0     0     0     0     0     0     0     0     0     0     0\n",
            "      0     0     0     0     0     0     0     0     0     0     0     0\n",
            "      0     0     0     0     0     0     0     0     0     0     0     0\n",
            "      0     0     0     0     0     0     0     0     0     0     0     0\n",
            "      0     0     0     0     0     0     0     0     0     0     0     0\n",
            "      0     0     0     0     0     0     0     0     0     0     0     0\n",
            "      0     0     0     0     0     0     0     0]], shape=(1, 140), dtype=int32)\n",
            "Máscara de atención: tf.Tensor(\n",
            "[[1 1 1 1 1 1 1 0 0 0 0 0 0 0 0 0 0 0 0 0 0 0 0 0 0 0 0 0 0 0 0 0 0 0 0 0\n",
            "  0 0 0 0 0 0 0 0 0 0 0 0 0 0 0 0 0 0 0 0 0 0 0 0 0 0 0 0 0 0 0 0 0 0 0 0\n",
            "  0 0 0 0 0 0 0 0 0 0 0 0 0 0 0 0 0 0 0 0 0 0 0 0 0 0 0 0 0 0 0 0 0 0 0 0\n",
            "  0 0 0 0 0 0 0 0 0 0 0 0 0 0 0 0 0 0 0 0 0 0 0 0 0 0 0 0 0 0 0 0]], shape=(1, 140), dtype=int32)\n",
            "\u001b[1m1/1\u001b[0m \u001b[32m━━━━━━━━━━━━━━━━━━━━\u001b[0m\u001b[37m\u001b[0m \u001b[1m6s\u001b[0m 6s/step\n",
            "Clasificación: neutral\n"
          ]
        }
      ]
    },
    {
      "cell_type": "markdown",
      "source": [
        "## **7. Ajuste fino del modelo**\n",
        "\n",
        "En esta parte se efectúa un ajuste fino sobre el modelo BERT para mejorar su rendimiento después del entrenamiento inicial.\n",
        "\n",
        "Para el ajuste fino se recomienda utilizar al menos un learning rate 100 veces menor que el original.\n",
        "\n",
        "El proceso de ajuste fino consiste en:\n",
        "\n",
        "- configurar el entorno para asegurar que TensorFlow utilice la versión heredada de Keras.\n",
        "- copiar del modelo original para realizar el ajuste fino.\n",
        "- configurar las capas del modelo como entrenables, lo que permite actualizar los pesos durante el ajuste fino.\n",
        "- compilar el modelo con un learning rate bajo, utilizando la entropía cruzada categórica como función de pérdida y definiendo las métricas de evaluación."
      ],
      "metadata": {
        "id": "eyaV_JVLbh_U"
      }
    },
    {
      "cell_type": "code",
      "source": [
        "#-----------------\n",
        "# Configuración del entorno\n",
        "#-----------------\n",
        "os.environ['TF_USE_LEGACY_KERAS'] = '1'\n",
        "\n",
        "#-----------------\n",
        "# Copiando el modelo original\n",
        "#-----------------\n",
        "model2 = model\n",
        "\n",
        "#-----------------\n",
        "# Configurando las capas como entrenables\n",
        "#-----------------\n",
        "for layer in model2.layers:\n",
        "  layer.trainable = True\n",
        "\n",
        "#-----------------\n",
        "# Compilando el modelo\n",
        "#-----------------\n",
        "model2.compile(optimizer=tensorflow.keras.optimizers.Adam(learning_rate=0.00001), loss='categorical_crossentropy', metrics=['accuracy',tensorflow.keras.metrics.F1Score(average='macro')])\n",
        "\n",
        "#-----------------\n",
        "# Revisando el modelo\n",
        "#-----------------\n",
        "model2.summary()"
      ],
      "metadata": {
        "colab": {
          "base_uri": "https://localhost:8080/",
          "height": 380
        },
        "id": "wAWStGECbqP7",
        "outputId": "3ac8183b-64de-4c9e-ab23-2daf447628a0"
      },
      "execution_count": 27,
      "outputs": [
        {
          "output_type": "display_data",
          "data": {
            "text/plain": [
              "\u001b[1mModel: \"functional_2\"\u001b[0m\n"
            ],
            "text/html": [
              "<pre style=\"white-space:pre;overflow-x:auto;line-height:normal;font-family:Menlo,'DejaVu Sans Mono',consolas,'Courier New',monospace\"><span style=\"font-weight: bold\">Model: \"functional_2\"</span>\n",
              "</pre>\n"
            ]
          },
          "metadata": {}
        },
        {
          "output_type": "display_data",
          "data": {
            "text/plain": [
              "┏━━━━━━━━━━━━━━━━━━━━━━━━━━━┳━━━━━━━━━━━━━━━━━━━━━━━━┳━━━━━━━━━━━━━━━━┳━━━━━━━━━━━━━━━━━━━━━━━━┓\n",
              "┃\u001b[1m \u001b[0m\u001b[1mLayer (type)             \u001b[0m\u001b[1m \u001b[0m┃\u001b[1m \u001b[0m\u001b[1mOutput Shape          \u001b[0m\u001b[1m \u001b[0m┃\u001b[1m \u001b[0m\u001b[1m       Param #\u001b[0m\u001b[1m \u001b[0m┃\u001b[1m \u001b[0m\u001b[1mConnected to          \u001b[0m\u001b[1m \u001b[0m┃\n",
              "┡━━━━━━━━━━━━━━━━━━━━━━━━━━━╇━━━━━━━━━━━━━━━━━━━━━━━━╇━━━━━━━━━━━━━━━━╇━━━━━━━━━━━━━━━━━━━━━━━━┩\n",
              "│ input_ids (\u001b[38;5;33mInputLayer\u001b[0m)    │ (\u001b[38;5;45mNone\u001b[0m, \u001b[38;5;34m140\u001b[0m)            │              \u001b[38;5;34m0\u001b[0m │ -                      │\n",
              "├───────────────────────────┼────────────────────────┼────────────────┼────────────────────────┤\n",
              "│ attention_mask            │ (\u001b[38;5;45mNone\u001b[0m, \u001b[38;5;34m140\u001b[0m)            │              \u001b[38;5;34m0\u001b[0m │ -                      │\n",
              "│ (\u001b[38;5;33mInputLayer\u001b[0m)              │                        │                │                        │\n",
              "├───────────────────────────┼────────────────────────┼────────────────┼────────────────────────┤\n",
              "│ lambda_2 (\u001b[38;5;33mLambda\u001b[0m)         │ (\u001b[38;5;45mNone\u001b[0m, \u001b[38;5;34m140\u001b[0m, \u001b[38;5;34m768\u001b[0m)       │              \u001b[38;5;34m0\u001b[0m │ input_ids[\u001b[38;5;34m0\u001b[0m][\u001b[38;5;34m0\u001b[0m],       │\n",
              "│                           │                        │                │ attention_mask[\u001b[38;5;34m0\u001b[0m][\u001b[38;5;34m0\u001b[0m]   │\n",
              "├───────────────────────────┼────────────────────────┼────────────────┼────────────────────────┤\n",
              "│ global_average_pooling1d… │ (\u001b[38;5;45mNone\u001b[0m, \u001b[38;5;34m768\u001b[0m)            │              \u001b[38;5;34m0\u001b[0m │ lambda_2[\u001b[38;5;34m0\u001b[0m][\u001b[38;5;34m0\u001b[0m]         │\n",
              "│ (\u001b[38;5;33mGlobalAveragePooling1D\u001b[0m)  │                        │                │                        │\n",
              "├───────────────────────────┼────────────────────────┼────────────────┼────────────────────────┤\n",
              "│ dropout_2 (\u001b[38;5;33mDropout\u001b[0m)       │ (\u001b[38;5;45mNone\u001b[0m, \u001b[38;5;34m768\u001b[0m)            │              \u001b[38;5;34m0\u001b[0m │ global_average_poolin… │\n",
              "├───────────────────────────┼────────────────────────┼────────────────┼────────────────────────┤\n",
              "│ dense_2 (\u001b[38;5;33mDense\u001b[0m)           │ (\u001b[38;5;45mNone\u001b[0m, \u001b[38;5;34m3\u001b[0m)              │          \u001b[38;5;34m2,307\u001b[0m │ dropout_2[\u001b[38;5;34m0\u001b[0m][\u001b[38;5;34m0\u001b[0m]        │\n",
              "└───────────────────────────┴────────────────────────┴────────────────┴────────────────────────┘\n"
            ],
            "text/html": [
              "<pre style=\"white-space:pre;overflow-x:auto;line-height:normal;font-family:Menlo,'DejaVu Sans Mono',consolas,'Courier New',monospace\">┏━━━━━━━━━━━━━━━━━━━━━━━━━━━┳━━━━━━━━━━━━━━━━━━━━━━━━┳━━━━━━━━━━━━━━━━┳━━━━━━━━━━━━━━━━━━━━━━━━┓\n",
              "┃<span style=\"font-weight: bold\"> Layer (type)              </span>┃<span style=\"font-weight: bold\"> Output Shape           </span>┃<span style=\"font-weight: bold\">        Param # </span>┃<span style=\"font-weight: bold\"> Connected to           </span>┃\n",
              "┡━━━━━━━━━━━━━━━━━━━━━━━━━━━╇━━━━━━━━━━━━━━━━━━━━━━━━╇━━━━━━━━━━━━━━━━╇━━━━━━━━━━━━━━━━━━━━━━━━┩\n",
              "│ input_ids (<span style=\"color: #0087ff; text-decoration-color: #0087ff\">InputLayer</span>)    │ (<span style=\"color: #00d7ff; text-decoration-color: #00d7ff\">None</span>, <span style=\"color: #00af00; text-decoration-color: #00af00\">140</span>)            │              <span style=\"color: #00af00; text-decoration-color: #00af00\">0</span> │ -                      │\n",
              "├───────────────────────────┼────────────────────────┼────────────────┼────────────────────────┤\n",
              "│ attention_mask            │ (<span style=\"color: #00d7ff; text-decoration-color: #00d7ff\">None</span>, <span style=\"color: #00af00; text-decoration-color: #00af00\">140</span>)            │              <span style=\"color: #00af00; text-decoration-color: #00af00\">0</span> │ -                      │\n",
              "│ (<span style=\"color: #0087ff; text-decoration-color: #0087ff\">InputLayer</span>)              │                        │                │                        │\n",
              "├───────────────────────────┼────────────────────────┼────────────────┼────────────────────────┤\n",
              "│ lambda_2 (<span style=\"color: #0087ff; text-decoration-color: #0087ff\">Lambda</span>)         │ (<span style=\"color: #00d7ff; text-decoration-color: #00d7ff\">None</span>, <span style=\"color: #00af00; text-decoration-color: #00af00\">140</span>, <span style=\"color: #00af00; text-decoration-color: #00af00\">768</span>)       │              <span style=\"color: #00af00; text-decoration-color: #00af00\">0</span> │ input_ids[<span style=\"color: #00af00; text-decoration-color: #00af00\">0</span>][<span style=\"color: #00af00; text-decoration-color: #00af00\">0</span>],       │\n",
              "│                           │                        │                │ attention_mask[<span style=\"color: #00af00; text-decoration-color: #00af00\">0</span>][<span style=\"color: #00af00; text-decoration-color: #00af00\">0</span>]   │\n",
              "├───────────────────────────┼────────────────────────┼────────────────┼────────────────────────┤\n",
              "│ global_average_pooling1d… │ (<span style=\"color: #00d7ff; text-decoration-color: #00d7ff\">None</span>, <span style=\"color: #00af00; text-decoration-color: #00af00\">768</span>)            │              <span style=\"color: #00af00; text-decoration-color: #00af00\">0</span> │ lambda_2[<span style=\"color: #00af00; text-decoration-color: #00af00\">0</span>][<span style=\"color: #00af00; text-decoration-color: #00af00\">0</span>]         │\n",
              "│ (<span style=\"color: #0087ff; text-decoration-color: #0087ff\">GlobalAveragePooling1D</span>)  │                        │                │                        │\n",
              "├───────────────────────────┼────────────────────────┼────────────────┼────────────────────────┤\n",
              "│ dropout_2 (<span style=\"color: #0087ff; text-decoration-color: #0087ff\">Dropout</span>)       │ (<span style=\"color: #00d7ff; text-decoration-color: #00d7ff\">None</span>, <span style=\"color: #00af00; text-decoration-color: #00af00\">768</span>)            │              <span style=\"color: #00af00; text-decoration-color: #00af00\">0</span> │ global_average_poolin… │\n",
              "├───────────────────────────┼────────────────────────┼────────────────┼────────────────────────┤\n",
              "│ dense_2 (<span style=\"color: #0087ff; text-decoration-color: #0087ff\">Dense</span>)           │ (<span style=\"color: #00d7ff; text-decoration-color: #00d7ff\">None</span>, <span style=\"color: #00af00; text-decoration-color: #00af00\">3</span>)              │          <span style=\"color: #00af00; text-decoration-color: #00af00\">2,307</span> │ dropout_2[<span style=\"color: #00af00; text-decoration-color: #00af00\">0</span>][<span style=\"color: #00af00; text-decoration-color: #00af00\">0</span>]        │\n",
              "└───────────────────────────┴────────────────────────┴────────────────┴────────────────────────┘\n",
              "</pre>\n"
            ]
          },
          "metadata": {}
        },
        {
          "output_type": "display_data",
          "data": {
            "text/plain": [
              "\u001b[1m Total params: \u001b[0m\u001b[38;5;34m2,307\u001b[0m (9.01 KB)\n"
            ],
            "text/html": [
              "<pre style=\"white-space:pre;overflow-x:auto;line-height:normal;font-family:Menlo,'DejaVu Sans Mono',consolas,'Courier New',monospace\"><span style=\"font-weight: bold\"> Total params: </span><span style=\"color: #00af00; text-decoration-color: #00af00\">2,307</span> (9.01 KB)\n",
              "</pre>\n"
            ]
          },
          "metadata": {}
        },
        {
          "output_type": "display_data",
          "data": {
            "text/plain": [
              "\u001b[1m Trainable params: \u001b[0m\u001b[38;5;34m2,307\u001b[0m (9.01 KB)\n"
            ],
            "text/html": [
              "<pre style=\"white-space:pre;overflow-x:auto;line-height:normal;font-family:Menlo,'DejaVu Sans Mono',consolas,'Courier New',monospace\"><span style=\"font-weight: bold\"> Trainable params: </span><span style=\"color: #00af00; text-decoration-color: #00af00\">2,307</span> (9.01 KB)\n",
              "</pre>\n"
            ]
          },
          "metadata": {}
        },
        {
          "output_type": "display_data",
          "data": {
            "text/plain": [
              "\u001b[1m Non-trainable params: \u001b[0m\u001b[38;5;34m0\u001b[0m (0.00 B)\n"
            ],
            "text/html": [
              "<pre style=\"white-space:pre;overflow-x:auto;line-height:normal;font-family:Menlo,'DejaVu Sans Mono',consolas,'Courier New',monospace\"><span style=\"font-weight: bold\"> Non-trainable params: </span><span style=\"color: #00af00; text-decoration-color: #00af00\">0</span> (0.00 B)\n",
              "</pre>\n"
            ]
          },
          "metadata": {}
        }
      ]
    },
    {
      "cell_type": "markdown",
      "source": [
        "A partir del ajuste fino, se entrena el nuevo modelo y se grafican la precisión y el F1 score para evaluar el desempeño del entrenamiento:"
      ],
      "metadata": {
        "id": "RH6rP36azUND"
      }
    },
    {
      "cell_type": "code",
      "source": [
        "#-----------------\n",
        "# Implementando el scheduler\n",
        "#-----------------\n",
        "reduce_lr = ReduceLROnPlateau(monitor='val_loss',  # Monitorea la pérdida de validación\n",
        "                              factor=0.5,          # Factor por el cual se reduce la tasa de aprendizaje\n",
        "                              patience=2,          # Número de épocas con estancamiento para reducir el learning rate\n",
        "                              min_lr=0.00001)      # Límite inferior para la tasa de aprendizaje\n",
        "\n",
        "#-----------------\n",
        "# Entrenando el modelo\n",
        "#-----------------\n",
        "his2 = model2.fit(train_data, epochs=epochs, validation_data=validation_data, callbacks=[reduce_lr])\n",
        "\n",
        "#-----------------\n",
        "# Graficando la precisión\n",
        "#-----------------\n",
        "plot_accuracy(his2)\n",
        "\n",
        "#-----------------\n",
        "# Graficando el F1 score\n",
        "#-----------------\n",
        "plot_f1_score(his2)"
      ],
      "metadata": {
        "colab": {
          "base_uri": "https://localhost:8080/",
          "height": 1000
        },
        "id": "2kPZxBrlb9q7",
        "outputId": "9a858249-cd8f-4dec-b923-6fa2e08cde3e"
      },
      "execution_count": 28,
      "outputs": [
        {
          "output_type": "stream",
          "name": "stdout",
          "text": [
            "Epoch 1/10\n",
            "    315/Unknown \u001b[1m115s\u001b[0m 304ms/step - accuracy: 0.3620 - f1_score: 0.3156 - loss: 1.1147"
          ]
        },
        {
          "output_type": "stream",
          "name": "stderr",
          "text": [
            "/usr/lib/python3.10/contextlib.py:153: UserWarning: Your input ran out of data; interrupting training. Make sure that your dataset or generator can generate at least `steps_per_epoch * epochs` batches. You may need to use the `.repeat()` function when building your dataset.\n",
            "  self.gen.throw(typ, value, traceback)\n"
          ]
        },
        {
          "output_type": "stream",
          "name": "stdout",
          "text": [
            "\b\b\b\b\b\b\b\b\b\b\b\b\b\b\b\b\b\b\b\b\b\b\b\b\b\b\b\b\b\b\b\b\b\b\b\b\b\b\b\b\b\b\b\b\b\b\b\b\b\b\b\b\b\b\b\b\b\b\b\b\b\b\b\b\b\b\b\b\b\b\b\b\b\b\b\b\b\b\b\b\b\b\b\b\r\u001b[1m315/315\u001b[0m \u001b[32m━━━━━━━━━━━━━━━━━━━━\u001b[0m\u001b[37m\u001b[0m \u001b[1m149s\u001b[0m 414ms/step - accuracy: 0.3620 - f1_score: 0.3156 - loss: 1.1147 - val_accuracy: 0.3556 - val_f1_score: 0.3251 - val_loss: 1.0952 - learning_rate: 1.0000e-05\n",
            "Epoch 2/10\n",
            "\u001b[1m315/315\u001b[0m \u001b[32m━━━━━━━━━━━━━━━━━━━━\u001b[0m\u001b[37m\u001b[0m \u001b[1m112s\u001b[0m 357ms/step - accuracy: 0.3597 - f1_score: 0.3490 - loss: 1.0997 - val_accuracy: 0.3663 - val_f1_score: 0.3266 - val_loss: 1.0940 - learning_rate: 1.0000e-05\n",
            "Epoch 3/10\n",
            "\u001b[1m315/315\u001b[0m \u001b[32m━━━━━━━━━━━━━━━━━━━━\u001b[0m\u001b[37m\u001b[0m \u001b[1m112s\u001b[0m 354ms/step - accuracy: 0.3624 - f1_score: 0.3519 - loss: 1.0990 - val_accuracy: 0.3671 - val_f1_score: 0.3261 - val_loss: 1.0934 - learning_rate: 1.0000e-05\n",
            "Epoch 4/10\n",
            "\u001b[1m315/315\u001b[0m \u001b[32m━━━━━━━━━━━━━━━━━━━━\u001b[0m\u001b[37m\u001b[0m \u001b[1m111s\u001b[0m 354ms/step - accuracy: 0.3617 - f1_score: 0.3522 - loss: 1.0987 - val_accuracy: 0.3651 - val_f1_score: 0.3200 - val_loss: 1.0933 - learning_rate: 1.0000e-05\n",
            "Epoch 5/10\n",
            "\u001b[1m315/315\u001b[0m \u001b[32m━━━━━━━━━━━━━━━━━━━━\u001b[0m\u001b[37m\u001b[0m \u001b[1m112s\u001b[0m 354ms/step - accuracy: 0.3664 - f1_score: 0.3543 - loss: 1.1018 - val_accuracy: 0.3667 - val_f1_score: 0.3242 - val_loss: 1.0930 - learning_rate: 1.0000e-05\n",
            "Epoch 6/10\n",
            "\u001b[1m315/315\u001b[0m \u001b[32m━━━━━━━━━━━━━━━━━━━━\u001b[0m\u001b[37m\u001b[0m \u001b[1m111s\u001b[0m 353ms/step - accuracy: 0.3689 - f1_score: 0.3576 - loss: 1.1017 - val_accuracy: 0.3679 - val_f1_score: 0.3260 - val_loss: 1.0929 - learning_rate: 1.0000e-05\n",
            "Epoch 7/10\n",
            "\u001b[1m315/315\u001b[0m \u001b[32m━━━━━━━━━━━━━━━━━━━━\u001b[0m\u001b[37m\u001b[0m \u001b[1m111s\u001b[0m 353ms/step - accuracy: 0.3606 - f1_score: 0.3478 - loss: 1.1008 - val_accuracy: 0.3671 - val_f1_score: 0.3325 - val_loss: 1.0926 - learning_rate: 1.0000e-05\n",
            "Epoch 8/10\n",
            "\u001b[1m315/315\u001b[0m \u001b[32m━━━━━━━━━━━━━━━━━━━━\u001b[0m\u001b[37m\u001b[0m \u001b[1m111s\u001b[0m 354ms/step - accuracy: 0.3645 - f1_score: 0.3534 - loss: 1.0996 - val_accuracy: 0.3714 - val_f1_score: 0.3356 - val_loss: 1.0926 - learning_rate: 1.0000e-05\n",
            "Epoch 9/10\n",
            "\u001b[1m315/315\u001b[0m \u001b[32m━━━━━━━━━━━━━━━━━━━━\u001b[0m\u001b[37m\u001b[0m \u001b[1m111s\u001b[0m 354ms/step - accuracy: 0.3590 - f1_score: 0.3455 - loss: 1.1018 - val_accuracy: 0.3663 - val_f1_score: 0.3390 - val_loss: 1.0926 - learning_rate: 1.0000e-05\n",
            "Epoch 10/10\n",
            "\u001b[1m315/315\u001b[0m \u001b[32m━━━━━━━━━━━━━━━━━━━━\u001b[0m\u001b[37m\u001b[0m \u001b[1m143s\u001b[0m 357ms/step - accuracy: 0.3610 - f1_score: 0.3488 - loss: 1.1000 - val_accuracy: 0.3714 - val_f1_score: 0.3356 - val_loss: 1.0926 - learning_rate: 1.0000e-05\n"
          ]
        },
        {
          "output_type": "display_data",
          "data": {
            "text/plain": [
              "<Figure size 640x480 with 1 Axes>"
            ],
            "image/png": "[encoded data removed]"
          },
          "metadata": {}
        },
        {
          "output_type": "display_data",
          "data": {
            "text/plain": [
              "<Figure size 640x480 with 1 Axes>"
            ],
            "image/png": "[encoded data removed]"
          },
          "metadata": {}
        }
      ]
    },
    {
      "cell_type": "markdown",
      "source": [
        "Los gráficos muestran una mejora en el proceso de entrenamiento después de implementar un ajuste fino al modelo. Los valores de precisión y F1 score son un poco mayores en relación con los valores obtenidos en el entrenamiento anterior. Además, durante la validación no se observan tantas fluctuaciones como antes.\n",
        "\n",
        "No obstante, tanto la precisión de entrenamiento como la de validación aún muestran fluctuaciones significativas a lo largo de las épocas. Esto podría ser un signo de que el modelo no está entrenando de manera estable, lo que podría estar relacionado con un learning rate demasiado alto, una cantidad insuficiente de datos, o un modelo que es demasiado complejo para el conjunto de datos.\n",
        "\n",
        "Con base en los resultados del entrenamiento, se hacen predicciones sobre el conjunto de prueba, primero obteniendo probabilidades y luego convirtiéndolas en clases predichas.\n",
        "\n",
        "Después se evalúa el modelo en el conjunto de prueba para obtener una métrica de rendimiento, como la precisión o el F1 score."
      ],
      "metadata": {
        "id": "4QQ7lnMw0BYG"
      }
    },
    {
      "cell_type": "code",
      "source": [
        "#-----------------\n",
        "# Realizando predicciones\n",
        "#-----------------\n",
        "y_hat_prob2 = model2.predict(X_test)\n",
        "y_hat_prob2[:3]\n",
        "\n",
        "#-----------------\n",
        "# Convirtiendo las probabilidades en clases\n",
        "#-----------------\n",
        "y_hat2 = np.argmax(y_hat_prob2, axis=1)\n",
        "\n",
        "#-----------------\n",
        "# Evaluando el modelo\n",
        "#-----------------\n",
        "scores = model2.evaluate(X_test, y_test)\n",
        "scores[1]"
      ],
      "metadata": {
        "colab": {
          "base_uri": "https://localhost:8080/"
        },
        "id": "px2XfI_YcHGf",
        "outputId": "7f52c46e-cb11-48cf-b1f8-409dec62d0b9"
      },
      "execution_count": 29,
      "outputs": [
        {
          "output_type": "stream",
          "name": "stdout",
          "text": [
            "\u001b[1m99/99\u001b[0m \u001b[32m━━━━━━━━━━━━━━━━━━━━\u001b[0m\u001b[37m\u001b[0m \u001b[1m42s\u001b[0m 368ms/step\n",
            "\u001b[1m99/99\u001b[0m \u001b[32m━━━━━━━━━━━━━━━━━━━━\u001b[0m\u001b[37m\u001b[0m \u001b[1m42s\u001b[0m 346ms/step - accuracy: 0.3224 - f1_score: 0.3155 - loss: 1.1090\n"
          ]
        },
        {
          "output_type": "execute_result",
          "data": {
            "text/plain": [
              "0.31365078687667847"
            ]
          },
          "metadata": {},
          "execution_count": 29
        }
      ]
    },
    {
      "cell_type": "markdown",
      "source": [
        "Nuevamente se obtiene un F1 score final de aproximadamente 31.36%, indicando que el modelo no está realizando predicciones de alta calidad en el conjunto de prueba.\n",
        "\n",
        "## **8. Entrenamiento con las 5 clases originales**\n",
        "\n",
        "En las siguientes celdas se entrena nuevamente el modelo BERT pero esta vez con las 5 clases originales de revisiones (escala de 1 a 5)."
      ],
      "metadata": {
        "id": "RrBSdTNseUUx"
      }
    },
    {
      "cell_type": "code",
      "source": [
        "#-----------------\n",
        "# Inicializando el tokenizador de BERT\n",
        "#-----------------\n",
        "bert_tokenizer = BertTokenizer.from_pretrained(\"bert-base-uncased\")\n",
        "\n",
        "#-----------------\n",
        "# Cargando el archivo de reviews en un dataframe nuevo\n",
        "#-----------------\n",
        "df2 = pd.read_csv('reviews.csv')\n",
        "\n",
        "df2"
      ],
      "metadata": {
        "colab": {
          "base_uri": "https://localhost:8080/",
          "height": 1000
        },
        "id": "WPbehT2BfW0y",
        "outputId": "161ebade-d035-45f1-bc9a-b1962abe100d"
      },
      "execution_count": 8,
      "outputs": [
        {
          "output_type": "execute_result",
          "data": {
            "text/plain": [
              "                userName                                          userImage  \\\n",
              "0          Andrew Thomas  https://lh3.googleusercontent.com/a-/AOh14GiHd...   \n",
              "1           Craig Haines  https://lh3.googleusercontent.com/-hoe0kwSJgPQ...   \n",
              "2          steven adkins  https://lh3.googleusercontent.com/a-/AOh14GiXw...   \n",
              "3       Lars Panzerbjørn  https://lh3.googleusercontent.com/a-/AOh14Gg-h...   \n",
              "4          Scott Prewitt  https://lh3.googleusercontent.com/-K-X1-YsVd6U...   \n",
              "...                  ...                                                ...   \n",
              "15741          Tammy Kay  https://lh3.googleusercontent.com/a-/AOh14GhYP...   \n",
              "15742          Ysm Johan  https://lh3.googleusercontent.com/a-/AOh14Ggmd...   \n",
              "15743      casey dearden  https://lh3.googleusercontent.com/a-/AOh14Gg2U...   \n",
              "15744     Jerry G Tamate  https://lh3.googleusercontent.com/a-/AOh14GiTP...   \n",
              "15745  Ahmed elsalamouni  https://lh3.googleusercontent.com/-9QSxVUhCoDI...   \n",
              "\n",
              "                                                 content  score  \\\n",
              "0      Update: After getting a response from the deve...      1   \n",
              "1      Used it for a fair amount of time without any ...      1   \n",
              "2      Your app sucks now!!!!! Used to be good but no...      1   \n",
              "3      It seems OK, but very basic. Recurring tasks n...      1   \n",
              "4      Absolutely worthless. This app runs a prohibit...      1   \n",
              "...                                                  ...    ...   \n",
              "15741  I believe that this is by far the best app wit...      5   \n",
              "15742                       It sometimes crashes a lot!!      5   \n",
              "15743                         Works well for what I need      5   \n",
              "15744                                           Love it.      5   \n",
              "15745  Really amazing and helped me sooo much just i ...      5   \n",
              "\n",
              "       thumbsUpCount reviewCreatedVersion                   at  \\\n",
              "0                 21             4.17.0.3  2020-04-05 22:25:57   \n",
              "1                 11             4.17.0.3  2020-04-04 13:40:01   \n",
              "2                 17             4.17.0.3  2020-04-01 16:18:13   \n",
              "3                192             4.17.0.2  2020-03-12 08:17:34   \n",
              "4                 42             4.17.0.2  2020-03-14 17:41:01   \n",
              "...              ...                  ...                  ...   \n",
              "15741              0                  NaN  2018-02-17 06:09:03   \n",
              "15742              0                4.3.7  2018-02-15 10:45:22   \n",
              "15743              0                4.3.7  2018-02-09 18:40:37   \n",
              "15744              0                  NaN  2018-02-06 12:36:17   \n",
              "15745              6                4.3.7  2018-02-04 22:57:09   \n",
              "\n",
              "                                            replyContent            repliedAt  \\\n",
              "0      According to our TOS, and the term you have ag...  2020-04-05 15:10:24   \n",
              "1      It sounds like you logged in with a different ...  2020-04-05 15:11:35   \n",
              "2      This sounds odd! We are not aware of any issue...  2020-04-02 16:05:56   \n",
              "3      We do offer this option as part of the Advance...  2020-03-15 06:20:13   \n",
              "4      We're sorry you feel this way! 90% of the app ...  2020-03-15 23:45:51   \n",
              "...                                                  ...                  ...   \n",
              "15741                                                NaN                  NaN   \n",
              "15742                                                NaN                  NaN   \n",
              "15743                                                NaN                  NaN   \n",
              "15744                                                NaN                  NaN   \n",
              "15745                                                NaN                  NaN   \n",
              "\n",
              "           sortOrder              appId  \n",
              "0      most_relevant          com.anydo  \n",
              "1      most_relevant          com.anydo  \n",
              "2      most_relevant          com.anydo  \n",
              "3      most_relevant          com.anydo  \n",
              "4      most_relevant          com.anydo  \n",
              "...              ...                ...  \n",
              "15741         newest  com.appxy.planner  \n",
              "15742         newest  com.appxy.planner  \n",
              "15743         newest  com.appxy.planner  \n",
              "15744         newest  com.appxy.planner  \n",
              "15745         newest  com.appxy.planner  \n",
              "\n",
              "[15746 rows x 11 columns]"
            ],
            "text/html": [
              "\n",
              "  <div id=\"df-535eea0a-b775-4bb4-b5c9-2863d3d5dd41\" class=\"colab-df-container\">\n",
              "    <div>\n",
              "<style scoped>\n",
              "    .dataframe tbody tr th:only-of-type {\n",
              "        vertical-align: middle;\n",
              "    }\n",
              "\n",
              "    .dataframe tbody tr th {\n",
              "        vertical-align: top;\n",
              "    }\n",
              "\n",
              "    .dataframe thead th {\n",
              "        text-align: right;\n",
              "    }\n",
              "</style>\n",
              "<table border=\"1\" class=\"dataframe\">\n",
              "  <thead>\n",
              "    <tr style=\"text-align: right;\">\n",
              "      <th></th>\n",
              "      <th>userName</th>\n",
              "      <th>userImage</th>\n",
              "      <th>content</th>\n",
              "      <th>score</th>\n",
              "      <th>thumbsUpCount</th>\n",
              "      <th>reviewCreatedVersion</th>\n",
              "      <th>at</th>\n",
              "      <th>replyContent</th>\n",
              "      <th>repliedAt</th>\n",
              "      <th>sortOrder</th>\n",
              "      <th>appId</th>\n",
              "    </tr>\n",
              "  </thead>\n",
              "  <tbody>\n",
              "    <tr>\n",
              "      <th>0</th>\n",
              "      <td>Andrew Thomas</td>\n",
              "      <td>https://lh3.googleusercontent.com/a-/AOh14GiHd...</td>\n",
              "      <td>Update: After getting a response from the deve...</td>\n",
              "      <td>1</td>\n",
              "      <td>21</td>\n",
              "      <td>4.17.0.3</td>\n",
              "      <td>2020-04-05 22:25:57</td>\n",
              "      <td>According to our TOS, and the term you have ag...</td>\n",
              "      <td>2020-04-05 15:10:24</td>\n",
              "      <td>most_relevant</td>\n",
              "      <td>com.anydo</td>\n",
              "    </tr>\n",
              "    <tr>\n",
              "      <th>1</th>\n",
              "      <td>Craig Haines</td>\n",
              "      <td>https://lh3.googleusercontent.com/-hoe0kwSJgPQ...</td>\n",
              "      <td>Used it for a fair amount of time without any ...</td>\n",
              "      <td>1</td>\n",
              "      <td>11</td>\n",
              "      <td>4.17.0.3</td>\n",
              "      <td>2020-04-04 13:40:01</td>\n",
              "      <td>It sounds like you logged in with a different ...</td>\n",
              "      <td>2020-04-05 15:11:35</td>\n",
              "      <td>most_relevant</td>\n",
              "      <td>com.anydo</td>\n",
              "    </tr>\n",
              "    <tr>\n",
              "      <th>2</th>\n",
              "      <td>steven adkins</td>\n",
              "      <td>https://lh3.googleusercontent.com/a-/AOh14GiXw...</td>\n",
              "      <td>Your app sucks now!!!!! Used to be good but no...</td>\n",
              "      <td>1</td>\n",
              "      <td>17</td>\n",
              "      <td>4.17.0.3</td>\n",
              "      <td>2020-04-01 16:18:13</td>\n",
              "      <td>This sounds odd! We are not aware of any issue...</td>\n",
              "      <td>2020-04-02 16:05:56</td>\n",
              "      <td>most_relevant</td>\n",
              "      <td>com.anydo</td>\n",
              "    </tr>\n",
              "    <tr>\n",
              "      <th>3</th>\n",
              "      <td>Lars Panzerbjørn</td>\n",
              "      <td>https://lh3.googleusercontent.com/a-/AOh14Gg-h...</td>\n",
              "      <td>It seems OK, but very basic. Recurring tasks n...</td>\n",
              "      <td>1</td>\n",
              "      <td>192</td>\n",
              "      <td>4.17.0.2</td>\n",
              "      <td>2020-03-12 08:17:34</td>\n",
              "      <td>We do offer this option as part of the Advance...</td>\n",
              "      <td>2020-03-15 06:20:13</td>\n",
              "      <td>most_relevant</td>\n",
              "      <td>com.anydo</td>\n",
              "    </tr>\n",
              "    <tr>\n",
              "      <th>4</th>\n",
              "      <td>Scott Prewitt</td>\n",
              "      <td>https://lh3.googleusercontent.com/-K-X1-YsVd6U...</td>\n",
              "      <td>Absolutely worthless. This app runs a prohibit...</td>\n",
              "      <td>1</td>\n",
              "      <td>42</td>\n",
              "      <td>4.17.0.2</td>\n",
              "      <td>2020-03-14 17:41:01</td>\n",
              "      <td>We're sorry you feel this way! 90% of the app ...</td>\n",
              "      <td>2020-03-15 23:45:51</td>\n",
              "      <td>most_relevant</td>\n",
              "      <td>com.anydo</td>\n",
              "    </tr>\n",
              "    <tr>\n",
              "      <th>...</th>\n",
              "      <td>...</td>\n",
              "      <td>...</td>\n",
              "      <td>...</td>\n",
              "      <td>...</td>\n",
              "      <td>...</td>\n",
              "      <td>...</td>\n",
              "      <td>...</td>\n",
              "      <td>...</td>\n",
              "      <td>...</td>\n",
              "      <td>...</td>\n",
              "      <td>...</td>\n",
              "    </tr>\n",
              "    <tr>\n",
              "      <th>15741</th>\n",
              "      <td>Tammy Kay</td>\n",
              "      <td>https://lh3.googleusercontent.com/a-/AOh14GhYP...</td>\n",
              "      <td>I believe that this is by far the best app wit...</td>\n",
              "      <td>5</td>\n",
              "      <td>0</td>\n",
              "      <td>NaN</td>\n",
              "      <td>2018-02-17 06:09:03</td>\n",
              "      <td>NaN</td>\n",
              "      <td>NaN</td>\n",
              "      <td>newest</td>\n",
              "      <td>com.appxy.planner</td>\n",
              "    </tr>\n",
              "    <tr>\n",
              "      <th>15742</th>\n",
              "      <td>Ysm Johan</td>\n",
              "      <td>https://lh3.googleusercontent.com/a-/AOh14Ggmd...</td>\n",
              "      <td>It sometimes crashes a lot!!</td>\n",
              "      <td>5</td>\n",
              "      <td>0</td>\n",
              "      <td>4.3.7</td>\n",
              "      <td>2018-02-15 10:45:22</td>\n",
              "      <td>NaN</td>\n",
              "      <td>NaN</td>\n",
              "      <td>newest</td>\n",
              "      <td>com.appxy.planner</td>\n",
              "    </tr>\n",
              "    <tr>\n",
              "      <th>15743</th>\n",
              "      <td>casey dearden</td>\n",
              "      <td>https://lh3.googleusercontent.com/a-/AOh14Gg2U...</td>\n",
              "      <td>Works well for what I need</td>\n",
              "      <td>5</td>\n",
              "      <td>0</td>\n",
              "      <td>4.3.7</td>\n",
              "      <td>2018-02-09 18:40:37</td>\n",
              "      <td>NaN</td>\n",
              "      <td>NaN</td>\n",
              "      <td>newest</td>\n",
              "      <td>com.appxy.planner</td>\n",
              "    </tr>\n",
              "    <tr>\n",
              "      <th>15744</th>\n",
              "      <td>Jerry G Tamate</td>\n",
              "      <td>https://lh3.googleusercontent.com/a-/AOh14GiTP...</td>\n",
              "      <td>Love it.</td>\n",
              "      <td>5</td>\n",
              "      <td>0</td>\n",
              "      <td>NaN</td>\n",
              "      <td>2018-02-06 12:36:17</td>\n",
              "      <td>NaN</td>\n",
              "      <td>NaN</td>\n",
              "      <td>newest</td>\n",
              "      <td>com.appxy.planner</td>\n",
              "    </tr>\n",
              "    <tr>\n",
              "      <th>15745</th>\n",
              "      <td>Ahmed elsalamouni</td>\n",
              "      <td>https://lh3.googleusercontent.com/-9QSxVUhCoDI...</td>\n",
              "      <td>Really amazing and helped me sooo much just i ...</td>\n",
              "      <td>5</td>\n",
              "      <td>6</td>\n",
              "      <td>4.3.7</td>\n",
              "      <td>2018-02-04 22:57:09</td>\n",
              "      <td>NaN</td>\n",
              "      <td>NaN</td>\n",
              "      <td>newest</td>\n",
              "      <td>com.appxy.planner</td>\n",
              "    </tr>\n",
              "  </tbody>\n",
              "</table>\n",
              "<p>15746 rows × 11 columns</p>\n",
              "</div>\n",
              "    <div class=\"colab-df-buttons\">\n",
              "\n",
              "  <div class=\"colab-df-container\">\n",
              "    <button class=\"colab-df-convert\" onclick=\"convertToInteractive('df-535eea0a-b775-4bb4-b5c9-2863d3d5dd41')\"\n",
              "            title=\"Convert this dataframe to an interactive table.\"\n",
              "            style=\"display:none;\">\n",
              "\n",
              "  <svg xmlns=\"http://www.w3.org/2000/svg\" height=\"24px\" viewBox=\"0 -960 960 960\">\n",
              "    <path d=\"M120-120v-720h720v720H120Zm60-500h600v-160H180v160Zm220 220h160v-160H400v160Zm0 220h160v-160H400v160ZM180-400h160v-160H180v160Zm440 0h160v-160H620v160ZM180-180h160v-160H180v160Zm440 0h160v-160H620v160Z\"/>\n",
              "  </svg>\n",
              "    </button>\n",
              "\n",
              "  <style>\n",
              "    .colab-df-container {\n",
              "      display:flex;\n",
              "      gap: 12px;\n",
              "    }\n",
              "\n",
              "    .colab-df-convert {\n",
              "      background-color: #E8F0FE;\n",
              "      border: none;\n",
              "      border-radius: 50%;\n",
              "      cursor: pointer;\n",
              "      display: none;\n",
              "      fill: #1967D2;\n",
              "      height: 32px;\n",
              "      padding: 0 0 0 0;\n",
              "      width: 32px;\n",
              "    }\n",
              "\n",
              "    .colab-df-convert:hover {\n",
              "      background-color: #E2EBFA;\n",
              "      box-shadow: 0px 1px 2px rgba(60, 64, 67, 0.3), 0px 1px 3px 1px rgba(60, 64, 67, 0.15);\n",
              "      fill: #174EA6;\n",
              "    }\n",
              "\n",
              "    .colab-df-buttons div {\n",
              "      margin-bottom: 4px;\n",
              "    }\n",
              "\n",
              "    [theme=dark] .colab-df-convert {\n",
              "      background-color: #3B4455;\n",
              "      fill: #D2E3FC;\n",
              "    }\n",
              "\n",
              "    [theme=dark] .colab-df-convert:hover {\n",
              "      background-color: #434B5C;\n",
              "      box-shadow: 0px 1px 3px 1px rgba(0, 0, 0, 0.15);\n",
              "      filter: drop-shadow(0px 1px 2px rgba(0, 0, 0, 0.3));\n",
              "      fill: #FFFFFF;\n",
              "    }\n",
              "  </style>\n",
              "\n",
              "    <script>\n",
              "      const buttonEl =\n",
              "        document.querySelector('#df-535eea0a-b775-4bb4-b5c9-2863d3d5dd41 button.colab-df-convert');\n",
              "      buttonEl.style.display =\n",
              "        google.colab.kernel.accessAllowed ? 'block' : 'none';\n",
              "\n",
              "      async function convertToInteractive(key) {\n",
              "        const element = document.querySelector('#df-535eea0a-b775-4bb4-b5c9-2863d3d5dd41');\n",
              "        const dataTable =\n",
              "          await google.colab.kernel.invokeFunction('convertToInteractive',\n",
              "                                                    [key], {});\n",
              "        if (!dataTable) return;\n",
              "\n",
              "        const docLinkHtml = 'Like what you see? Visit the ' +\n",
              "          '<a target=\"_blank\" href=https://colab.research.google.com/notebooks/data_table.ipynb>data table notebook</a>'\n",
              "          + ' to learn more about interactive tables.';\n",
              "        element.innerHTML = '';\n",
              "        dataTable['output_type'] = 'display_data';\n",
              "        await google.colab.output.renderOutput(dataTable, element);\n",
              "        const docLink = document.createElement('div');\n",
              "        docLink.innerHTML = docLinkHtml;\n",
              "        element.appendChild(docLink);\n",
              "      }\n",
              "    </script>\n",
              "  </div>\n",
              "\n",
              "\n",
              "<div id=\"df-50b3b441-8663-4164-ad88-65b174638e81\">\n",
              "  <button class=\"colab-df-quickchart\" onclick=\"quickchart('df-50b3b441-8663-4164-ad88-65b174638e81')\"\n",
              "            title=\"Suggest charts\"\n",
              "            style=\"display:none;\">\n",
              "\n",
              "<svg xmlns=\"http://www.w3.org/2000/svg\" height=\"24px\"viewBox=\"0 0 24 24\"\n",
              "     width=\"24px\">\n",
              "    <g>\n",
              "        <path d=\"M19 3H5c-1.1 0-2 .9-2 2v14c0 1.1.9 2 2 2h14c1.1 0 2-.9 2-2V5c0-1.1-.9-2-2-2zM9 17H7v-7h2v7zm4 0h-2V7h2v10zm4 0h-2v-4h2v4z\"/>\n",
              "    </g>\n",
              "</svg>\n",
              "  </button>\n",
              "\n",
              "<style>\n",
              "  .colab-df-quickchart {\n",
              "      --bg-color: #E8F0FE;\n",
              "      --fill-color: #1967D2;\n",
              "      --hover-bg-color: #E2EBFA;\n",
              "      --hover-fill-color: #174EA6;\n",
              "      --disabled-fill-color: #AAA;\n",
              "      --disabled-bg-color: #DDD;\n",
              "  }\n",
              "\n",
              "  [theme=dark] .colab-df-quickchart {\n",
              "      --bg-color: #3B4455;\n",
              "      --fill-color: #D2E3FC;\n",
              "      --hover-bg-color: #434B5C;\n",
              "      --hover-fill-color: #FFFFFF;\n",
              "      --disabled-bg-color: #3B4455;\n",
              "      --disabled-fill-color: #666;\n",
              "  }\n",
              "\n",
              "  .colab-df-quickchart {\n",
              "    background-color: var(--bg-color);\n",
              "    border: none;\n",
              "    border-radius: 50%;\n",
              "    cursor: pointer;\n",
              "    display: none;\n",
              "    fill: var(--fill-color);\n",
              "    height: 32px;\n",
              "    padding: 0;\n",
              "    width: 32px;\n",
              "  }\n",
              "\n",
              "  .colab-df-quickchart:hover {\n",
              "    background-color: var(--hover-bg-color);\n",
              "    box-shadow: 0 1px 2px rgba(60, 64, 67, 0.3), 0 1px 3px 1px rgba(60, 64, 67, 0.15);\n",
              "    fill: var(--button-hover-fill-color);\n",
              "  }\n",
              "\n",
              "  .colab-df-quickchart-complete:disabled,\n",
              "  .colab-df-quickchart-complete:disabled:hover {\n",
              "    background-color: var(--disabled-bg-color);\n",
              "    fill: var(--disabled-fill-color);\n",
              "    box-shadow: none;\n",
              "  }\n",
              "\n",
              "  .colab-df-spinner {\n",
              "    border: 2px solid var(--fill-color);\n",
              "    border-color: transparent;\n",
              "    border-bottom-color: var(--fill-color);\n",
              "    animation:\n",
              "      spin 1s steps(1) infinite;\n",
              "  }\n",
              "\n",
              "  @keyframes spin {\n",
              "    0% {\n",
              "      border-color: transparent;\n",
              "      border-bottom-color: var(--fill-color);\n",
              "      border-left-color: var(--fill-color);\n",
              "    }\n",
              "    20% {\n",
              "      border-color: transparent;\n",
              "      border-left-color: var(--fill-color);\n",
              "      border-top-color: var(--fill-color);\n",
              "    }\n",
              "    30% {\n",
              "      border-color: transparent;\n",
              "      border-left-color: var(--fill-color);\n",
              "      border-top-color: var(--fill-color);\n",
              "      border-right-color: var(--fill-color);\n",
              "    }\n",
              "    40% {\n",
              "      border-color: transparent;\n",
              "      border-right-color: var(--fill-color);\n",
              "      border-top-color: var(--fill-color);\n",
              "    }\n",
              "    60% {\n",
              "      border-color: transparent;\n",
              "      border-right-color: var(--fill-color);\n",
              "    }\n",
              "    80% {\n",
              "      border-color: transparent;\n",
              "      border-right-color: var(--fill-color);\n",
              "      border-bottom-color: var(--fill-color);\n",
              "    }\n",
              "    90% {\n",
              "      border-color: transparent;\n",
              "      border-bottom-color: var(--fill-color);\n",
              "    }\n",
              "  }\n",
              "</style>\n",
              "\n",
              "  <script>\n",
              "    async function quickchart(key) {\n",
              "      const quickchartButtonEl =\n",
              "        document.querySelector('#' + key + ' button');\n",
              "      quickchartButtonEl.disabled = true;  // To prevent multiple clicks.\n",
              "      quickchartButtonEl.classList.add('colab-df-spinner');\n",
              "      try {\n",
              "        const charts = await google.colab.kernel.invokeFunction(\n",
              "            'suggestCharts', [key], {});\n",
              "      } catch (error) {\n",
              "        console.error('Error during call to suggestCharts:', error);\n",
              "      }\n",
              "      quickchartButtonEl.classList.remove('colab-df-spinner');\n",
              "      quickchartButtonEl.classList.add('colab-df-quickchart-complete');\n",
              "    }\n",
              "    (() => {\n",
              "      let quickchartButtonEl =\n",
              "        document.querySelector('#df-50b3b441-8663-4164-ad88-65b174638e81 button');\n",
              "      quickchartButtonEl.style.display =\n",
              "        google.colab.kernel.accessAllowed ? 'block' : 'none';\n",
              "    })();\n",
              "  </script>\n",
              "</div>\n",
              "\n",
              "  <div id=\"id_ef005383-9331-4ef7-bf21-4e97dd51e902\">\n",
              "    <style>\n",
              "      .colab-df-generate {\n",
              "        background-color: #E8F0FE;\n",
              "        border: none;\n",
              "        border-radius: 50%;\n",
              "        cursor: pointer;\n",
              "        display: none;\n",
              "        fill: #1967D2;\n",
              "        height: 32px;\n",
              "        padding: 0 0 0 0;\n",
              "        width: 32px;\n",
              "      }\n",
              "\n",
              "      .colab-df-generate:hover {\n",
              "        background-color: #E2EBFA;\n",
              "        box-shadow: 0px 1px 2px rgba(60, 64, 67, 0.3), 0px 1px 3px 1px rgba(60, 64, 67, 0.15);\n",
              "        fill: #174EA6;\n",
              "      }\n",
              "\n",
              "      [theme=dark] .colab-df-generate {\n",
              "        background-color: #3B4455;\n",
              "        fill: #D2E3FC;\n",
              "      }\n",
              "\n",
              "      [theme=dark] .colab-df-generate:hover {\n",
              "        background-color: #434B5C;\n",
              "        box-shadow: 0px 1px 3px 1px rgba(0, 0, 0, 0.15);\n",
              "        filter: drop-shadow(0px 1px 2px rgba(0, 0, 0, 0.3));\n",
              "        fill: #FFFFFF;\n",
              "      }\n",
              "    </style>\n",
              "    <button class=\"colab-df-generate\" onclick=\"generateWithVariable('df2')\"\n",
              "            title=\"Generate code using this dataframe.\"\n",
              "            style=\"display:none;\">\n",
              "\n",
              "  <svg xmlns=\"http://www.w3.org/2000/svg\" height=\"24px\"viewBox=\"0 0 24 24\"\n",
              "       width=\"24px\">\n",
              "    <path d=\"M7,19H8.4L18.45,9,17,7.55,7,17.6ZM5,21V16.75L18.45,3.32a2,2,0,0,1,2.83,0l1.4,1.43a1.91,1.91,0,0,1,.58,1.4,1.91,1.91,0,0,1-.58,1.4L9.25,21ZM18.45,9,17,7.55Zm-12,3A5.31,5.31,0,0,0,4.9,8.1,5.31,5.31,0,0,0,1,6.5,5.31,5.31,0,0,0,4.9,4.9,5.31,5.31,0,0,0,6.5,1,5.31,5.31,0,0,0,8.1,4.9,5.31,5.31,0,0,0,12,6.5,5.46,5.46,0,0,0,6.5,12Z\"/>\n",
              "  </svg>\n",
              "    </button>\n",
              "    <script>\n",
              "      (() => {\n",
              "      const buttonEl =\n",
              "        document.querySelector('#id_ef005383-9331-4ef7-bf21-4e97dd51e902 button.colab-df-generate');\n",
              "      buttonEl.style.display =\n",
              "        google.colab.kernel.accessAllowed ? 'block' : 'none';\n",
              "\n",
              "      buttonEl.onclick = () => {\n",
              "        google.colab.notebook.generateWithVariable('df2');\n",
              "      }\n",
              "      })();\n",
              "    </script>\n",
              "  </div>\n",
              "\n",
              "    </div>\n",
              "  </div>\n"
            ],
            "application/vnd.google.colaboratory.intrinsic+json": {
              "type": "dataframe",
              "variable_name": "df2",
              "summary": "{\n  \"name\": \"df2\",\n  \"rows\": 15746,\n  \"fields\": [\n    {\n      \"column\": \"userName\",\n      \"properties\": {\n        \"dtype\": \"string\",\n        \"num_unique_values\": 9948,\n        \"samples\": [\n          \"Sally Simpson\",\n          \"TG4 Life\",\n          \"Jaiprakash Sewram\"\n        ],\n        \"semantic_type\": \"\",\n        \"description\": \"\"\n      }\n    },\n    {\n      \"column\": \"userImage\",\n      \"properties\": {\n        \"dtype\": \"string\",\n        \"num_unique_values\": 9988,\n        \"samples\": [\n          \"https://lh3.googleusercontent.com/-uufSaOkqD9k/AAAAAAAAAAI/AAAAAAAAAAA/AAKWJJNC55krY6x0eaEWBt5r2Ofr-foXRw/photo.jpg\",\n          \"https://lh3.googleusercontent.com/-hq1-CDV27p8/AAAAAAAAAAI/AAAAAAAAAAA/AAKWJJPXmkq0B9qRjjroWDy341BKcHN1Hw/photo.jpg\",\n          \"https://lh3.googleusercontent.com/-E-FbMKufng4/AAAAAAAAAAI/AAAAAAAAyOg/AAKWJJMqsESU6kEKukV4vXYXbisyRI-dIQ/photo.jpg\"\n        ],\n        \"semantic_type\": \"\",\n        \"description\": \"\"\n      }\n    },\n    {\n      \"column\": \"content\",\n      \"properties\": {\n        \"dtype\": \"string\",\n        \"num_unique_values\": 10130,\n        \"samples\": [\n          \"Its a good app but it stopped working on my phone and i have already paid the amount what to do ?\",\n          \"Too many crashes over the past few months, especially in the widget\",\n          \"Update on Oct 29: The new update with sections and the new UX design is a real drop of usability in my case. My day to day work force me to constantly change priority, project and other properties and with the new version, the natural language as been removed when editing a task. I will strongly consider not renewing my subscription because todoist was my workhorse because of that natural language. Original review : It's my day to day to do application to drive all my tasks.\"\n        ],\n        \"semantic_type\": \"\",\n        \"description\": \"\"\n      }\n    },\n    {\n      \"column\": \"score\",\n      \"properties\": {\n        \"dtype\": \"number\",\n        \"std\": 1,\n        \"min\": 1,\n        \"max\": 5,\n        \"num_unique_values\": 5,\n        \"samples\": [\n          2,\n          5,\n          3\n        ],\n        \"semantic_type\": \"\",\n        \"description\": \"\"\n      }\n    },\n    {\n      \"column\": \"thumbsUpCount\",\n      \"properties\": {\n        \"dtype\": \"number\",\n        \"std\": 17,\n        \"min\": 0,\n        \"max\": 448,\n        \"num_unique_values\": 147,\n        \"samples\": [\n          48,\n          41,\n          242\n        ],\n        \"semantic_type\": \"\",\n        \"description\": \"\"\n      }\n    },\n    {\n      \"column\": \"reviewCreatedVersion\",\n      \"properties\": {\n        \"dtype\": \"category\",\n        \"num_unique_values\": 431,\n        \"samples\": [\n          \"3.2.2\",\n          \"14.2.3\",\n          \"4.5\"\n        ],\n        \"semantic_type\": \"\",\n        \"description\": \"\"\n      }\n    },\n    {\n      \"column\": \"at\",\n      \"properties\": {\n        \"dtype\": \"object\",\n        \"num_unique_values\": 10497,\n        \"samples\": [\n          \"2019-01-20 13:57:44\",\n          \"2020-03-29 13:21:53\",\n          \"2019-11-27 14:24:28\"\n        ],\n        \"semantic_type\": \"\",\n        \"description\": \"\"\n      }\n    },\n    {\n      \"column\": \"replyContent\",\n      \"properties\": {\n        \"dtype\": \"category\",\n        \"num_unique_values\": 3926,\n        \"samples\": [\n          \"Hi Jose, really glad you're finding my app useful. Tasks is a hobby project of mine with all features and support offered for free without advertising. It has taken hundred of hours to write, improve and support and simply relies on donations and my spare time to move forward. What would help make my app a 5 star app for you? Thanks, Steve\",\n          \"Hello, this is the new sub-tasks behavior with the Foundations release, sub-tasks will now be removed from the view instead of staying there like before. Apologies for any inconvenience. We would recommend using recurring sub-tasks for your use case. Please feel free to contact us with your feedback/comments at support@todoist.com Thank you!\",\n          \"Hi, the function is not supported yet, but we are working on it.\"\n        ],\n        \"semantic_type\": \"\",\n        \"description\": \"\"\n      }\n    },\n    {\n      \"column\": \"repliedAt\",\n      \"properties\": {\n        \"dtype\": \"object\",\n        \"num_unique_values\": 4581,\n        \"samples\": [\n          \"2018-12-30 16:27:54\",\n          \"2019-10-31 14:40:11\",\n          \"2020-03-19 11:16:01\"\n        ],\n        \"semantic_type\": \"\",\n        \"description\": \"\"\n      }\n    },\n    {\n      \"column\": \"sortOrder\",\n      \"properties\": {\n        \"dtype\": \"category\",\n        \"num_unique_values\": 2,\n        \"samples\": [\n          \"newest\",\n          \"most_relevant\"\n        ],\n        \"semantic_type\": \"\",\n        \"description\": \"\"\n      }\n    },\n    {\n      \"column\": \"appId\",\n      \"properties\": {\n        \"dtype\": \"category\",\n        \"num_unique_values\": 15,\n        \"samples\": [\n          \"prox.lab.calclock\",\n          \"com.artfulagenda.app\"\n        ],\n        \"semantic_type\": \"\",\n        \"description\": \"\"\n      }\n    }\n  ]\n}"
            }
          },
          "metadata": {},
          "execution_count": 8
        }
      ]
    },
    {
      "cell_type": "markdown",
      "source": [
        "Revisando el conteo de scores:"
      ],
      "metadata": {
        "id": "pFfSCi5-Seh0"
      }
    },
    {
      "cell_type": "code",
      "source": [
        "df2.groupby(\"score\")[\"score\"].count()"
      ],
      "metadata": {
        "colab": {
          "base_uri": "https://localhost:8080/",
          "height": 272
        },
        "id": "U9u6IDSUfrsx",
        "outputId": "2be36a77-a5b4-4d7c-ede8-02006023d501"
      },
      "execution_count": 9,
      "outputs": [
        {
          "output_type": "execute_result",
          "data": {
            "text/plain": [
              "score\n",
              "1    2566\n",
              "2    2462\n",
              "3    5042\n",
              "4    2776\n",
              "5    2900\n",
              "Name: score, dtype: int64"
            ],
            "text/html": [
              "<div>\n",
              "<style scoped>\n",
              "    .dataframe tbody tr th:only-of-type {\n",
              "        vertical-align: middle;\n",
              "    }\n",
              "\n",
              "    .dataframe tbody tr th {\n",
              "        vertical-align: top;\n",
              "    }\n",
              "\n",
              "    .dataframe thead th {\n",
              "        text-align: right;\n",
              "    }\n",
              "</style>\n",
              "<table border=\"1\" class=\"dataframe\">\n",
              "  <thead>\n",
              "    <tr style=\"text-align: right;\">\n",
              "      <th></th>\n",
              "      <th>score</th>\n",
              "    </tr>\n",
              "    <tr>\n",
              "      <th>score</th>\n",
              "      <th></th>\n",
              "    </tr>\n",
              "  </thead>\n",
              "  <tbody>\n",
              "    <tr>\n",
              "      <th>1</th>\n",
              "      <td>2566</td>\n",
              "    </tr>\n",
              "    <tr>\n",
              "      <th>2</th>\n",
              "      <td>2462</td>\n",
              "    </tr>\n",
              "    <tr>\n",
              "      <th>3</th>\n",
              "      <td>5042</td>\n",
              "    </tr>\n",
              "    <tr>\n",
              "      <th>4</th>\n",
              "      <td>2776</td>\n",
              "    </tr>\n",
              "    <tr>\n",
              "      <th>5</th>\n",
              "      <td>2900</td>\n",
              "    </tr>\n",
              "  </tbody>\n",
              "</table>\n",
              "</div><br><label><b>dtype:</b> int64</label>"
            ]
          },
          "metadata": {},
          "execution_count": 9
        }
      ]
    },
    {
      "cell_type": "markdown",
      "source": [
        "Para reducir el desequilibrio de clases, se identifican y eliminan aleatoriamente 2000 reseñas con puntuación 3.\n",
        "\n",
        "Luego, se crea un nuevo DataFrame balanceado (`df_balanced`) que excluye estas reseñas.\n",
        "\n",
        "Los rersultados se visualizan y se verifican mediante un gráfico de barras y un conteo por clase donde se aprecia que los conteos de clases son más similares.\n",
        "\n",
        "Este proceso es crucial para asegurar que el modelo BERT se entrene en un conjunto de datos balanceado, lo que puede mejorar el rendimiento del modelo en la clasificación de reseñas en todas las clases disponibles."
      ],
      "metadata": {
        "id": "Z7y9lJlSTjBI"
      }
    },
    {
      "cell_type": "code",
      "source": [
        "#-----------------\n",
        "# Identificando las reseñas con puntuación 3\n",
        "#-----------------\n",
        "idxs_score_3 = [idx for idx, row in df2.iterrows() if row['score'] == 3]\n",
        "\n",
        "#-----------------\n",
        "# Seleccionando 2000 de ellas al azar\n",
        "#-----------------\n",
        "random_idxs_score_3 = random.sample(idxs_score_3,2000)\n",
        "\n",
        "#-----------------\n",
        "# Eliminando las reseñas seleccionadas\n",
        "#-----------------\n",
        "df_balanced = df2[~df2.index.isin(random_idxs_score_3)]\n",
        "\n",
        "#-----------------\n",
        "# Graficando un histograma de los scores\n",
        "#-----------------\n",
        "sns.countplot(x=df_balanced.score)\n",
        "\n",
        "#-----------------\n",
        "# Revisando el conteo de scores\n",
        "#-----------------\n",
        "df_balanced.groupby(\"score\")[\"score\"].count()"
      ],
      "metadata": {
        "colab": {
          "base_uri": "https://localhost:8080/",
          "height": 704
        },
        "id": "GgZG4tSJf1wB",
        "outputId": "8d21dd8b-4e68-47d2-9559-bb055c65411d"
      },
      "execution_count": 10,
      "outputs": [
        {
          "output_type": "execute_result",
          "data": {
            "text/plain": [
              "score\n",
              "1    2566\n",
              "2    2462\n",
              "3    3042\n",
              "4    2776\n",
              "5    2900\n",
              "Name: score, dtype: int64"
            ],
            "text/html": [
              "<div>\n",
              "<style scoped>\n",
              "    .dataframe tbody tr th:only-of-type {\n",
              "        vertical-align: middle;\n",
              "    }\n",
              "\n",
              "    .dataframe tbody tr th {\n",
              "        vertical-align: top;\n",
              "    }\n",
              "\n",
              "    .dataframe thead th {\n",
              "        text-align: right;\n",
              "    }\n",
              "</style>\n",
              "<table border=\"1\" class=\"dataframe\">\n",
              "  <thead>\n",
              "    <tr style=\"text-align: right;\">\n",
              "      <th></th>\n",
              "      <th>score</th>\n",
              "    </tr>\n",
              "    <tr>\n",
              "      <th>score</th>\n",
              "      <th></th>\n",
              "    </tr>\n",
              "  </thead>\n",
              "  <tbody>\n",
              "    <tr>\n",
              "      <th>1</th>\n",
              "      <td>2566</td>\n",
              "    </tr>\n",
              "    <tr>\n",
              "      <th>2</th>\n",
              "      <td>2462</td>\n",
              "    </tr>\n",
              "    <tr>\n",
              "      <th>3</th>\n",
              "      <td>3042</td>\n",
              "    </tr>\n",
              "    <tr>\n",
              "      <th>4</th>\n",
              "      <td>2776</td>\n",
              "    </tr>\n",
              "    <tr>\n",
              "      <th>5</th>\n",
              "      <td>2900</td>\n",
              "    </tr>\n",
              "  </tbody>\n",
              "</table>\n",
              "</div><br><label><b>dtype:</b> int64</label>"
            ]
          },
          "metadata": {},
          "execution_count": 10
        },
        {
          "output_type": "display_data",
          "data": {
            "text/plain": [
              "<Figure size 640x480 with 1 Axes>"
            ],
            "image/png": "[encoded data removed]"
          },
          "metadata": {}
        }
      ]
    },
    {
      "cell_type": "markdown",
      "source": [
        "Con los datos balanceados, se verifican ahora algunas oraciones del dataframe:"
      ],
      "metadata": {
        "id": "Ea5nZq_-Uqe_"
      }
    },
    {
      "cell_type": "code",
      "source": [
        "#-----------------\n",
        "# Seleccionando oraciones del dataframe\n",
        "#-----------------\n",
        "sentences = df_balanced['content'].values\n",
        "print(\"Forma de sentences:\", sentences.shape)\n",
        "sentences[:3]"
      ],
      "metadata": {
        "colab": {
          "base_uri": "https://localhost:8080/"
        },
        "id": "nt0CteO5gB8y",
        "outputId": "d5580b47-2742-47af-d798-a9e5a51ad852"
      },
      "execution_count": 11,
      "outputs": [
        {
          "output_type": "stream",
          "name": "stdout",
          "text": [
            "Forma de sentences: (13746,)\n"
          ]
        },
        {
          "output_type": "execute_result",
          "data": {
            "text/plain": [
              "array([\"Update: After getting a response from the developer I would change my rating to 0 stars if possible. These guys hide behind confusing and opaque terms and refuse to budge at all. I'm so annoyed that my money has been lost to them! Really terrible customer experience. Original: Be very careful when signing up for a free trial of this app. If you happen to go over they automatically charge you for a full years subscription and refuse to refund. Terrible customer experience and the app is just OK.\",\n",
              "       'Used it for a fair amount of time without any problems. Suddenly then asked me to create an account or log using Google or FB. I used my Google one only to discover everything was gone!',\n",
              "       \"Your app sucks now!!!!! Used to be good but now doesn't update until I physically open it up and then close it then scroll and then it finally shows what I want to put on the list!!!!!! And I FRIGGEN paid for this garbage!!!!!!!\"],\n",
              "      dtype=object)"
            ]
          },
          "metadata": {},
          "execution_count": 11
        }
      ]
    },
    {
      "cell_type": "markdown",
      "source": [
        "Para garantizar que las etiquetas estén en el formato correcto y que los datos se dividan adecuadamente en conjuntos de entrenamiento, validación y prueba, las puntuaciones se convierten a formato one-hot encoded para la clasificación multiclase.\n",
        "\n",
        "Luego, se divide el conjunto de datos en conjuntos de entrenamiento, validación y prueba utilizando índices aleatorios, asegurando que cada conjunto tenga la proporción adecuada de datos.\n",
        "\n",
        "Finalmente, se verifica una muestra de los datos (una oración y su etiqueta) para asegurar que todo esté correctamente preparado."
      ],
      "metadata": {
        "id": "OE8aWYwVVHsS"
      }
    },
    {
      "cell_type": "code",
      "source": [
        "#-----------------\n",
        "# Convirtiendo las puntuaciones en etiquetas one-hot encoded\n",
        "#-----------------\n",
        "y = df_balanced['score'].values\n",
        "y = to_categorical(y)\n",
        "output_shape = y.shape[1]\n",
        "\n",
        "#-----------------\n",
        "# Longitud máxima para la secuencia de tokens\n",
        "#-----------------\n",
        "max_length = 140\n",
        "\n",
        "#-----------------\n",
        "# Creando índices para separar los datos\n",
        "#-----------------\n",
        "indices = np.arange(len(sentences))\n",
        "\n",
        "#-----------------\n",
        "# Separando los datos\n",
        "#-----------------\n",
        "idx_train_val, idx_test = train_test_split(indices, test_size=0.2, random_state=42)\n",
        "idx_train, idx_val = train_test_split(idx_train_val, test_size=0.2, random_state=42)\n",
        "\n",
        "#-----------------\n",
        "# Revisando un ejemplo\n",
        "#-----------------\n",
        "print(\"Oración: \", sentences[0])\n",
        "print(\"\\nEtiqueta:\", y[0])"
      ],
      "metadata": {
        "colab": {
          "base_uri": "https://localhost:8080/"
        },
        "id": "i1khtczPgEfL",
        "outputId": "1d6791b0-11c1-4b63-8fc2-d242adcc9292"
      },
      "execution_count": 12,
      "outputs": [
        {
          "output_type": "stream",
          "name": "stdout",
          "text": [
            "Oración:  Update: After getting a response from the developer I would change my rating to 0 stars if possible. These guys hide behind confusing and opaque terms and refuse to budge at all. I'm so annoyed that my money has been lost to them! Really terrible customer experience. Original: Be very careful when signing up for a free trial of this app. If you happen to go over they automatically charge you for a full years subscription and refuse to refund. Terrible customer experience and the app is just OK.\n",
            "\n",
            "Etiqueta: [0. 1. 0. 0. 0. 0.]\n"
          ]
        }
      ]
    },
    {
      "cell_type": "markdown",
      "source": [
        "Los pasos finales de preprocesamiento y preparación de los datos para entrenar, validar y probar el modelo BERT consisten en:\n",
        "\n",
        "- convertir los textos y etiquetas en ejemplos de entrada que BERT pueda procesar.\n",
        "- convertir estos ejemplos en conjuntos de datos de TensorFlow para entrenamiento y validación, organizados en lotes.\n",
        "- tokenizar y organizar las oraciones y etiquetas del conjunto de prueba para la evaluación del modelo.\n",
        "- verificar un ejemplo de entrenamiento y uno de validación para asegurar que el preprocesamiento se ha realizado correctamente.\n"
      ],
      "metadata": {
        "id": "VMhdHb05WmgU"
      }
    },
    {
      "cell_type": "code",
      "source": [
        "#-----------------\n",
        "# Convirtiendo los datos de texto y etiquetas en ejemplos de entrada\n",
        "#-----------------\n",
        "train_InputExamples, validation_InputExamples = convert_data_to_examples(sentences, y, idx_train, idx_val)\n",
        "\n",
        "#-----------------\n",
        "# Convirtiendo los ejemplos en datos de entrenamiento para TensorFlow\n",
        "#-----------------\n",
        "train_data = convert_examples_to_tf_dataset(list(train_InputExamples), bert_tokenizer, max_length=max_length)\n",
        "\n",
        "#-----------------\n",
        "# Mezclando los datos de entrenamiento y batcheando\n",
        "#-----------------\n",
        "train_data = train_data.shuffle(100).batch(32)\n",
        "\n",
        "#-----------------\n",
        "# Convirtiendo los ejemplos en datos de validación para TensorFlow\n",
        "#-----------------\n",
        "validation_data = convert_examples_to_tf_dataset(list(validation_InputExamples), bert_tokenizer, max_length=max_length)\n",
        "\n",
        "#-----------------\n",
        "# Batcheando los datos de validación\n",
        "#-----------------\n",
        "validation_data = validation_data.batch(32)\n",
        "\n",
        "#-----------------\n",
        "# Lista de oraciones usadas para hacer predicciones\n",
        "#-----------------\n",
        "pred_sentences = [sentences[i] for i in idx_test]\n",
        "\n",
        "#-----------------\n",
        "# Tokenizando las oraciones de prueba\n",
        "#-----------------\n",
        "tf_batch = bert_tokenizer(pred_sentences, max_length=max_length, padding=True, truncation=True, return_tensors='tf')\n",
        "\n",
        "#-----------------\n",
        "# Creando la entrada de prueba: identificadores de tokens y máscaras de atención para las oraciones\n",
        "#-----------------\n",
        "X_test = [tf_batch['input_ids'], tf_batch['attention_mask']]\n",
        "\n",
        "#-----------------\n",
        "# Seleccionando las etiquetas de las oraciones de prueba\n",
        "#-----------------\n",
        "y_test = y[idx_test]\n",
        "\n",
        "#-----------------\n",
        "# Revisando un ejemplo de entrenamiento y validación\n",
        "#-----------------\n",
        "print(\"Ejemplo de entrenamiento:\", train_InputExamples[0])\n",
        "print(\"\\nEjemplo de validación:\", validation_InputExamples[0])"
      ],
      "metadata": {
        "colab": {
          "base_uri": "https://localhost:8080/"
        },
        "id": "uLL6FrgUgWad",
        "outputId": "f859e5f4-7981-4895-c4e5-3bbafaba0d7b"
      },
      "execution_count": 13,
      "outputs": [
        {
          "output_type": "stream",
          "name": "stdout",
          "text": [
            "Ejemplo de entrenamiento: InputExample(guid=None, text_a='i love this app so far but the notifications are not really working for me', text_b=None, label=array([0., 0., 0., 1., 0., 0.]))\n",
            "\n",
            "Ejemplo de validación: InputExample(guid=None, text_a=\"I cannot even create an account I fill in what's needed and I'm pressing the button and it's not working some1 help.\", text_b=None, label=array([0., 1., 0., 0., 0., 0.]))\n"
          ]
        }
      ]
    },
    {
      "cell_type": "markdown",
      "source": [
        "De este modo, se crea un modelo de clasificación basado en BERT, usando el modelo BERT preentrenado y congelando sus capas para entrenar solo las capas adicionales."
      ],
      "metadata": {
        "id": "ENazF-IMZQu5"
      }
    },
    {
      "cell_type": "code",
      "source": [
        "#-----------------\n",
        "# Cargando el modelo BERT preentrenado\n",
        "#-----------------\n",
        "bert_model = TFBertModel.from_pretrained(\"bert-base-uncased\")\n",
        "\n",
        "#-----------------\n",
        "# Congelando las capas del modelo BERT\n",
        "#-----------------\n",
        "bert_model.bert.trainable = False\n",
        "\n",
        "#-----------------\n",
        "# Secuencia de tokens que representan las palabras del texto\n",
        "#-----------------\n",
        "input_ids = tensorflow.keras.layers.Input(shape=(max_length,), dtype=tensorflow.int32, name='input_ids')\n",
        "\n",
        "#-----------------\n",
        "# Mascara para indicar tokens válidos (generalmente 1) y de relleno (generalmente 0)\n",
        "#-----------------\n",
        "attention_mask = tensorflow.keras.layers.Input(shape=(max_length,), dtype=tensorflow.int32, name='attention_mask')\n",
        "\n",
        "#-----------------\n",
        "# Pasando las entradas al modelo BERT\n",
        "#-----------------\n",
        "bert_output = tensorflow.keras.layers.Lambda(apply_bert, output_shape=(max_length, 768))([input_ids, attention_mask])\n",
        "\n",
        "#-----------------\n",
        "# Extrayendo la representación de la secuencia\n",
        "#-----------------\n",
        "pooled_output = tensorflow.keras.layers.GlobalAveragePooling1D()(bert_output)\n",
        "\n",
        "#-----------------\n",
        "# Definiendo las capas adicionales del modelo\n",
        "#-----------------\n",
        "x = tensorflow.keras.layers.Dropout(0.2)(pooled_output)\n",
        "output = tensorflow.keras.layers.Dense(output_shape, activation='softmax')(x)\n",
        "\n",
        "#-----------------\n",
        "# Creando el modelo final\n",
        "#-----------------\n",
        "model = tensorflow.keras.Model(inputs=[input_ids, attention_mask], outputs=output)\n",
        "\n",
        "#-----------------\n",
        "# Compilando el modelo final\n",
        "#-----------------\n",
        "model.compile(optimizer='adam', loss='categorical_crossentropy', metrics=['accuracy',tensorflow.keras.metrics.F1Score(average='macro')])"
      ],
      "metadata": {
        "colab": {
          "base_uri": "https://localhost:8080/"
        },
        "id": "_ahpBZCHgdyt",
        "outputId": "c97d5e5d-4894-4f5e-c733-a2c7a2667370"
      },
      "execution_count": 14,
      "outputs": [
        {
          "output_type": "stream",
          "name": "stderr",
          "text": [
            "Some weights of the PyTorch model were not used when initializing the TF 2.0 model TFBertModel: ['cls.predictions.transform.LayerNorm.weight', 'cls.predictions.transform.dense.bias', 'cls.seq_relationship.weight', 'cls.seq_relationship.bias', 'cls.predictions.transform.dense.weight', 'cls.predictions.bias', 'cls.predictions.transform.LayerNorm.bias']\n",
            "- This IS expected if you are initializing TFBertModel from a PyTorch model trained on another task or with another architecture (e.g. initializing a TFBertForSequenceClassification model from a BertForPreTraining model).\n",
            "- This IS NOT expected if you are initializing TFBertModel from a PyTorch model that you expect to be exactly identical (e.g. initializing a TFBertForSequenceClassification model from a BertForSequenceClassification model).\n",
            "All the weights of TFBertModel were initialized from the PyTorch model.\n",
            "If your task is similar to the task the model of the checkpoint was trained on, you can already use TFBertModel for predictions without further training.\n"
          ]
        }
      ]
    },
    {
      "cell_type": "markdown",
      "source": [
        "El modelo se entrena utilizando datos de validación para monitorear el rendimiento y al final se grafica la precisión y el F1 Score macro para analizar cómo el modelo ha aprendido a lo largo del tiempo."
      ],
      "metadata": {
        "id": "1wtCsVaApkbH"
      }
    },
    {
      "cell_type": "code",
      "source": [
        "#-----------------\n",
        "# Implementando el scheduler\n",
        "#-----------------\n",
        "reduce_lr = ReduceLROnPlateau(monitor='val_loss',  # Monitorea la pérdida de validación\n",
        "                              factor=0.5,          # Factor por el cual se reduce la tasa de aprendizaje\n",
        "                              patience=2,          # Número de épocas con estancamiento para reducir el learning rate\n",
        "                              min_lr=0.00001)      # Límite inferior para la tasa de aprendizaje\n",
        "\n",
        "#-----------------\n",
        "# Entrenando el modelo\n",
        "#-----------------\n",
        "his = model.fit(train_data, epochs=10, validation_data=validation_data, callbacks=[reduce_lr])\n",
        "\n",
        "#-----------------\n",
        "# Graficando la precisión\n",
        "#-----------------\n",
        "plot_accuracy(his)\n",
        "\n",
        "#-----------------\n",
        "# Graficando el F1 score\n",
        "#-----------------\n",
        "plot_f1_score(his)"
      ],
      "metadata": {
        "colab": {
          "base_uri": "https://localhost:8080/",
          "height": 1000
        },
        "id": "jNBdnstcpeLc",
        "outputId": "a1a687bd-e207-4218-eb2d-c2c2904901e8"
      },
      "execution_count": 15,
      "outputs": [
        {
          "output_type": "stream",
          "name": "stdout",
          "text": [
            "Epoch 1/10\n",
            "    275/Unknown \u001b[1m95s\u001b[0m 274ms/step - accuracy: 0.2128 - f1_score: 0.1718 - loss: 1.7254"
          ]
        },
        {
          "output_type": "stream",
          "name": "stderr",
          "text": [
            "/usr/lib/python3.10/contextlib.py:153: UserWarning: Your input ran out of data; interrupting training. Make sure that your dataset or generator can generate at least `steps_per_epoch * epochs` batches. You may need to use the `.repeat()` function when building your dataset.\n",
            "  self.gen.throw(typ, value, traceback)\n"
          ]
        },
        {
          "output_type": "stream",
          "name": "stdout",
          "text": [
            "\b\b\b\b\b\b\b\b\b\b\b\b\b\b\b\b\b\b\b\b\b\b\b\b\b\b\b\b\b\b\b\b\b\b\b\b\b\b\b\b\b\b\b\b\b\b\b\b\b\b\b\b\b\b\b\b\b\b\b\b\b\b\b\b\b\b\b\b\b\b\b\b\b\b\b\b\b\b\b\b\b\b\b\r\u001b[1m275/275\u001b[0m \u001b[32m━━━━━━━━━━━━━━━━━━━━\u001b[0m\u001b[37m\u001b[0m \u001b[1m127s\u001b[0m 391ms/step - accuracy: 0.2128 - f1_score: 0.1718 - loss: 1.7253 - val_accuracy: 0.2341 - val_f1_score: 0.1542 - val_loss: 1.6412 - learning_rate: 0.0010\n",
            "Epoch 2/10\n",
            "\u001b[1m275/275\u001b[0m \u001b[32m━━━━━━━━━━━━━━━━━━━━\u001b[0m\u001b[37m\u001b[0m \u001b[1m114s\u001b[0m 315ms/step - accuracy: 0.2165 - f1_score: 0.1746 - loss: 1.6844 - val_accuracy: 0.2227 - val_f1_score: 0.1365 - val_loss: 1.6808 - learning_rate: 0.0010\n",
            "Epoch 3/10\n",
            "\u001b[1m275/275\u001b[0m \u001b[32m━━━━━━━━━━━━━━━━━━━━\u001b[0m\u001b[37m\u001b[0m \u001b[1m142s\u001b[0m 315ms/step - accuracy: 0.2319 - f1_score: 0.1876 - loss: 1.6588 - val_accuracy: 0.2241 - val_f1_score: 0.1198 - val_loss: 1.6419 - learning_rate: 0.0010\n",
            "Epoch 4/10\n",
            "\u001b[1m275/275\u001b[0m \u001b[32m━━━━━━━━━━━━━━━━━━━━\u001b[0m\u001b[37m\u001b[0m \u001b[1m86s\u001b[0m 314ms/step - accuracy: 0.2278 - f1_score: 0.1827 - loss: 1.6443 - val_accuracy: 0.2173 - val_f1_score: 0.1316 - val_loss: 1.6250 - learning_rate: 5.0000e-04\n",
            "Epoch 5/10\n",
            "\u001b[1m275/275\u001b[0m \u001b[32m━━━━━━━━━━━━━━━━━━━━\u001b[0m\u001b[37m\u001b[0m \u001b[1m142s\u001b[0m 314ms/step - accuracy: 0.2212 - f1_score: 0.1763 - loss: 1.6381 - val_accuracy: 0.2200 - val_f1_score: 0.1206 - val_loss: 1.6344 - learning_rate: 5.0000e-04\n",
            "Epoch 6/10\n",
            "\u001b[1m275/275\u001b[0m \u001b[32m━━━━━━━━━━━━━━━━━━━━\u001b[0m\u001b[37m\u001b[0m \u001b[1m142s\u001b[0m 315ms/step - accuracy: 0.2305 - f1_score: 0.1852 - loss: 1.6304 - val_accuracy: 0.2268 - val_f1_score: 0.1320 - val_loss: 1.6200 - learning_rate: 5.0000e-04\n",
            "Epoch 7/10\n",
            "\u001b[1m275/275\u001b[0m \u001b[32m━━━━━━━━━━━━━━━━━━━━\u001b[0m\u001b[37m\u001b[0m \u001b[1m142s\u001b[0m 314ms/step - accuracy: 0.2285 - f1_score: 0.1832 - loss: 1.6266 - val_accuracy: 0.2291 - val_f1_score: 0.1492 - val_loss: 1.6209 - learning_rate: 5.0000e-04\n",
            "Epoch 8/10\n",
            "\u001b[1m275/275\u001b[0m \u001b[32m━━━━━━━━━━━━━━━━━━━━\u001b[0m\u001b[37m\u001b[0m \u001b[1m86s\u001b[0m 313ms/step - accuracy: 0.2318 - f1_score: 0.1849 - loss: 1.6265 - val_accuracy: 0.2273 - val_f1_score: 0.1082 - val_loss: 1.6212 - learning_rate: 5.0000e-04\n",
            "Epoch 9/10\n",
            "\u001b[1m275/275\u001b[0m \u001b[32m━━━━━━━━━━━━━━━━━━━━\u001b[0m\u001b[37m\u001b[0m \u001b[1m146s\u001b[0m 328ms/step - accuracy: 0.2344 - f1_score: 0.1847 - loss: 1.6160 - val_accuracy: 0.2245 - val_f1_score: 0.0970 - val_loss: 1.6194 - learning_rate: 2.5000e-04\n",
            "Epoch 10/10\n",
            "\u001b[1m275/275\u001b[0m \u001b[32m━━━━━━━━━━━━━━━━━━━━\u001b[0m\u001b[37m\u001b[0m \u001b[1m86s\u001b[0m 314ms/step - accuracy: 0.2338 - f1_score: 0.1792 - loss: 1.6155 - val_accuracy: 0.2295 - val_f1_score: 0.1144 - val_loss: 1.6145 - learning_rate: 2.5000e-04\n"
          ]
        },
        {
          "output_type": "display_data",
          "data": {
            "text/plain": [
              "<Figure size 640x480 with 1 Axes>"
            ],
            "image/png": "[encoded data removed]"
          },
          "metadata": {}
        },
        {
          "output_type": "display_data",
          "data": {
            "text/plain": [
              "<Figure size 640x480 with 1 Axes>"
            ],
            "image/png": "[encoded data removed]"
          },
          "metadata": {}
        }
      ]
    },
    {
      "cell_type": "markdown",
      "source": [
        "La precisión tanto en el conjunto de entrenamiento como en el de validación es bastante baja, alrededor de 0.22 a 0.24. Esto indica que el modelo no está aprendiendo a clasificar las reseñas de manera efectiva.\n",
        "\n",
        "También se observan fluctuaciones importantes en la precisión en ambas curvas (entrenamiento y validación) a lo largo de las épocas. Esto puede ser un indicio de inestabilidad en el entrenamiento, posiblemente debido a un tamaño de lote pequeño, o una arquitectura del modelo que no está bien adaptada al problema.\n",
        "\n",
        "Además, la gran diferencia entre las precisiones de entrenamiento y validación en las últimas épocas, indica que el modelo podría estar sobreajustando los datos de entrenamiento y no generalizando bien.\n",
        "\n",
        "## **9. Probando el modelo**\n",
        "\n",
        "El modelo se prueba ahora realizando una predicción de clasificación de sentimiento sobre un texto nuevo (en este caso, \"I love this app!\"):"
      ],
      "metadata": {
        "id": "flrLD_d-gspD"
      }
    },
    {
      "cell_type": "code",
      "source": [
        "text = \"I love this app!\"\n",
        "\n",
        "#-----------------\n",
        "# Tokenizando el texto\n",
        "#-----------------\n",
        "tf_batch = bert_tokenizer.encode_plus(\n",
        "    text,\n",
        "    add_special_tokens=True,\n",
        "    max_length=max_length,\n",
        "    return_token_type_ids=False,\n",
        "    return_attention_mask=True,\n",
        "    pad_to_max_length=True,\n",
        "    truncation=True,\n",
        "    return_tensors='tf'\n",
        ")\n",
        "\n",
        "#-----------------\n",
        "# Lista de input_ids y attention_mask utilizados como entrada\n",
        "#-----------------\n",
        "X_ensayo = [tf_batch['input_ids'], tf_batch['attention_mask']]\n",
        "\n",
        "#-----------------\n",
        "# Predicción utilizando X_ensayo como entrada\n",
        "#-----------------\n",
        "y_prob_ensayo = model.predict(X_ensayo)\n",
        "\n",
        "#-----------------\n",
        "# Convirtiendo las probabilidades en clases\n",
        "#-----------------\n",
        "y_prob = np.argmax(y_prob_ensayo, axis=1)\n",
        "\n",
        "#-----------------\n",
        "# Imprimiendo la clase predicha\n",
        "#-----------------\n",
        "print(\"Clasificación:\", y_prob[0])"
      ],
      "metadata": {
        "colab": {
          "base_uri": "https://localhost:8080/"
        },
        "id": "2zf4YSy8gu9u",
        "outputId": "8899dc6a-7d78-46b4-c88e-6a784b805471"
      },
      "execution_count": 16,
      "outputs": [
        {
          "output_type": "stream",
          "name": "stderr",
          "text": [
            "/usr/local/lib/python3.10/dist-packages/transformers/tokenization_utils_base.py:2760: FutureWarning: The `pad_to_max_length` argument is deprecated and will be removed in a future version, use `padding=True` or `padding='longest'` to pad to the longest sequence in the batch, or use `padding='max_length'` to pad to a max length. In this case, you can give a specific length with `max_length` (e.g. `max_length=45`) or leave max_length to None to pad to the maximal input size of the model (e.g. 512 for Bert).\n",
            "  warnings.warn(\n"
          ]
        },
        {
          "output_type": "stream",
          "name": "stdout",
          "text": [
            "\u001b[1m1/1\u001b[0m \u001b[32m━━━━━━━━━━━━━━━━━━━━\u001b[0m\u001b[37m\u001b[0m \u001b[1m6s\u001b[0m 6s/step\n",
            "Clasificación: 3\n"
          ]
        }
      ]
    },
    {
      "cell_type": "markdown",
      "source": [
        "Debido al bajo rendimiento del modelo durante el entrenamiento y la validación, la predicción no es buena, ya que se esperaba una calificación mayor que 3.\n",
        "\n",
        "El bajo rendimiento general y las fluctuaciones son señales de que el modelo necesita optimización adicional. Se podría intentar reducir la tasa de aprendizaje, agregar más regularización (como aumentar la tasa de dropout o implementar L2 regularization), o ajustar los hiperparámetros del modelo. Sin embargo, esto no fue posible implementarlo aquí debido a la falta de recursos y tiempo.\n",
        "\n",
        "\n",
        "## **10. Guardando el modelo**\n",
        "\n",
        "El modelo entrenado es guardado a continuación. Aquí, solo se guardan los pesos del modelo (los parámetros entrenables, como los pesos y sesgos de las capas), y no la estructura completa del modelo.\n",
        "\n",
        "Guardar solo los pesos es útil para:\n",
        "\n",
        "- Transferencia de aprendizaje: Se pueden usar los pesos entrenados para inicializar otro modelo con la misma arquitectura.\n",
        "- Reentrenamiento: Se pueden cargar los pesos guardados y continuar entrenando el modelo desde ese punto.\n",
        "- Implementación eficiente: Si ya se tiene la estructura del modelo codificada en un entorno de producción, solo se necesita cargar los pesos para realizar predicciones."
      ],
      "metadata": {
        "id": "xiYpcY3bcL5V"
      }
    },
    {
      "cell_type": "code",
      "source": [
        "#-----------------\n",
        "# Guardando el modelo\n",
        "#-----------------\n",
        "model.save_weights('bert.weights.h5')"
      ],
      "metadata": {
        "id": "GiJKheb5g4MV"
      },
      "execution_count": 18,
      "outputs": []
    },
    {
      "cell_type": "markdown",
      "source": [
        "El modelo previamente guardado puede ser cargado nuevamente usando la siguiente función:"
      ],
      "metadata": {
        "id": "WZv9GPHidJJ9"
      }
    },
    {
      "cell_type": "code",
      "source": [
        "def load_model(path):\n",
        "      #-----------------\n",
        "      # Cargando el tokenizador de BERT\n",
        "      #-----------------\n",
        "      bert_model3 = TFBertModel.from_pretrained(\"bert-base-uncased\")\n",
        "\n",
        "      #-----------------\n",
        "      # Definiendo las entradas del modelo\n",
        "      #-----------------\n",
        "      input_ids = tensorflow.keras.layers.Input(shape=(max_length,), dtype=tensorflow.int32, name='input_ids')\n",
        "      attention_mask = tensorflow.keras.layers.Input((max_length,), dtype=tensorflow.int32, name='attention_mask')\n",
        "\n",
        "      #-----------------\n",
        "      # Pasando las entradas al modelo BERT\n",
        "      #-----------------\n",
        "      bert_output = tensorflow.keras.layers.Lambda(apply_bert, output_shape=(max_length, 768))([input_ids, attention_mask])[1]\n",
        "\n",
        "      #-----------------\n",
        "      # Definiendo las capas adicionales del modelo\n",
        "      #-----------------\n",
        "      output = tensorflow.keras.layers.Dropout(rate=0.2)(bert_output)\n",
        "      output = tensorflow.keras.layers.Dense(output_shape, activation='softmax')(output)\n",
        "\n",
        "      #-----------------\n",
        "      # Creando el modelo final\n",
        "      #-----------------\n",
        "      model = tensorflow.keras.models.Model(inputs=[input_ids, attention_mask], outputs=output)\n",
        "\n",
        "      #-----------------\n",
        "      # Cargando los pesos preentrenados\n",
        "      #-----------------\n",
        "      model.load_weights(path)\n",
        "\n",
        "      return model"
      ],
      "metadata": {
        "id": "ReO44FgNg8Gi"
      },
      "execution_count": 23,
      "outputs": []
    },
    {
      "cell_type": "markdown",
      "source": [
        "Así, la carga se implementa la siguiente forma:"
      ],
      "metadata": {
        "id": "bFa090AneF0F"
      }
    },
    {
      "cell_type": "code",
      "source": [
        "#-----------------\n",
        "# Cargando el modelo\n",
        "#-----------------\n",
        "model = load_model(\"bert.weights.h5\")\n",
        "\n",
        "#-----------------\n",
        "# Revisando el modelo\n",
        "#-----------------\n",
        "print(\"\\nPesos del modelo guardado:\", model.weights[0])"
      ],
      "metadata": {
        "colab": {
          "base_uri": "https://localhost:8080/"
        },
        "id": "nkrajj8Sg-5Q",
        "outputId": "b0303a23-f6df-4122-b9b2-8ecf8eb00e6f"
      },
      "execution_count": 26,
      "outputs": [
        {
          "output_type": "stream",
          "name": "stderr",
          "text": [
            "Some weights of the PyTorch model were not used when initializing the TF 2.0 model TFBertModel: ['cls.predictions.transform.LayerNorm.weight', 'cls.predictions.transform.dense.bias', 'cls.seq_relationship.weight', 'cls.seq_relationship.bias', 'cls.predictions.transform.dense.weight', 'cls.predictions.bias', 'cls.predictions.transform.LayerNorm.bias']\n",
            "- This IS expected if you are initializing TFBertModel from a PyTorch model trained on another task or with another architecture (e.g. initializing a TFBertForSequenceClassification model from a BertForPreTraining model).\n",
            "- This IS NOT expected if you are initializing TFBertModel from a PyTorch model that you expect to be exactly identical (e.g. initializing a TFBertForSequenceClassification model from a BertForSequenceClassification model).\n",
            "All the weights of TFBertModel were initialized from the PyTorch model.\n",
            "If your task is similar to the task the model of the checkpoint was trained on, you can already use TFBertModel for predictions without further training.\n"
          ]
        },
        {
          "output_type": "stream",
          "name": "stdout",
          "text": [
            "\n",
            "Pesos del modelo guardado: <KerasVariable shape=(768, 6), dtype=float32, path=dense_4/kernel>\n"
          ]
        }
      ]
    },
    {
      "cell_type": "code",
      "source": [],
      "metadata": {
        "id": "OqmFGNJ20ij8"
      },
      "execution_count": null,
      "outputs": []
    }
  ],
  "metadata": {
    "kernelspec": {
      "display_name": "Python 3",
      "name": "python3"
    },
    "language_info": {
      "codemirror_mode": {
        "name": "ipython",
        "version": 3
      },
      "file_extension": ".py",
      "mimetype": "text/x-python",
      "name": "python",
      "nbconvert_exporter": "python",
      "pygments_lexer": "ipython3",
      "version": "3.11.5"
    },
    "colab": {
      "provenance": [],
      "gpuType": "T4"
    },
    "accelerator": "GPU",
    "widgets": {
      "application/vnd.jupyter.widget-state+json": {
        "cc30d58dd4d043358e9d680a1d6f9576": {
          "model_module": "@jupyter-widgets/controls",
          "model_name": "HBoxModel",
          "model_module_version": "1.5.0",
          "state": {
            "_dom_classes": [],
            "_model_module": "@jupyter-widgets/controls",
            "_model_module_version": "1.5.0",
            "_model_name": "HBoxModel",
            "_view_count": null,
            "_view_module": "@jupyter-widgets/controls",
            "_view_module_version": "1.5.0",
            "_view_name": "HBoxView",
            "box_style": "",
            "children": [
              "IPY_MODEL_261385c32032496688745cd4ccdc0d41",
              "IPY_MODEL_3718699eaa0746a5ad6822b95f46772a",
              "IPY_MODEL_8f70f8a76e1d41499495aa9424ab862c"
            ],
            "layout": "IPY_MODEL_33341d9ec2e542a39448b55fede7db67"
          }
        },
        "261385c32032496688745cd4ccdc0d41": {
          "model_module": "@jupyter-widgets/controls",
          "model_name": "HTMLModel",
          "model_module_version": "1.5.0",
          "state": {
            "_dom_classes": [],
            "_model_module": "@jupyter-widgets/controls",
            "_model_module_version": "1.5.0",
            "_model_name": "HTMLModel",
            "_view_count": null,
            "_view_module": "@jupyter-widgets/controls",
            "_view_module_version": "1.5.0",
            "_view_name": "HTMLView",
            "description": "",
            "description_tooltip": null,
            "layout": "IPY_MODEL_4ea1004a7fee4e4f9a83356be87ee6a6",
            "placeholder": "​",
            "style": "IPY_MODEL_ae78d206d01e402aa9d27964c551b391",
            "value": "tokenizer_config.json: 100%"
          }
        },
        "3718699eaa0746a5ad6822b95f46772a": {
          "model_module": "@jupyter-widgets/controls",
          "model_name": "FloatProgressModel",
          "model_module_version": "1.5.0",
          "state": {
            "_dom_classes": [],
            "_model_module": "@jupyter-widgets/controls",
            "_model_module_version": "1.5.0",
            "_model_name": "FloatProgressModel",
            "_view_count": null,
            "_view_module": "@jupyter-widgets/controls",
            "_view_module_version": "1.5.0",
            "_view_name": "ProgressView",
            "bar_style": "success",
            "description": "",
            "description_tooltip": null,
            "layout": "IPY_MODEL_88e599ddd42241faa099fef7261b3eed",
            "max": 48,
            "min": 0,
            "orientation": "horizontal",
            "style": "IPY_MODEL_f5e089a9dce94f48a3706b3a07e50b9b",
            "value": 48
          }
        },
        "8f70f8a76e1d41499495aa9424ab862c": {
          "model_module": "@jupyter-widgets/controls",
          "model_name": "HTMLModel",
          "model_module_version": "1.5.0",
          "state": {
            "_dom_classes": [],
            "_model_module": "@jupyter-widgets/controls",
            "_model_module_version": "1.5.0",
            "_model_name": "HTMLModel",
            "_view_count": null,
            "_view_module": "@jupyter-widgets/controls",
            "_view_module_version": "1.5.0",
            "_view_name": "HTMLView",
            "description": "",
            "description_tooltip": null,
            "layout": "IPY_MODEL_2ac027f4ef8a469e9f2f25fe46438fa0",
            "placeholder": "​",
            "style": "IPY_MODEL_90898f3fb431457a8acba503f97ff2d5",
            "value": " 48.0/48.0 [00:00&lt;00:00, 3.65kB/s]"
          }
        },
        "33341d9ec2e542a39448b55fede7db67": {
          "model_module": "@jupyter-widgets/base",
          "model_name": "LayoutModel",
          "model_module_version": "1.2.0",
          "state": {
            "_model_module": "@jupyter-widgets/base",
            "_model_module_version": "1.2.0",
            "_model_name": "LayoutModel",
            "_view_count": null,
            "_view_module": "@jupyter-widgets/base",
            "_view_module_version": "1.2.0",
            "_view_name": "LayoutView",
            "align_content": null,
            "align_items": null,
            "align_self": null,
            "border": null,
            "bottom": null,
            "display": null,
            "flex": null,
            "flex_flow": null,
            "grid_area": null,
            "grid_auto_columns": null,
            "grid_auto_flow": null,
            "grid_auto_rows": null,
            "grid_column": null,
            "grid_gap": null,
            "grid_row": null,
            "grid_template_areas": null,
            "grid_template_columns": null,
            "grid_template_rows": null,
            "height": null,
            "justify_content": null,
            "justify_items": null,
            "left": null,
            "margin": null,
            "max_height": null,
            "max_width": null,
            "min_height": null,
            "min_width": null,
            "object_fit": null,
            "object_position": null,
            "order": null,
            "overflow": null,
            "overflow_x": null,
            "overflow_y": null,
            "padding": null,
            "right": null,
            "top": null,
            "visibility": null,
            "width": null
          }
        },
        "4ea1004a7fee4e4f9a83356be87ee6a6": {
          "model_module": "@jupyter-widgets/base",
          "model_name": "LayoutModel",
          "model_module_version": "1.2.0",
          "state": {
            "_model_module": "@jupyter-widgets/base",
            "_model_module_version": "1.2.0",
            "_model_name": "LayoutModel",
            "_view_count": null,
            "_view_module": "@jupyter-widgets/base",
            "_view_module_version": "1.2.0",
            "_view_name": "LayoutView",
            "align_content": null,
            "align_items": null,
            "align_self": null,
            "border": null,
            "bottom": null,
            "display": null,
            "flex": null,
            "flex_flow": null,
            "grid_area": null,
            "grid_auto_columns": null,
            "grid_auto_flow": null,
            "grid_auto_rows": null,
            "grid_column": null,
            "grid_gap": null,
            "grid_row": null,
            "grid_template_areas": null,
            "grid_template_columns": null,
            "grid_template_rows": null,
            "height": null,
            "justify_content": null,
            "justify_items": null,
            "left": null,
            "margin": null,
            "max_height": null,
            "max_width": null,
            "min_height": null,
            "min_width": null,
            "object_fit": null,
            "object_position": null,
            "order": null,
            "overflow": null,
            "overflow_x": null,
            "overflow_y": null,
            "padding": null,
            "right": null,
            "top": null,
            "visibility": null,
            "width": null
          }
        },
        "ae78d206d01e402aa9d27964c551b391": {
          "model_module": "@jupyter-widgets/controls",
          "model_name": "DescriptionStyleModel",
          "model_module_version": "1.5.0",
          "state": {
            "_model_module": "@jupyter-widgets/controls",
            "_model_module_version": "1.5.0",
            "_model_name": "DescriptionStyleModel",
            "_view_count": null,
            "_view_module": "@jupyter-widgets/base",
            "_view_module_version": "1.2.0",
            "_view_name": "StyleView",
            "description_width": ""
          }
        },
        "88e599ddd42241faa099fef7261b3eed": {
          "model_module": "@jupyter-widgets/base",
          "model_name": "LayoutModel",
          "model_module_version": "1.2.0",
          "state": {
            "_model_module": "@jupyter-widgets/base",
            "_model_module_version": "1.2.0",
            "_model_name": "LayoutModel",
            "_view_count": null,
            "_view_module": "@jupyter-widgets/base",
            "_view_module_version": "1.2.0",
            "_view_name": "LayoutView",
            "align_content": null,
            "align_items": null,
            "align_self": null,
            "border": null,
            "bottom": null,
            "display": null,
            "flex": null,
            "flex_flow": null,
            "grid_area": null,
            "grid_auto_columns": null,
            "grid_auto_flow": null,
            "grid_auto_rows": null,
            "grid_column": null,
            "grid_gap": null,
            "grid_row": null,
            "grid_template_areas": null,
            "grid_template_columns": null,
            "grid_template_rows": null,
            "height": null,
            "justify_content": null,
            "justify_items": null,
            "left": null,
            "margin": null,
            "max_height": null,
            "max_width": null,
            "min_height": null,
            "min_width": null,
            "object_fit": null,
            "object_position": null,
            "order": null,
            "overflow": null,
            "overflow_x": null,
            "overflow_y": null,
            "padding": null,
            "right": null,
            "top": null,
            "visibility": null,
            "width": null
          }
        },
        "f5e089a9dce94f48a3706b3a07e50b9b": {
          "model_module": "@jupyter-widgets/controls",
          "model_name": "ProgressStyleModel",
          "model_module_version": "1.5.0",
          "state": {
            "_model_module": "@jupyter-widgets/controls",
            "_model_module_version": "1.5.0",
            "_model_name": "ProgressStyleModel",
            "_view_count": null,
            "_view_module": "@jupyter-widgets/base",
            "_view_module_version": "1.2.0",
            "_view_name": "StyleView",
            "bar_color": null,
            "description_width": ""
          }
        },
        "2ac027f4ef8a469e9f2f25fe46438fa0": {
          "model_module": "@jupyter-widgets/base",
          "model_name": "LayoutModel",
          "model_module_version": "1.2.0",
          "state": {
            "_model_module": "@jupyter-widgets/base",
            "_model_module_version": "1.2.0",
            "_model_name": "LayoutModel",
            "_view_count": null,
            "_view_module": "@jupyter-widgets/base",
            "_view_module_version": "1.2.0",
            "_view_name": "LayoutView",
            "align_content": null,
            "align_items": null,
            "align_self": null,
            "border": null,
            "bottom": null,
            "display": null,
            "flex": null,
            "flex_flow": null,
            "grid_area": null,
            "grid_auto_columns": null,
            "grid_auto_flow": null,
            "grid_auto_rows": null,
            "grid_column": null,
            "grid_gap": null,
            "grid_row": null,
            "grid_template_areas": null,
            "grid_template_columns": null,
            "grid_template_rows": null,
            "height": null,
            "justify_content": null,
            "justify_items": null,
            "left": null,
            "margin": null,
            "max_height": null,
            "max_width": null,
            "min_height": null,
            "min_width": null,
            "object_fit": null,
            "object_position": null,
            "order": null,
            "overflow": null,
            "overflow_x": null,
            "overflow_y": null,
            "padding": null,
            "right": null,
            "top": null,
            "visibility": null,
            "width": null
          }
        },
        "90898f3fb431457a8acba503f97ff2d5": {
          "model_module": "@jupyter-widgets/controls",
          "model_name": "DescriptionStyleModel",
          "model_module_version": "1.5.0",
          "state": {
            "_model_module": "@jupyter-widgets/controls",
            "_model_module_version": "1.5.0",
            "_model_name": "DescriptionStyleModel",
            "_view_count": null,
            "_view_module": "@jupyter-widgets/base",
            "_view_module_version": "1.2.0",
            "_view_name": "StyleView",
            "description_width": ""
          }
        },
        "29f5ac74b6274d9fa690d61ff9f40c13": {
          "model_module": "@jupyter-widgets/controls",
          "model_name": "HBoxModel",
          "model_module_version": "1.5.0",
          "state": {
            "_dom_classes": [],
            "_model_module": "@jupyter-widgets/controls",
            "_model_module_version": "1.5.0",
            "_model_name": "HBoxModel",
            "_view_count": null,
            "_view_module": "@jupyter-widgets/controls",
            "_view_module_version": "1.5.0",
            "_view_name": "HBoxView",
            "box_style": "",
            "children": [
              "IPY_MODEL_256ce8c6dad64d45839039b6e934d320",
              "IPY_MODEL_03984409ff7943d0985600e9dc0c7cbf",
              "IPY_MODEL_322a8737239043798f07d3b5e4fb635d"
            ],
            "layout": "IPY_MODEL_9a00daed98b14dc8a66083fefe7de313"
          }
        },
        "256ce8c6dad64d45839039b6e934d320": {
          "model_module": "@jupyter-widgets/controls",
          "model_name": "HTMLModel",
          "model_module_version": "1.5.0",
          "state": {
            "_dom_classes": [],
            "_model_module": "@jupyter-widgets/controls",
            "_model_module_version": "1.5.0",
            "_model_name": "HTMLModel",
            "_view_count": null,
            "_view_module": "@jupyter-widgets/controls",
            "_view_module_version": "1.5.0",
            "_view_name": "HTMLView",
            "description": "",
            "description_tooltip": null,
            "layout": "IPY_MODEL_98a70d7adbee41c2b915d573e566e1a9",
            "placeholder": "​",
            "style": "IPY_MODEL_c0e6a0bdc7134cb5aafe0f855fa309e9",
            "value": "vocab.txt: 100%"
          }
        },
        "03984409ff7943d0985600e9dc0c7cbf": {
          "model_module": "@jupyter-widgets/controls",
          "model_name": "FloatProgressModel",
          "model_module_version": "1.5.0",
          "state": {
            "_dom_classes": [],
            "_model_module": "@jupyter-widgets/controls",
            "_model_module_version": "1.5.0",
            "_model_name": "FloatProgressModel",
            "_view_count": null,
            "_view_module": "@jupyter-widgets/controls",
            "_view_module_version": "1.5.0",
            "_view_name": "ProgressView",
            "bar_style": "success",
            "description": "",
            "description_tooltip": null,
            "layout": "IPY_MODEL_474871f1054147e59873e56dad9b095c",
            "max": 231508,
            "min": 0,
            "orientation": "horizontal",
            "style": "IPY_MODEL_5629fa728e904e1a9b2c0ca4472f1036",
            "value": 231508
          }
        },
        "322a8737239043798f07d3b5e4fb635d": {
          "model_module": "@jupyter-widgets/controls",
          "model_name": "HTMLModel",
          "model_module_version": "1.5.0",
          "state": {
            "_dom_classes": [],
            "_model_module": "@jupyter-widgets/controls",
            "_model_module_version": "1.5.0",
            "_model_name": "HTMLModel",
            "_view_count": null,
            "_view_module": "@jupyter-widgets/controls",
            "_view_module_version": "1.5.0",
            "_view_name": "HTMLView",
            "description": "",
            "description_tooltip": null,
            "layout": "IPY_MODEL_4876b45d56fd4ffa8bbe5d078b11672f",
            "placeholder": "​",
            "style": "IPY_MODEL_65f3829da2eb40769d43a151fc96a1c7",
            "value": " 232k/232k [00:00&lt;00:00, 1.39MB/s]"
          }
        },
        "9a00daed98b14dc8a66083fefe7de313": {
          "model_module": "@jupyter-widgets/base",
          "model_name": "LayoutModel",
          "model_module_version": "1.2.0",
          "state": {
            "_model_module": "@jupyter-widgets/base",
            "_model_module_version": "1.2.0",
            "_model_name": "LayoutModel",
            "_view_count": null,
            "_view_module": "@jupyter-widgets/base",
            "_view_module_version": "1.2.0",
            "_view_name": "LayoutView",
            "align_content": null,
            "align_items": null,
            "align_self": null,
            "border": null,
            "bottom": null,
            "display": null,
            "flex": null,
            "flex_flow": null,
            "grid_area": null,
            "grid_auto_columns": null,
            "grid_auto_flow": null,
            "grid_auto_rows": null,
            "grid_column": null,
            "grid_gap": null,
            "grid_row": null,
            "grid_template_areas": null,
            "grid_template_columns": null,
            "grid_template_rows": null,
            "height": null,
            "justify_content": null,
            "justify_items": null,
            "left": null,
            "margin": null,
            "max_height": null,
            "max_width": null,
            "min_height": null,
            "min_width": null,
            "object_fit": null,
            "object_position": null,
            "order": null,
            "overflow": null,
            "overflow_x": null,
            "overflow_y": null,
            "padding": null,
            "right": null,
            "top": null,
            "visibility": null,
            "width": null
          }
        },
        "98a70d7adbee41c2b915d573e566e1a9": {
          "model_module": "@jupyter-widgets/base",
          "model_name": "LayoutModel",
          "model_module_version": "1.2.0",
          "state": {
            "_model_module": "@jupyter-widgets/base",
            "_model_module_version": "1.2.0",
            "_model_name": "LayoutModel",
            "_view_count": null,
            "_view_module": "@jupyter-widgets/base",
            "_view_module_version": "1.2.0",
            "_view_name": "LayoutView",
            "align_content": null,
            "align_items": null,
            "align_self": null,
            "border": null,
            "bottom": null,
            "display": null,
            "flex": null,
            "flex_flow": null,
            "grid_area": null,
            "grid_auto_columns": null,
            "grid_auto_flow": null,
            "grid_auto_rows": null,
            "grid_column": null,
            "grid_gap": null,
            "grid_row": null,
            "grid_template_areas": null,
            "grid_template_columns": null,
            "grid_template_rows": null,
            "height": null,
            "justify_content": null,
            "justify_items": null,
            "left": null,
            "margin": null,
            "max_height": null,
            "max_width": null,
            "min_height": null,
            "min_width": null,
            "object_fit": null,
            "object_position": null,
            "order": null,
            "overflow": null,
            "overflow_x": null,
            "overflow_y": null,
            "padding": null,
            "right": null,
            "top": null,
            "visibility": null,
            "width": null
          }
        },
        "c0e6a0bdc7134cb5aafe0f855fa309e9": {
          "model_module": "@jupyter-widgets/controls",
          "model_name": "DescriptionStyleModel",
          "model_module_version": "1.5.0",
          "state": {
            "_model_module": "@jupyter-widgets/controls",
            "_model_module_version": "1.5.0",
            "_model_name": "DescriptionStyleModel",
            "_view_count": null,
            "_view_module": "@jupyter-widgets/base",
            "_view_module_version": "1.2.0",
            "_view_name": "StyleView",
            "description_width": ""
          }
        },
        "474871f1054147e59873e56dad9b095c": {
          "model_module": "@jupyter-widgets/base",
          "model_name": "LayoutModel",
          "model_module_version": "1.2.0",
          "state": {
            "_model_module": "@jupyter-widgets/base",
            "_model_module_version": "1.2.0",
            "_model_name": "LayoutModel",
            "_view_count": null,
            "_view_module": "@jupyter-widgets/base",
            "_view_module_version": "1.2.0",
            "_view_name": "LayoutView",
            "align_content": null,
            "align_items": null,
            "align_self": null,
            "border": null,
            "bottom": null,
            "display": null,
            "flex": null,
            "flex_flow": null,
            "grid_area": null,
            "grid_auto_columns": null,
            "grid_auto_flow": null,
            "grid_auto_rows": null,
            "grid_column": null,
            "grid_gap": null,
            "grid_row": null,
            "grid_template_areas": null,
            "grid_template_columns": null,
            "grid_template_rows": null,
            "height": null,
            "justify_content": null,
            "justify_items": null,
            "left": null,
            "margin": null,
            "max_height": null,
            "max_width": null,
            "min_height": null,
            "min_width": null,
            "object_fit": null,
            "object_position": null,
            "order": null,
            "overflow": null,
            "overflow_x": null,
            "overflow_y": null,
            "padding": null,
            "right": null,
            "top": null,
            "visibility": null,
            "width": null
          }
        },
        "5629fa728e904e1a9b2c0ca4472f1036": {
          "model_module": "@jupyter-widgets/controls",
          "model_name": "ProgressStyleModel",
          "model_module_version": "1.5.0",
          "state": {
            "_model_module": "@jupyter-widgets/controls",
            "_model_module_version": "1.5.0",
            "_model_name": "ProgressStyleModel",
            "_view_count": null,
            "_view_module": "@jupyter-widgets/base",
            "_view_module_version": "1.2.0",
            "_view_name": "StyleView",
            "bar_color": null,
            "description_width": ""
          }
        },
        "4876b45d56fd4ffa8bbe5d078b11672f": {
          "model_module": "@jupyter-widgets/base",
          "model_name": "LayoutModel",
          "model_module_version": "1.2.0",
          "state": {
            "_model_module": "@jupyter-widgets/base",
            "_model_module_version": "1.2.0",
            "_model_name": "LayoutModel",
            "_view_count": null,
            "_view_module": "@jupyter-widgets/base",
            "_view_module_version": "1.2.0",
            "_view_name": "LayoutView",
            "align_content": null,
            "align_items": null,
            "align_self": null,
            "border": null,
            "bottom": null,
            "display": null,
            "flex": null,
            "flex_flow": null,
            "grid_area": null,
            "grid_auto_columns": null,
            "grid_auto_flow": null,
            "grid_auto_rows": null,
            "grid_column": null,
            "grid_gap": null,
            "grid_row": null,
            "grid_template_areas": null,
            "grid_template_columns": null,
            "grid_template_rows": null,
            "height": null,
            "justify_content": null,
            "justify_items": null,
            "left": null,
            "margin": null,
            "max_height": null,
            "max_width": null,
            "min_height": null,
            "min_width": null,
            "object_fit": null,
            "object_position": null,
            "order": null,
            "overflow": null,
            "overflow_x": null,
            "overflow_y": null,
            "padding": null,
            "right": null,
            "top": null,
            "visibility": null,
            "width": null
          }
        },
        "65f3829da2eb40769d43a151fc96a1c7": {
          "model_module": "@jupyter-widgets/controls",
          "model_name": "DescriptionStyleModel",
          "model_module_version": "1.5.0",
          "state": {
            "_model_module": "@jupyter-widgets/controls",
            "_model_module_version": "1.5.0",
            "_model_name": "DescriptionStyleModel",
            "_view_count": null,
            "_view_module": "@jupyter-widgets/base",
            "_view_module_version": "1.2.0",
            "_view_name": "StyleView",
            "description_width": ""
          }
        },
        "6f8331ba8e944604bf91e2f0f9a229e7": {
          "model_module": "@jupyter-widgets/controls",
          "model_name": "HBoxModel",
          "model_module_version": "1.5.0",
          "state": {
            "_dom_classes": [],
            "_model_module": "@jupyter-widgets/controls",
            "_model_module_version": "1.5.0",
            "_model_name": "HBoxModel",
            "_view_count": null,
            "_view_module": "@jupyter-widgets/controls",
            "_view_module_version": "1.5.0",
            "_view_name": "HBoxView",
            "box_style": "",
            "children": [
              "IPY_MODEL_f1a5c7fc5cb947918ac421c054e3cea8",
              "IPY_MODEL_9826b8a3bfdf45e7b4153cacbbfc61ad",
              "IPY_MODEL_292688976a9d4f91aa7b117ed8fdfe88"
            ],
            "layout": "IPY_MODEL_8f2e1f4d73444cf8b2f2ff461479d04a"
          }
        },
        "f1a5c7fc5cb947918ac421c054e3cea8": {
          "model_module": "@jupyter-widgets/controls",
          "model_name": "HTMLModel",
          "model_module_version": "1.5.0",
          "state": {
            "_dom_classes": [],
            "_model_module": "@jupyter-widgets/controls",
            "_model_module_version": "1.5.0",
            "_model_name": "HTMLModel",
            "_view_count": null,
            "_view_module": "@jupyter-widgets/controls",
            "_view_module_version": "1.5.0",
            "_view_name": "HTMLView",
            "description": "",
            "description_tooltip": null,
            "layout": "IPY_MODEL_7f72db85c94f467e9225530e5f7f63de",
            "placeholder": "​",
            "style": "IPY_MODEL_0944305dba474aaea44792a43c717202",
            "value": "tokenizer.json: 100%"
          }
        },
        "9826b8a3bfdf45e7b4153cacbbfc61ad": {
          "model_module": "@jupyter-widgets/controls",
          "model_name": "FloatProgressModel",
          "model_module_version": "1.5.0",
          "state": {
            "_dom_classes": [],
            "_model_module": "@jupyter-widgets/controls",
            "_model_module_version": "1.5.0",
            "_model_name": "FloatProgressModel",
            "_view_count": null,
            "_view_module": "@jupyter-widgets/controls",
            "_view_module_version": "1.5.0",
            "_view_name": "ProgressView",
            "bar_style": "success",
            "description": "",
            "description_tooltip": null,
            "layout": "IPY_MODEL_91f93c6bd8f548d19a3be3188ac3aec7",
            "max": 466062,
            "min": 0,
            "orientation": "horizontal",
            "style": "IPY_MODEL_56ca17d381364a9ab0bb6126043a3815",
            "value": 466062
          }
        },
        "292688976a9d4f91aa7b117ed8fdfe88": {
          "model_module": "@jupyter-widgets/controls",
          "model_name": "HTMLModel",
          "model_module_version": "1.5.0",
          "state": {
            "_dom_classes": [],
            "_model_module": "@jupyter-widgets/controls",
            "_model_module_version": "1.5.0",
            "_model_name": "HTMLModel",
            "_view_count": null,
            "_view_module": "@jupyter-widgets/controls",
            "_view_module_version": "1.5.0",
            "_view_name": "HTMLView",
            "description": "",
            "description_tooltip": null,
            "layout": "IPY_MODEL_5dcc7b9e6ac14beb8681cf1afcf4a40c",
            "placeholder": "​",
            "style": "IPY_MODEL_5d78a0a00ec84ea8986805a5982d5287",
            "value": " 466k/466k [00:00&lt;00:00, 1.90MB/s]"
          }
        },
        "8f2e1f4d73444cf8b2f2ff461479d04a": {
          "model_module": "@jupyter-widgets/base",
          "model_name": "LayoutModel",
          "model_module_version": "1.2.0",
          "state": {
            "_model_module": "@jupyter-widgets/base",
            "_model_module_version": "1.2.0",
            "_model_name": "LayoutModel",
            "_view_count": null,
            "_view_module": "@jupyter-widgets/base",
            "_view_module_version": "1.2.0",
            "_view_name": "LayoutView",
            "align_content": null,
            "align_items": null,
            "align_self": null,
            "border": null,
            "bottom": null,
            "display": null,
            "flex": null,
            "flex_flow": null,
            "grid_area": null,
            "grid_auto_columns": null,
            "grid_auto_flow": null,
            "grid_auto_rows": null,
            "grid_column": null,
            "grid_gap": null,
            "grid_row": null,
            "grid_template_areas": null,
            "grid_template_columns": null,
            "grid_template_rows": null,
            "height": null,
            "justify_content": null,
            "justify_items": null,
            "left": null,
            "margin": null,
            "max_height": null,
            "max_width": null,
            "min_height": null,
            "min_width": null,
            "object_fit": null,
            "object_position": null,
            "order": null,
            "overflow": null,
            "overflow_x": null,
            "overflow_y": null,
            "padding": null,
            "right": null,
            "top": null,
            "visibility": null,
            "width": null
          }
        },
        "7f72db85c94f467e9225530e5f7f63de": {
          "model_module": "@jupyter-widgets/base",
          "model_name": "LayoutModel",
          "model_module_version": "1.2.0",
          "state": {
            "_model_module": "@jupyter-widgets/base",
            "_model_module_version": "1.2.0",
            "_model_name": "LayoutModel",
            "_view_count": null,
            "_view_module": "@jupyter-widgets/base",
            "_view_module_version": "1.2.0",
            "_view_name": "LayoutView",
            "align_content": null,
            "align_items": null,
            "align_self": null,
            "border": null,
            "bottom": null,
            "display": null,
            "flex": null,
            "flex_flow": null,
            "grid_area": null,
            "grid_auto_columns": null,
            "grid_auto_flow": null,
            "grid_auto_rows": null,
            "grid_column": null,
            "grid_gap": null,
            "grid_row": null,
            "grid_template_areas": null,
            "grid_template_columns": null,
            "grid_template_rows": null,
            "height": null,
            "justify_content": null,
            "justify_items": null,
            "left": null,
            "margin": null,
            "max_height": null,
            "max_width": null,
            "min_height": null,
            "min_width": null,
            "object_fit": null,
            "object_position": null,
            "order": null,
            "overflow": null,
            "overflow_x": null,
            "overflow_y": null,
            "padding": null,
            "right": null,
            "top": null,
            "visibility": null,
            "width": null
          }
        },
        "0944305dba474aaea44792a43c717202": {
          "model_module": "@jupyter-widgets/controls",
          "model_name": "DescriptionStyleModel",
          "model_module_version": "1.5.0",
          "state": {
            "_model_module": "@jupyter-widgets/controls",
            "_model_module_version": "1.5.0",
            "_model_name": "DescriptionStyleModel",
            "_view_count": null,
            "_view_module": "@jupyter-widgets/base",
            "_view_module_version": "1.2.0",
            "_view_name": "StyleView",
            "description_width": ""
          }
        },
        "91f93c6bd8f548d19a3be3188ac3aec7": {
          "model_module": "@jupyter-widgets/base",
          "model_name": "LayoutModel",
          "model_module_version": "1.2.0",
          "state": {
            "_model_module": "@jupyter-widgets/base",
            "_model_module_version": "1.2.0",
            "_model_name": "LayoutModel",
            "_view_count": null,
            "_view_module": "@jupyter-widgets/base",
            "_view_module_version": "1.2.0",
            "_view_name": "LayoutView",
            "align_content": null,
            "align_items": null,
            "align_self": null,
            "border": null,
            "bottom": null,
            "display": null,
            "flex": null,
            "flex_flow": null,
            "grid_area": null,
            "grid_auto_columns": null,
            "grid_auto_flow": null,
            "grid_auto_rows": null,
            "grid_column": null,
            "grid_gap": null,
            "grid_row": null,
            "grid_template_areas": null,
            "grid_template_columns": null,
            "grid_template_rows": null,
            "height": null,
            "justify_content": null,
            "justify_items": null,
            "left": null,
            "margin": null,
            "max_height": null,
            "max_width": null,
            "min_height": null,
            "min_width": null,
            "object_fit": null,
            "object_position": null,
            "order": null,
            "overflow": null,
            "overflow_x": null,
            "overflow_y": null,
            "padding": null,
            "right": null,
            "top": null,
            "visibility": null,
            "width": null
          }
        },
        "56ca17d381364a9ab0bb6126043a3815": {
          "model_module": "@jupyter-widgets/controls",
          "model_name": "ProgressStyleModel",
          "model_module_version": "1.5.0",
          "state": {
            "_model_module": "@jupyter-widgets/controls",
            "_model_module_version": "1.5.0",
            "_model_name": "ProgressStyleModel",
            "_view_count": null,
            "_view_module": "@jupyter-widgets/base",
            "_view_module_version": "1.2.0",
            "_view_name": "StyleView",
            "bar_color": null,
            "description_width": ""
          }
        },
        "5dcc7b9e6ac14beb8681cf1afcf4a40c": {
          "model_module": "@jupyter-widgets/base",
          "model_name": "LayoutModel",
          "model_module_version": "1.2.0",
          "state": {
            "_model_module": "@jupyter-widgets/base",
            "_model_module_version": "1.2.0",
            "_model_name": "LayoutModel",
            "_view_count": null,
            "_view_module": "@jupyter-widgets/base",
            "_view_module_version": "1.2.0",
            "_view_name": "LayoutView",
            "align_content": null,
            "align_items": null,
            "align_self": null,
            "border": null,
            "bottom": null,
            "display": null,
            "flex": null,
            "flex_flow": null,
            "grid_area": null,
            "grid_auto_columns": null,
            "grid_auto_flow": null,
            "grid_auto_rows": null,
            "grid_column": null,
            "grid_gap": null,
            "grid_row": null,
            "grid_template_areas": null,
            "grid_template_columns": null,
            "grid_template_rows": null,
            "height": null,
            "justify_content": null,
            "justify_items": null,
            "left": null,
            "margin": null,
            "max_height": null,
            "max_width": null,
            "min_height": null,
            "min_width": null,
            "object_fit": null,
            "object_position": null,
            "order": null,
            "overflow": null,
            "overflow_x": null,
            "overflow_y": null,
            "padding": null,
            "right": null,
            "top": null,
            "visibility": null,
            "width": null
          }
        },
        "5d78a0a00ec84ea8986805a5982d5287": {
          "model_module": "@jupyter-widgets/controls",
          "model_name": "DescriptionStyleModel",
          "model_module_version": "1.5.0",
          "state": {
            "_model_module": "@jupyter-widgets/controls",
            "_model_module_version": "1.5.0",
            "_model_name": "DescriptionStyleModel",
            "_view_count": null,
            "_view_module": "@jupyter-widgets/base",
            "_view_module_version": "1.2.0",
            "_view_name": "StyleView",
            "description_width": ""
          }
        }
      }
    }
  },
  "nbformat": 4,
  "nbformat_minor": 0
}